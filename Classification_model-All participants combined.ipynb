{
 "cells": [
  {
   "cell_type": "markdown",
   "id": "6479c77f",
   "metadata": {},
   "source": [
    "# Importing data"
   ]
  },
  {
   "cell_type": "code",
   "execution_count": 1,
   "id": "be4a0668",
   "metadata": {},
   "outputs": [],
   "source": [
    "import json;\n",
    "import pandas as pd;\n",
    "import numpy as np # linear algebra\n",
    "import matplotlib.pyplot as plt # data visualization\n",
    "import seaborn as sns # statistical data visualization\n",
    "import matplotlib.pyplot as plt; \n",
    "import numpy;\n",
    "from sklearn.neural_network import MLPRegressor\n",
    "from sklearn.model_selection import train_test_split, cross_validate\n",
    "from sklearn.metrics import mean_squared_error, r2_score, mean_absolute_error\n",
    "from sklearn.svm import SVR\n",
    "from sklearn import datasets, linear_model\n",
    "from sklearn.linear_model import LinearRegression, LogisticRegression\n",
    "from datetime import datetime\n",
    "from sklearn.ensemble import RandomForestClassifier, RandomForestRegressor, GradientBoostingClassifier, ExtraTreesClassifier\n",
    "from sklearn.datasets import make_classification\n",
    "import scikitplot as skplt\n",
    "from sklearn.decomposition import PCA\n",
    "from sklearn import metrics #Import scikit-learn metrics module for accuracy calculation\n",
    "from sklearn import tree"
   ]
  },
  {
   "cell_type": "code",
   "execution_count": 2,
   "id": "c71f1a54",
   "metadata": {},
   "outputs": [],
   "source": [
    "#p1\n",
    "moderately_active_minutes_p1 = pd.read_json('/Users/emmadriesse/AI Vak/pmdata/p01/fitbit/moderately_active_minutes.json')\n",
    "sleep_score_p1 = pd.read_csv('/Users/emmadriesse/AI Vak/pmdata/p01/fitbit/sleep_score.csv')\n",
    "very_active_minutes_p1 = pd.read_json('/Users/emmadriesse/AI Vak/pmdata/p01/fitbit/very_active_minutes.json')\n",
    "lightly_active_minutes_p1 = pd.read_json('/Users/emmadriesse/AI Vak/pmdata/p01/fitbit/lightly_active_minutes.json')\n",
    "wellness_p1 = pd.read_csv('/Users/emmadriesse/AI Vak/pmdata/p01/pmsys/wellness.csv')\n",
    "\n",
    "#p2\n",
    "moderately_active_minutes_p2 = pd.read_json('/Users/emmadriesse/AI Vak/pmdata/p02/fitbit/moderately_active_minutes.json')\n",
    "sleep_score_p2 = pd.read_csv('/Users/emmadriesse/AI Vak/pmdata/p02/fitbit/sleep_score.csv')\n",
    "very_active_minutes_p2 = pd.read_json('/Users/emmadriesse/AI Vak/pmdata/p02/fitbit/very_active_minutes.json')\n",
    "lightly_active_minutes_p2 = pd.read_json('/Users/emmadriesse/AI Vak/pmdata/p02/fitbit/lightly_active_minutes.json')\n",
    "wellness_p2 = pd.read_csv('/Users/emmadriesse/AI Vak/pmdata/p02/pmsys/wellness.csv')\n",
    "\n",
    "#p3\n",
    "moderately_active_minutes_p3 = pd.read_json('/Users/emmadriesse/AI Vak/pmdata/p03/fitbit/moderately_active_minutes.json')\n",
    "sleep_score_p3 = pd.read_csv('/Users/emmadriesse/AI Vak/pmdata/p03/fitbit/sleep_score.csv')\n",
    "very_active_minutes_p3 = pd.read_json('/Users/emmadriesse/AI Vak/pmdata/p03/fitbit/very_active_minutes.json')\n",
    "lightly_active_minutes_p3 = pd.read_json('/Users/emmadriesse/AI Vak/pmdata/p03/fitbit/lightly_active_minutes.json')\n",
    "wellness_p3 = pd.read_csv('/Users/emmadriesse/AI Vak/pmdata/p03/pmsys/wellness.csv')\n",
    "\n",
    "#p4\n",
    "moderately_active_minutes_p4 = pd.read_json('/Users/emmadriesse/AI Vak/pmdata/p04/fitbit/moderately_active_minutes.json')\n",
    "sleep_score_p4 = pd.read_csv('/Users/emmadriesse/AI Vak/pmdata/p04/fitbit/sleep_score.csv')\n",
    "very_active_minutes_p4 = pd.read_json('/Users/emmadriesse/AI Vak/pmdata/p04/fitbit/very_active_minutes.json')\n",
    "lightly_active_minutes_p4 = pd.read_json('/Users/emmadriesse/AI Vak/pmdata/p04/fitbit/lightly_active_minutes.json')\n",
    "wellness_p4 = pd.read_csv('/Users/emmadriesse/AI Vak/pmdata/p04/pmsys/wellness.csv')\n",
    "\n",
    "#p5\n",
    "moderately_active_minutes_p5 = pd.read_json('/Users/emmadriesse/AI Vak/pmdata/p05/fitbit/moderately_active_minutes.json')\n",
    "sleep_score_p5 = pd.read_csv('/Users/emmadriesse/AI Vak/pmdata/p05/fitbit/sleep_score.csv')\n",
    "very_active_minutes_p5 = pd.read_json('/Users/emmadriesse/AI Vak/pmdata/p05/fitbit/very_active_minutes.json')\n",
    "lightly_active_minutes_p5 = pd.read_json('/Users/emmadriesse/AI Vak/pmdata/p05/fitbit/lightly_active_minutes.json')\n",
    "wellness_p5 = pd.read_csv('/Users/emmadriesse/AI Vak/pmdata/p05/pmsys/wellness.csv')\n",
    "\n",
    "#p6\n",
    "moderately_active_minutes_p6 = pd.read_json('/Users/emmadriesse/AI Vak/pmdata/p06/fitbit/moderately_active_minutes.json')\n",
    "sleep_score_p6 = pd.read_csv('/Users/emmadriesse/AI Vak/pmdata/p06/fitbit/sleep_score.csv')\n",
    "very_active_minutes_p6 = pd.read_json('/Users/emmadriesse/AI Vak/pmdata/p06/fitbit/very_active_minutes.json')\n",
    "lightly_active_minutes_p6 = pd.read_json('/Users/emmadriesse/AI Vak/pmdata/p06/fitbit/lightly_active_minutes.json')\n",
    "wellness_p6 = pd.read_csv('/Users/emmadriesse/AI Vak/pmdata/p06/pmsys/wellness.csv')\n",
    "\n",
    "#7\n",
    "moderately_active_minutes_p7 = pd.read_json('/Users/emmadriesse/AI Vak/pmdata/p07/fitbit/moderately_active_minutes.json')\n",
    "sleep_score_p7 = pd.read_csv('/Users/emmadriesse/AI Vak/pmdata/p07/fitbit/sleep_score.csv')\n",
    "very_active_minutes_p7 = pd.read_json('/Users/emmadriesse/AI Vak/pmdata/p07/fitbit/very_active_minutes.json')\n",
    "lightly_active_minutes_p7 = pd.read_json('/Users/emmadriesse/AI Vak/pmdata/p07/fitbit/lightly_active_minutes.json')\n",
    "wellness_p7 = pd.read_csv('/Users/emmadriesse/AI Vak/pmdata/p07/pmsys/wellness.csv')\n",
    "\n",
    "#8\n",
    "moderately_active_minutes_p8 = pd.read_json('/Users/emmadriesse/AI Vak/pmdata/p08/fitbit/moderately_active_minutes.json')\n",
    "sleep_score_p8 = pd.read_csv('/Users/emmadriesse/AI Vak/pmdata/p08/fitbit/sleep_score.csv')\n",
    "very_active_minutes_p8 = pd.read_json('/Users/emmadriesse/AI Vak/pmdata/p08/fitbit/very_active_minutes.json')\n",
    "lightly_active_minutes_p8 = pd.read_json('/Users/emmadriesse/AI Vak/pmdata/p08/fitbit/lightly_active_minutes.json')\n",
    "wellness_p8 = pd.read_csv('/Users/emmadriesse/AI Vak/pmdata/p08/pmsys/wellness.csv')\n",
    "\n",
    "#9\n",
    "moderately_active_minutes_p9 = pd.read_json('/Users/emmadriesse/AI Vak/pmdata/p09/fitbit/moderately_active_minutes.json')\n",
    "sleep_score_p9 = pd.read_csv('/Users/emmadriesse/AI Vak/pmdata/p09/fitbit/sleep_score.csv')\n",
    "very_active_minutes_p9 = pd.read_json('/Users/emmadriesse/AI Vak/pmdata/p09/fitbit/very_active_minutes.json')\n",
    "lightly_active_minutes_p9 = pd.read_json('/Users/emmadriesse/AI Vak/pmdata/p09/fitbit/lightly_active_minutes.json')\n",
    "wellness_p9 = pd.read_csv('/Users/emmadriesse/AI Vak/pmdata/p09/pmsys/wellness.csv')\n",
    "\n",
    "#10\n",
    "moderately_active_minutes_p10 = pd.read_json('/Users/emmadriesse/AI Vak/pmdata/p10/fitbit/moderately_active_minutes.json')\n",
    "sleep_score_p10 = pd.read_csv('/Users/emmadriesse/AI Vak/pmdata/p10/fitbit/sleep_score.csv')\n",
    "very_active_minutes_p10 = pd.read_json('/Users/emmadriesse/AI Vak/pmdata/p10/fitbit/very_active_minutes.json')\n",
    "lightly_active_minutes_p10 = pd.read_json('/Users/emmadriesse/AI Vak/pmdata/p10/fitbit/lightly_active_minutes.json')\n",
    "wellness_p10 = pd.read_csv('/Users/emmadriesse/AI Vak/pmdata/p10/pmsys/wellness.csv')\n",
    "\n",
    "#11\n",
    "moderately_active_minutes_p11 = pd.read_json('/Users/emmadriesse/AI Vak/pmdata/p11/fitbit/moderately_active_minutes.json')\n",
    "sleep_score_p11 = pd.read_csv('/Users/emmadriesse/AI Vak/pmdata/p11/fitbit/sleep_score.csv')\n",
    "very_active_minutes_p11 = pd.read_json('/Users/emmadriesse/AI Vak/pmdata/p11/fitbit/very_active_minutes.json')\n",
    "lightly_active_minutes_p11 = pd.read_json('/Users/emmadriesse/AI Vak/pmdata/p11/fitbit/lightly_active_minutes.json')\n",
    "wellness_p11 = pd.read_csv('/Users/emmadriesse/AI Vak/pmdata/p11/pmsys/wellness.csv')\n",
    "\n",
    "#12\n",
    "moderately_active_minutes_p12 = pd.read_json('/Users/emmadriesse/AI Vak/pmdata/p12/fitbit/moderately_active_minutes.json')\n",
    "sleep_score_p12 = pd.read_csv('/Users/emmadriesse/AI Vak/pmdata/p12/fitbit/sleep_score.csv')\n",
    "very_active_minutes_p12 = pd.read_json('/Users/emmadriesse/AI Vak/pmdata/p12/fitbit/very_active_minutes.json')\n",
    "#lightly_active_minutes_p12 = pd.read_json('/Users/emmadriesse/AI Vak/pmdata/p12/fitbit/lightly_active_minutes.json')\n",
    "wellness_p12 = pd.read_csv('/Users/emmadriesse/AI Vak/pmdata/p12/pmsys/wellness.csv')\n",
    "\n",
    "#13\n",
    "moderately_active_minutes_p13 = pd.read_json('/Users/emmadriesse/AI Vak/pmdata/p13/fitbit/moderately_active_minutes.json')\n",
    "sleep_score_p13 = pd.read_csv('/Users/emmadriesse/AI Vak/pmdata/p13/fitbit/sleep_score.csv')\n",
    "very_active_minutes_p13 = pd.read_json('/Users/emmadriesse/AI Vak/pmdata/p13/fitbit/very_active_minutes.json')\n",
    "lightly_active_minutes_p13 = pd.read_json('/Users/emmadriesse/AI Vak/pmdata/p13/fitbit/lightly_active_minutes.json')\n",
    "wellness_p13 = pd.read_csv('/Users/emmadriesse/AI Vak/pmdata/p13/pmsys/wellness.csv')\n",
    "\n",
    "#14\n",
    "moderately_active_minutes_p14 = pd.read_json('/Users/emmadriesse/AI Vak/pmdata/p14/fitbit/moderately_active_minutes.json')\n",
    "sleep_score_p14 = pd.read_csv('/Users/emmadriesse/AI Vak/pmdata/p14/fitbit/sleep_score.csv')\n",
    "very_active_minutes_p14 = pd.read_json('/Users/emmadriesse/AI Vak/pmdata/p14/fitbit/very_active_minutes.json')\n",
    "lightly_active_minutes_p14 = pd.read_json('/Users/emmadriesse/AI Vak/pmdata/p14/fitbit/lightly_active_minutes.json')\n",
    "wellness_p14 = pd.read_csv('/Users/emmadriesse/AI Vak/pmdata/p14/pmsys/wellness.csv')\n",
    "\n",
    "#15\n",
    "moderately_active_minutes_p15 = pd.read_json('/Users/emmadriesse/AI Vak/pmdata/p15/fitbit/moderately_active_minutes.json')\n",
    "sleep_score_p15 = pd.read_csv('/Users/emmadriesse/AI Vak/pmdata/p15/fitbit/sleep_score.csv')\n",
    "very_active_minutes_p15 = pd.read_json('/Users/emmadriesse/AI Vak/pmdata/p15/fitbit/very_active_minutes.json')\n",
    "lightly_active_minutes_p15 = pd.read_json('/Users/emmadriesse/AI Vak/pmdata/p15/fitbit/lightly_active_minutes.json')\n",
    "wellness_p15 = pd.read_csv('/Users/emmadriesse/AI Vak/pmdata/p15/pmsys/wellness.csv')\n",
    "\n",
    "#16\n",
    "moderately_active_minutes_p16 = pd.read_json('/Users/emmadriesse/AI Vak/pmdata/p16/fitbit/moderately_active_minutes.json')\n",
    "sleep_score_p16 = pd.read_csv('/Users/emmadriesse/AI Vak/pmdata/p16/fitbit/sleep_score.csv')\n",
    "very_active_minutes_p16 = pd.read_json('/Users/emmadriesse/AI Vak/pmdata/p16/fitbit/very_active_minutes.json')\n",
    "lightly_active_minutes_p16 = pd.read_json('/Users/emmadriesse/AI Vak/pmdata/p16/fitbit/lightly_active_minutes.json')\n",
    "wellness_p16 = pd.read_csv('/Users/emmadriesse/AI Vak/pmdata/p16/pmsys/wellness.csv')"
   ]
  },
  {
   "cell_type": "markdown",
   "id": "7c718f8e",
   "metadata": {},
   "source": [
    "# Adapting sleep_score data"
   ]
  },
  {
   "cell_type": "code",
   "execution_count": 3,
   "id": "855f00f5",
   "metadata": {},
   "outputs": [],
   "source": [
    "def convert_datetime(dt):\n",
    "    return datetime.strftime(dt, '%Y-%m-%d')"
   ]
  },
  {
   "cell_type": "code",
   "execution_count": 4,
   "id": "872df8a6",
   "metadata": {},
   "outputs": [],
   "source": [
    "sleep_score_p1['timestamp'] = pd.to_datetime(sleep_score_p1['timestamp'])\n",
    "sleep_score_p1['dateTime'] = pd.to_datetime(sleep_score_p1['timestamp']).dt.date\n",
    "\n",
    "sleep_score_overall_p1 = sleep_score_p1[['dateTime','overall_score']]\n",
    "sleep_score_overall_p1 = sleep_score_overall_p1.rename(columns={\"overall_score\":\"sleep_score\"})\n",
    "\n",
    "sleep_score_p1['dateTime']= sleep_score_p1['dateTime'].apply(convert_datetime)\n",
    "sleep_score_p1[\"dateTime\"] = pd.to_datetime(sleep_score_p1[\"dateTime\"])"
   ]
  },
  {
   "cell_type": "code",
   "execution_count": 5,
   "id": "2bd11b9d",
   "metadata": {},
   "outputs": [],
   "source": [
    "sleep_score_p2['timestamp'] = pd.to_datetime(sleep_score_p2['timestamp'])\n",
    "sleep_score_p2['dateTime'] = pd.to_datetime(sleep_score_p2['timestamp']).dt.date\n",
    "\n",
    "sleep_score_overall_p2 = sleep_score_p2[['dateTime','overall_score']]\n",
    "sleep_score_overall_p2 = sleep_score_overall_p2.rename(columns={\"overall_score\":\"sleep_score\"})\n",
    "\n",
    "sleep_score_p2['dateTime']= sleep_score_p2['dateTime'].apply(convert_datetime)\n",
    "sleep_score_p2[\"dateTime\"] = pd.to_datetime(sleep_score_p2[\"dateTime\"])"
   ]
  },
  {
   "cell_type": "code",
   "execution_count": 6,
   "id": "38a67699",
   "metadata": {},
   "outputs": [],
   "source": [
    "sleep_score_p3['timestamp'] = pd.to_datetime(sleep_score_p3['timestamp'])\n",
    "sleep_score_p3['dateTime'] = pd.to_datetime(sleep_score_p3['timestamp']).dt.date\n",
    "\n",
    "sleep_score_overall_p3 = sleep_score_p3[['dateTime','overall_score']]\n",
    "sleep_score_overall_p3 = sleep_score_overall_p3.rename(columns={\"overall_score\":\"sleep_score\"})\n",
    "\n",
    "sleep_score_p3['dateTime']= sleep_score_p3['dateTime'].apply(convert_datetime)\n",
    "sleep_score_p3[\"dateTime\"] = pd.to_datetime(sleep_score_p3[\"dateTime\"])"
   ]
  },
  {
   "cell_type": "code",
   "execution_count": 7,
   "id": "591b8942",
   "metadata": {},
   "outputs": [],
   "source": [
    "sleep_score_p4['timestamp'] = pd.to_datetime(sleep_score_p4['timestamp'])\n",
    "sleep_score_p4['dateTime'] = pd.to_datetime(sleep_score_p4['timestamp']).dt.date\n",
    "\n",
    "sleep_score_overall_p4 = sleep_score_p4[['dateTime','overall_score']]\n",
    "sleep_score_overall_p4 = sleep_score_overall_p4.rename(columns={\"overall_score\":\"sleep_score\"})\n",
    "\n",
    "sleep_score_p4['dateTime']= sleep_score_p4['dateTime'].apply(convert_datetime)\n",
    "sleep_score_p4[\"dateTime\"] = pd.to_datetime(sleep_score_p4[\"dateTime\"])"
   ]
  },
  {
   "cell_type": "code",
   "execution_count": 8,
   "id": "eccbc31e",
   "metadata": {},
   "outputs": [],
   "source": [
    "sleep_score_p5['timestamp'] = pd.to_datetime(sleep_score_p5['timestamp'])\n",
    "sleep_score_p5['dateTime'] = pd.to_datetime(sleep_score_p5['timestamp']).dt.date\n",
    "\n",
    "sleep_score_overall_p5 = sleep_score_p5[['dateTime','overall_score']]\n",
    "sleep_score_overall_p5 = sleep_score_overall_p5.rename(columns={\"overall_score\":\"sleep_score\"})\n",
    "\n",
    "sleep_score_p5['dateTime']= sleep_score_p5['dateTime'].apply(convert_datetime)\n",
    "sleep_score_p5[\"dateTime\"] = pd.to_datetime(sleep_score_p5[\"dateTime\"])"
   ]
  },
  {
   "cell_type": "code",
   "execution_count": 9,
   "id": "e2f5ace5",
   "metadata": {},
   "outputs": [],
   "source": [
    "sleep_score_p6['timestamp'] = pd.to_datetime(sleep_score_p6['timestamp'])\n",
    "sleep_score_p6['dateTime'] = pd.to_datetime(sleep_score_p6['timestamp']).dt.date\n",
    "\n",
    "sleep_score_overall_p6 = sleep_score_p6[['dateTime','overall_score']]\n",
    "sleep_score_overall_p6 = sleep_score_overall_p6.rename(columns={\"overall_score\":\"sleep_score\"})\n",
    "\n",
    "sleep_score_p6['dateTime']= sleep_score_p6['dateTime'].apply(convert_datetime)\n",
    "sleep_score_p6[\"dateTime\"] = pd.to_datetime(sleep_score_p6[\"dateTime\"])"
   ]
  },
  {
   "cell_type": "code",
   "execution_count": 10,
   "id": "e3b6ec8f",
   "metadata": {},
   "outputs": [],
   "source": [
    "sleep_score_p7['timestamp'] = pd.to_datetime(sleep_score_p7['timestamp'])\n",
    "sleep_score_p7['dateTime'] = pd.to_datetime(sleep_score_p7['timestamp']).dt.date\n",
    "\n",
    "sleep_score_overall_p7 = sleep_score_p7[['dateTime','overall_score']]\n",
    "sleep_score_overall_p7 = sleep_score_overall_p7.rename(columns={\"overall_score\":\"sleep_score\"})\n",
    "\n",
    "sleep_score_p7['dateTime']= sleep_score_p7['dateTime'].apply(convert_datetime)\n",
    "sleep_score_p7[\"dateTime\"] = pd.to_datetime(sleep_score_p7[\"dateTime\"])"
   ]
  },
  {
   "cell_type": "code",
   "execution_count": 11,
   "id": "35539793",
   "metadata": {},
   "outputs": [],
   "source": [
    "sleep_score_p8['timestamp'] = pd.to_datetime(sleep_score_p8['timestamp'])\n",
    "sleep_score_p8['dateTime'] = pd.to_datetime(sleep_score_p8['timestamp']).dt.date\n",
    "\n",
    "sleep_score_overall_p8 = sleep_score_p8[['dateTime','overall_score']]\n",
    "sleep_score_overall_p8 = sleep_score_overall_p8.rename(columns={\"overall_score\":\"sleep_score\"})\n",
    "\n",
    "sleep_score_p8['dateTime']= sleep_score_p8['dateTime'].apply(convert_datetime)\n",
    "sleep_score_p8[\"dateTime\"] = pd.to_datetime(sleep_score_p8[\"dateTime\"])"
   ]
  },
  {
   "cell_type": "code",
   "execution_count": 12,
   "id": "5cfc5b34",
   "metadata": {},
   "outputs": [],
   "source": [
    "sleep_score_p9['timestamp'] = pd.to_datetime(sleep_score_p9['timestamp'])\n",
    "sleep_score_p9['dateTime'] = pd.to_datetime(sleep_score_p9['timestamp']).dt.date\n",
    "\n",
    "sleep_score_overall_p9 = sleep_score_p9[['dateTime','overall_score']]\n",
    "sleep_score_overall_p9 = sleep_score_overall_p9.rename(columns={\"overall_score\":\"sleep_score\"})\n",
    "\n",
    "sleep_score_p9['dateTime']= sleep_score_p9['dateTime'].apply(convert_datetime)\n",
    "sleep_score_p9[\"dateTime\"] = pd.to_datetime(sleep_score_p9[\"dateTime\"])"
   ]
  },
  {
   "cell_type": "code",
   "execution_count": 13,
   "id": "5976b539",
   "metadata": {},
   "outputs": [],
   "source": [
    "sleep_score_p10['timestamp'] = pd.to_datetime(sleep_score_p10['timestamp'])\n",
    "sleep_score_p10['dateTime'] = pd.to_datetime(sleep_score_p10['timestamp']).dt.date\n",
    "\n",
    "sleep_score_overall_p10 = sleep_score_p10[['dateTime','overall_score']]\n",
    "sleep_score_overall_p10 = sleep_score_overall_p10.rename(columns={\"overall_score\":\"sleep_score\"})\n",
    "\n",
    "sleep_score_p10['dateTime']= sleep_score_p10['dateTime'].apply(convert_datetime)\n",
    "sleep_score_p10[\"dateTime\"] = pd.to_datetime(sleep_score_p10[\"dateTime\"])"
   ]
  },
  {
   "cell_type": "code",
   "execution_count": 14,
   "id": "f8a406f9",
   "metadata": {},
   "outputs": [],
   "source": [
    "sleep_score_p11['timestamp'] = pd.to_datetime(sleep_score_p11['timestamp'])\n",
    "sleep_score_p11['dateTime'] = pd.to_datetime(sleep_score_p11['timestamp']).dt.date\n",
    "\n",
    "sleep_score_overall_p11 = sleep_score_p11[['dateTime','overall_score']]\n",
    "sleep_score_overall_p11 = sleep_score_overall_p11.rename(columns={\"overall_score\":\"sleep_score\"})\n",
    "\n",
    "sleep_score_p11['dateTime']= sleep_score_p11['dateTime'].apply(convert_datetime)\n",
    "sleep_score_p11[\"dateTime\"] = pd.to_datetime(sleep_score_p11[\"dateTime\"])"
   ]
  },
  {
   "cell_type": "code",
   "execution_count": 15,
   "id": "af8978c1",
   "metadata": {},
   "outputs": [],
   "source": [
    "sleep_score_p12['timestamp'] = pd.to_datetime(sleep_score_p12['timestamp'])\n",
    "sleep_score_p12['dateTime'] = pd.to_datetime(sleep_score_p12['timestamp']).dt.date\n",
    "\n",
    "sleep_score_overall_p12 = sleep_score_p12[['dateTime','overall_score']]\n",
    "sleep_score_overall_p12 = sleep_score_overall_p12.rename(columns={\"overall_score\":\"sleep_score\"})\n",
    "\n",
    "sleep_score_p12['dateTime']= sleep_score_p12['dateTime'].apply(convert_datetime)\n",
    "sleep_score_p12[\"dateTime\"] = pd.to_datetime(sleep_score_p12[\"dateTime\"])"
   ]
  },
  {
   "cell_type": "code",
   "execution_count": 16,
   "id": "c911ea50",
   "metadata": {},
   "outputs": [],
   "source": [
    "sleep_score_p13['timestamp'] = pd.to_datetime(sleep_score_p13['timestamp'])\n",
    "sleep_score_p13['dateTime'] = pd.to_datetime(sleep_score_p13['timestamp']).dt.date\n",
    "\n",
    "sleep_score_overall_p13 = sleep_score_p13[['dateTime','overall_score']]\n",
    "sleep_score_overall_p13 = sleep_score_overall_p13.rename(columns={\"overall_score\":\"sleep_score\"})\n",
    "\n",
    "sleep_score_p13['dateTime']= sleep_score_p13['dateTime'].apply(convert_datetime)\n",
    "sleep_score_p13[\"dateTime\"] = pd.to_datetime(sleep_score_p13[\"dateTime\"])"
   ]
  },
  {
   "cell_type": "code",
   "execution_count": 17,
   "id": "32e1c41e",
   "metadata": {},
   "outputs": [],
   "source": [
    "sleep_score_p14['timestamp'] = pd.to_datetime(sleep_score_p14['timestamp'])\n",
    "sleep_score_p14['dateTime'] = pd.to_datetime(sleep_score_p14['timestamp']).dt.date\n",
    "\n",
    "sleep_score_overall_p14 = sleep_score_p14[['dateTime','overall_score']]\n",
    "sleep_score_overall_p14 = sleep_score_overall_p14.rename(columns={\"overall_score\":\"sleep_score\"})\n",
    "\n",
    "sleep_score_p14['dateTime']= sleep_score_p14['dateTime'].apply(convert_datetime)\n",
    "sleep_score_p14[\"dateTime\"] = pd.to_datetime(sleep_score_p14[\"dateTime\"])"
   ]
  },
  {
   "cell_type": "code",
   "execution_count": 18,
   "id": "6970f7d5",
   "metadata": {},
   "outputs": [],
   "source": [
    "sleep_score_p15['timestamp'] = pd.to_datetime(sleep_score_p15['timestamp'])\n",
    "sleep_score_p15['dateTime'] = pd.to_datetime(sleep_score_p15['timestamp']).dt.date\n",
    "\n",
    "sleep_score_overall_p15 = sleep_score_p15[['dateTime','overall_score']]\n",
    "sleep_score_overall_p15 = sleep_score_overall_p15.rename(columns={\"overall_score\":\"sleep_score\"})\n",
    "\n",
    "sleep_score_p15['dateTime']= sleep_score_p15['dateTime'].apply(convert_datetime)\n",
    "sleep_score_p15[\"dateTime\"] = pd.to_datetime(sleep_score_p15[\"dateTime\"])"
   ]
  },
  {
   "cell_type": "code",
   "execution_count": 19,
   "id": "23419f8e",
   "metadata": {},
   "outputs": [],
   "source": [
    "sleep_score_p16['timestamp'] = pd.to_datetime(sleep_score_p16['timestamp'])\n",
    "sleep_score_p16['dateTime'] = pd.to_datetime(sleep_score_p16['timestamp']).dt.date\n",
    "\n",
    "sleep_score_overall_p16 = sleep_score_p16[['dateTime','overall_score']]\n",
    "sleep_score_overall_p16 = sleep_score_overall_p16.rename(columns={\"overall_score\":\"sleep_score\"})\n",
    "\n",
    "sleep_score_p16['dateTime']= sleep_score_p16['dateTime'].apply(convert_datetime)\n",
    "sleep_score_p16[\"dateTime\"] = pd.to_datetime(sleep_score_p16[\"dateTime\"])"
   ]
  },
  {
   "cell_type": "markdown",
   "id": "43c16bd9",
   "metadata": {},
   "source": [
    "# Adapting active_minutes data"
   ]
  },
  {
   "cell_type": "code",
   "execution_count": 20,
   "id": "a3fb3409",
   "metadata": {},
   "outputs": [],
   "source": [
    "very_active_minutes_p1[\"dateTime\"] = pd.to_datetime(very_active_minutes_p1[\"dateTime\"])\n",
    "lightly_active_minutes_p1[\"dateTime\"] = pd.to_datetime(lightly_active_minutes_p1[\"dateTime\"])\n",
    "moderately_active_minutes_p1[\"dateTime\"] = pd.to_datetime(moderately_active_minutes_p1[\"dateTime\"])"
   ]
  },
  {
   "cell_type": "code",
   "execution_count": 21,
   "id": "4d6b0aa1",
   "metadata": {},
   "outputs": [],
   "source": [
    "very_active_minutes_p2[\"dateTime\"] = pd.to_datetime(very_active_minutes_p2[\"dateTime\"])\n",
    "lightly_active_minutes_p2[\"dateTime\"] = pd.to_datetime(lightly_active_minutes_p2[\"dateTime\"])\n",
    "moderately_active_minutes_p2[\"dateTime\"] = pd.to_datetime(moderately_active_minutes_p2[\"dateTime\"])"
   ]
  },
  {
   "cell_type": "code",
   "execution_count": 22,
   "id": "3970958a",
   "metadata": {},
   "outputs": [],
   "source": [
    "very_active_minutes_p3[\"dateTime\"] = pd.to_datetime(very_active_minutes_p3[\"dateTime\"])\n",
    "lightly_active_minutes_p3[\"dateTime\"] = pd.to_datetime(lightly_active_minutes_p3[\"dateTime\"])\n",
    "moderately_active_minutes_p3[\"dateTime\"] = pd.to_datetime(moderately_active_minutes_p3[\"dateTime\"])"
   ]
  },
  {
   "cell_type": "code",
   "execution_count": 23,
   "id": "2eb8ae3a",
   "metadata": {},
   "outputs": [],
   "source": [
    "very_active_minutes_p4[\"dateTime\"] = pd.to_datetime(very_active_minutes_p4[\"dateTime\"])\n",
    "lightly_active_minutes_p4[\"dateTime\"] = pd.to_datetime(lightly_active_minutes_p4[\"dateTime\"])\n",
    "moderately_active_minutes_p4[\"dateTime\"] = pd.to_datetime(moderately_active_minutes_p4[\"dateTime\"])"
   ]
  },
  {
   "cell_type": "code",
   "execution_count": 24,
   "id": "6eb37311",
   "metadata": {},
   "outputs": [],
   "source": [
    "very_active_minutes_p5[\"dateTime\"] = pd.to_datetime(very_active_minutes_p5[\"dateTime\"])\n",
    "lightly_active_minutes_p5[\"dateTime\"] = pd.to_datetime(lightly_active_minutes_p5[\"dateTime\"])\n",
    "moderately_active_minutes_p5[\"dateTime\"] = pd.to_datetime(moderately_active_minutes_p5[\"dateTime\"])"
   ]
  },
  {
   "cell_type": "code",
   "execution_count": 25,
   "id": "a944b27f",
   "metadata": {},
   "outputs": [],
   "source": [
    "very_active_minutes_p6[\"dateTime\"] = pd.to_datetime(very_active_minutes_p6[\"dateTime\"])\n",
    "lightly_active_minutes_p6[\"dateTime\"] = pd.to_datetime(lightly_active_minutes_p6[\"dateTime\"])\n",
    "moderately_active_minutes_p6[\"dateTime\"] = pd.to_datetime(moderately_active_minutes_p6[\"dateTime\"])"
   ]
  },
  {
   "cell_type": "code",
   "execution_count": 26,
   "id": "41ee661b",
   "metadata": {},
   "outputs": [],
   "source": [
    "very_active_minutes_p7[\"dateTime\"] = pd.to_datetime(very_active_minutes_p7[\"dateTime\"])\n",
    "lightly_active_minutes_p7[\"dateTime\"] = pd.to_datetime(lightly_active_minutes_p7[\"dateTime\"])\n",
    "moderately_active_minutes_p7[\"dateTime\"] = pd.to_datetime(moderately_active_minutes_p7[\"dateTime\"])"
   ]
  },
  {
   "cell_type": "code",
   "execution_count": 27,
   "id": "5409503b",
   "metadata": {},
   "outputs": [],
   "source": [
    "very_active_minutes_p8[\"dateTime\"] = pd.to_datetime(very_active_minutes_p8[\"dateTime\"])\n",
    "lightly_active_minutes_p8[\"dateTime\"] = pd.to_datetime(lightly_active_minutes_p8[\"dateTime\"])\n",
    "moderately_active_minutes_p8[\"dateTime\"] = pd.to_datetime(moderately_active_minutes_p8[\"dateTime\"])"
   ]
  },
  {
   "cell_type": "code",
   "execution_count": 28,
   "id": "f5ad81eb",
   "metadata": {},
   "outputs": [],
   "source": [
    "very_active_minutes_p9[\"dateTime\"] = pd.to_datetime(very_active_minutes_p9[\"dateTime\"])\n",
    "lightly_active_minutes_p9[\"dateTime\"] = pd.to_datetime(lightly_active_minutes_p9[\"dateTime\"])\n",
    "moderately_active_minutes_p9[\"dateTime\"] = pd.to_datetime(moderately_active_minutes_p9[\"dateTime\"])"
   ]
  },
  {
   "cell_type": "code",
   "execution_count": 29,
   "id": "7e08152b",
   "metadata": {},
   "outputs": [],
   "source": [
    "very_active_minutes_p10[\"dateTime\"] = pd.to_datetime(very_active_minutes_p10[\"dateTime\"])\n",
    "lightly_active_minutes_p10[\"dateTime\"] = pd.to_datetime(lightly_active_minutes_p10[\"dateTime\"])\n",
    "moderately_active_minutes_p10[\"dateTime\"] = pd.to_datetime(moderately_active_minutes_p10[\"dateTime\"])"
   ]
  },
  {
   "cell_type": "code",
   "execution_count": 30,
   "id": "86ce7ef9",
   "metadata": {},
   "outputs": [],
   "source": [
    "very_active_minutes_p11[\"dateTime\"] = pd.to_datetime(very_active_minutes_p11[\"dateTime\"])\n",
    "lightly_active_minutes_p11[\"dateTime\"] = pd.to_datetime(lightly_active_minutes_p11[\"dateTime\"])\n",
    "moderately_active_minutes_p11[\"dateTime\"] = pd.to_datetime(moderately_active_minutes_p11[\"dateTime\"])"
   ]
  },
  {
   "cell_type": "code",
   "execution_count": 31,
   "id": "6a210de4",
   "metadata": {},
   "outputs": [],
   "source": [
    "very_active_minutes_p12[\"dateTime\"] = pd.to_datetime(very_active_minutes_p12[\"dateTime\"])\n",
    "#lightly_active_minutes_p12[\"dateTime\"] = pd.to_datetime(lightly_active_minutes_p12[\"dateTime\"])\n",
    "moderately_active_minutes_p12[\"dateTime\"] = pd.to_datetime(moderately_active_minutes_p12[\"dateTime\"])"
   ]
  },
  {
   "cell_type": "code",
   "execution_count": 32,
   "id": "edf5d4c5",
   "metadata": {},
   "outputs": [],
   "source": [
    "very_active_minutes_p13[\"dateTime\"] = pd.to_datetime(very_active_minutes_p13[\"dateTime\"])\n",
    "lightly_active_minutes_p13[\"dateTime\"] = pd.to_datetime(lightly_active_minutes_p13[\"dateTime\"])\n",
    "moderately_active_minutes_p13[\"dateTime\"] = pd.to_datetime(moderately_active_minutes_p13[\"dateTime\"])"
   ]
  },
  {
   "cell_type": "code",
   "execution_count": 33,
   "id": "2ece8b79",
   "metadata": {},
   "outputs": [],
   "source": [
    "very_active_minutes_p14[\"dateTime\"] = pd.to_datetime(very_active_minutes_p14[\"dateTime\"])\n",
    "lightly_active_minutes_p14[\"dateTime\"] = pd.to_datetime(lightly_active_minutes_p14[\"dateTime\"])\n",
    "moderately_active_minutes_p14[\"dateTime\"] = pd.to_datetime(moderately_active_minutes_p14[\"dateTime\"])"
   ]
  },
  {
   "cell_type": "code",
   "execution_count": 34,
   "id": "23401881",
   "metadata": {},
   "outputs": [],
   "source": [
    "very_active_minutes_p15[\"dateTime\"] = pd.to_datetime(very_active_minutes_p15[\"dateTime\"])\n",
    "lightly_active_minutes_p15[\"dateTime\"] = pd.to_datetime(lightly_active_minutes_p15[\"dateTime\"])\n",
    "moderately_active_minutes_p15[\"dateTime\"] = pd.to_datetime(moderately_active_minutes_p15[\"dateTime\"])"
   ]
  },
  {
   "cell_type": "code",
   "execution_count": 35,
   "id": "9c94c124",
   "metadata": {},
   "outputs": [],
   "source": [
    "very_active_minutes_p16[\"dateTime\"] = pd.to_datetime(very_active_minutes_p16[\"dateTime\"])\n",
    "lightly_active_minutes_p16[\"dateTime\"] = pd.to_datetime(lightly_active_minutes_p16[\"dateTime\"])\n",
    "moderately_active_minutes_p16[\"dateTime\"] = pd.to_datetime(moderately_active_minutes_p16[\"dateTime\"])"
   ]
  },
  {
   "cell_type": "markdown",
   "id": "300ee212",
   "metadata": {},
   "source": [
    "# Adapting wellness"
   ]
  },
  {
   "cell_type": "code",
   "execution_count": 36,
   "id": "7b38f3b4",
   "metadata": {},
   "outputs": [],
   "source": [
    "wellness_p1['dateTime'] = pd.to_datetime(wellness_p1['effective_time_frame']).dt.date\n",
    "wellness_p1 = wellness_p1[['dateTime', 'fatigue', 'mood', 'readiness', 'sleep_duration_h', 'sleep_quality', 'soreness', 'stress']]"
   ]
  },
  {
   "cell_type": "code",
   "execution_count": 37,
   "id": "e2ed2113",
   "metadata": {},
   "outputs": [],
   "source": [
    "wellness_p2['dateTime'] = pd.to_datetime(wellness_p2['effective_time_frame']).dt.date\n",
    "wellness_p2 = wellness_p2[['dateTime', 'fatigue', 'mood', 'readiness', 'sleep_duration_h', 'sleep_quality', 'soreness', 'stress']]"
   ]
  },
  {
   "cell_type": "code",
   "execution_count": 38,
   "id": "933e5fa6",
   "metadata": {},
   "outputs": [],
   "source": [
    "wellness_p3['dateTime'] = pd.to_datetime(wellness_p3['effective_time_frame']).dt.date\n",
    "wellness_p3 = wellness_p3[['dateTime', 'fatigue', 'mood', 'readiness', 'sleep_duration_h', 'sleep_quality', 'soreness', 'stress']]"
   ]
  },
  {
   "cell_type": "code",
   "execution_count": 39,
   "id": "ad84ce7c",
   "metadata": {},
   "outputs": [],
   "source": [
    "wellness_p4['dateTime'] = pd.to_datetime(wellness_p4['effective_time_frame']).dt.date\n",
    "wellness_p4 = wellness_p4[['dateTime', 'fatigue', 'mood', 'readiness', 'sleep_duration_h', 'sleep_quality', 'soreness', 'stress']]"
   ]
  },
  {
   "cell_type": "code",
   "execution_count": 40,
   "id": "b4672407",
   "metadata": {},
   "outputs": [],
   "source": [
    "wellness_p5['dateTime'] = pd.to_datetime(wellness_p5['effective_time_frame']).dt.date\n",
    "wellness_p5 = wellness_p5[['dateTime', 'fatigue', 'mood', 'readiness', 'sleep_duration_h', 'sleep_quality', 'soreness', 'stress']]"
   ]
  },
  {
   "cell_type": "code",
   "execution_count": 41,
   "id": "d39da49b",
   "metadata": {},
   "outputs": [],
   "source": [
    "wellness_p6['dateTime'] = pd.to_datetime(wellness_p6['effective_time_frame']).dt.date\n",
    "wellness_p6 = wellness_p6[['dateTime', 'fatigue', 'mood', 'readiness', 'sleep_duration_h', 'sleep_quality', 'soreness', 'stress']]"
   ]
  },
  {
   "cell_type": "code",
   "execution_count": 42,
   "id": "12be0b11",
   "metadata": {},
   "outputs": [],
   "source": [
    "wellness_p7['dateTime'] = pd.to_datetime(wellness_p7['effective_time_frame']).dt.date\n",
    "wellness_p7 = wellness_p7[['dateTime', 'fatigue', 'mood', 'readiness', 'sleep_duration_h', 'sleep_quality', 'soreness', 'stress']]"
   ]
  },
  {
   "cell_type": "code",
   "execution_count": 43,
   "id": "0205dbe9",
   "metadata": {},
   "outputs": [],
   "source": [
    "wellness_p8['dateTime'] = pd.to_datetime(wellness_p8['effective_time_frame']).dt.date\n",
    "wellness_p8 = wellness_p8[['dateTime', 'fatigue', 'mood', 'readiness', 'sleep_duration_h', 'sleep_quality', 'soreness', 'stress']]"
   ]
  },
  {
   "cell_type": "code",
   "execution_count": 44,
   "id": "4fc447b7",
   "metadata": {},
   "outputs": [],
   "source": [
    "wellness_p9['dateTime'] = pd.to_datetime(wellness_p9['effective_time_frame']).dt.date\n",
    "wellness_p9 = wellness_p9[['dateTime', 'fatigue', 'mood', 'readiness', 'sleep_duration_h', 'sleep_quality', 'soreness', 'stress']]"
   ]
  },
  {
   "cell_type": "code",
   "execution_count": 45,
   "id": "182f37c7",
   "metadata": {},
   "outputs": [],
   "source": [
    "wellness_p10['dateTime'] = pd.to_datetime(wellness_p10['effective_time_frame']).dt.date\n",
    "wellness_p10 = wellness_p10[['dateTime', 'fatigue', 'mood', 'readiness', 'sleep_duration_h', 'sleep_quality', 'soreness', 'stress']]"
   ]
  },
  {
   "cell_type": "code",
   "execution_count": 46,
   "id": "e525fe75",
   "metadata": {},
   "outputs": [],
   "source": [
    "wellness_p12['dateTime'] = pd.to_datetime(wellness_p12['effective_time_frame']).dt.date\n",
    "wellness_p12 = wellness_p12[['dateTime', 'fatigue', 'mood', 'readiness', 'sleep_duration_h', 'sleep_quality', 'soreness', 'stress']]"
   ]
  },
  {
   "cell_type": "code",
   "execution_count": 47,
   "id": "6ba11aeb",
   "metadata": {},
   "outputs": [],
   "source": [
    "wellness_p11['dateTime'] = pd.to_datetime(wellness_p11['effective_time_frame']).dt.date\n",
    "wellness_p11 = wellness_p11[['dateTime', 'fatigue', 'mood', 'readiness', 'sleep_duration_h', 'sleep_quality', 'soreness', 'stress']]"
   ]
  },
  {
   "cell_type": "code",
   "execution_count": 48,
   "id": "5afebbab",
   "metadata": {},
   "outputs": [],
   "source": [
    "wellness_p13['dateTime'] = pd.to_datetime(wellness_p13['effective_time_frame']).dt.date\n",
    "wellness_p13 = wellness_p13[['dateTime', 'fatigue', 'mood', 'readiness', 'sleep_duration_h', 'sleep_quality', 'soreness', 'stress']]"
   ]
  },
  {
   "cell_type": "code",
   "execution_count": 49,
   "id": "5bb4b9fc",
   "metadata": {},
   "outputs": [],
   "source": [
    "wellness_p14['dateTime'] = pd.to_datetime(wellness_p14['effective_time_frame']).dt.date\n",
    "wellness_p14 = wellness_p14[['dateTime', 'fatigue', 'mood', 'readiness', 'sleep_duration_h', 'sleep_quality', 'soreness', 'stress']]"
   ]
  },
  {
   "cell_type": "code",
   "execution_count": 50,
   "id": "63fa4bff",
   "metadata": {},
   "outputs": [],
   "source": [
    "wellness_p15['dateTime'] = pd.to_datetime(wellness_p15['effective_time_frame']).dt.date\n",
    "wellness_p15 = wellness_p15[['dateTime', 'fatigue', 'mood', 'readiness', 'sleep_duration_h', 'sleep_quality', 'soreness', 'stress']]"
   ]
  },
  {
   "cell_type": "code",
   "execution_count": 51,
   "id": "70ccaf86",
   "metadata": {},
   "outputs": [],
   "source": [
    "wellness_p16['dateTime'] = pd.to_datetime(wellness_p16['effective_time_frame']).dt.date\n",
    "wellness_p16 = wellness_p16[['dateTime', 'fatigue', 'mood', 'readiness', 'sleep_duration_h', 'sleep_quality', 'soreness', 'stress']]"
   ]
  },
  {
   "cell_type": "markdown",
   "id": "34c22dfe",
   "metadata": {},
   "source": [
    "# Merging"
   ]
  },
  {
   "cell_type": "code",
   "execution_count": 52,
   "id": "96e2538a",
   "metadata": {},
   "outputs": [],
   "source": [
    "wellness_p1['dateTime']=wellness_p1['dateTime'].astype('datetime64')\n",
    "sleep_score_overall_p1['dateTime']=sleep_score_overall_p1['dateTime'].astype('datetime64')\n",
    "\n",
    "merge_p1 = pd.merge(moderately_active_minutes_p1, sleep_score_overall_p1, how='outer', on='dateTime')\n",
    "merge_p1 = pd.merge(merge_p1, wellness_p1, how='outer', on='dateTime')\n",
    "merge_p1 = pd.merge(merge_p1, very_active_minutes_p1, how='outer', on='dateTime')"
   ]
  },
  {
   "cell_type": "code",
   "execution_count": 53,
   "id": "ed379013",
   "metadata": {},
   "outputs": [],
   "source": [
    "wellness_p2['dateTime']=wellness_p2['dateTime'].astype('datetime64')\n",
    "sleep_score_overall_p2['dateTime']=sleep_score_overall_p2['dateTime'].astype('datetime64')\n",
    "\n",
    "merge_p2 = pd.merge(moderately_active_minutes_p2, sleep_score_overall_p2, how='outer', on='dateTime')\n",
    "merge_p2 = pd.merge(merge_p2, wellness_p2, how='outer', on='dateTime')\n",
    "merge_p2 = pd.merge(merge_p2, very_active_minutes_p2, how='outer', on='dateTime')"
   ]
  },
  {
   "cell_type": "code",
   "execution_count": 54,
   "id": "1c343920",
   "metadata": {},
   "outputs": [],
   "source": [
    "wellness_p3['dateTime']=wellness_p3['dateTime'].astype('datetime64')\n",
    "sleep_score_overall_p3['dateTime']=sleep_score_overall_p3['dateTime'].astype('datetime64')\n",
    "\n",
    "merge_p3 = pd.merge(moderately_active_minutes_p3, sleep_score_overall_p3, how='outer', on='dateTime')\n",
    "merge_p3 = pd.merge(merge_p3, wellness_p3, how='outer', on='dateTime')\n",
    "merge_p3 = pd.merge(merge_p3, very_active_minutes_p3, how='outer', on='dateTime')"
   ]
  },
  {
   "cell_type": "code",
   "execution_count": 55,
   "id": "c6bf0024",
   "metadata": {},
   "outputs": [],
   "source": [
    "wellness_p4['dateTime']=wellness_p4['dateTime'].astype('datetime64')\n",
    "sleep_score_overall_p4['dateTime']=sleep_score_overall_p4['dateTime'].astype('datetime64')\n",
    "\n",
    "merge_p4 = pd.merge(moderately_active_minutes_p4, sleep_score_overall_p4, how='outer', on='dateTime')\n",
    "merge_p4 = pd.merge(merge_p4, wellness_p4, how='outer', on='dateTime')\n",
    "merge_p4 = pd.merge(merge_p4, very_active_minutes_p4, how='outer', on='dateTime')"
   ]
  },
  {
   "cell_type": "code",
   "execution_count": 56,
   "id": "2b79a87d",
   "metadata": {},
   "outputs": [],
   "source": [
    "wellness_p5['dateTime']=wellness_p5['dateTime'].astype('datetime64')\n",
    "sleep_score_overall_p5['dateTime']=sleep_score_overall_p5['dateTime'].astype('datetime64')\n",
    "\n",
    "merge_p5 = pd.merge(moderately_active_minutes_p5, sleep_score_overall_p5, how='outer', on='dateTime')\n",
    "merge_p5 = pd.merge(merge_p5, wellness_p5, how='outer', on='dateTime')\n",
    "merge_p5 = pd.merge(merge_p5, very_active_minutes_p5, how='outer', on='dateTime')"
   ]
  },
  {
   "cell_type": "code",
   "execution_count": 57,
   "id": "362e3dd7",
   "metadata": {},
   "outputs": [],
   "source": [
    "wellness_p6['dateTime']=wellness_p6['dateTime'].astype('datetime64')\n",
    "sleep_score_overall_p6['dateTime']=sleep_score_overall_p6['dateTime'].astype('datetime64')\n",
    "\n",
    "merge_p6 = pd.merge(moderately_active_minutes_p6, sleep_score_overall_p6, how='outer', on='dateTime')\n",
    "merge_p6 = pd.merge(merge_p6, wellness_p6, how='outer', on='dateTime')\n",
    "merge_p6 = pd.merge(merge_p6, very_active_minutes_p6, how='outer', on='dateTime')"
   ]
  },
  {
   "cell_type": "code",
   "execution_count": 58,
   "id": "a32b4ed2",
   "metadata": {},
   "outputs": [],
   "source": [
    "wellness_p7['dateTime']=wellness_p7['dateTime'].astype('datetime64')\n",
    "sleep_score_overall_p7['dateTime']=sleep_score_overall_p7['dateTime'].astype('datetime64')\n",
    "\n",
    "merge_p7 = pd.merge(moderately_active_minutes_p7, sleep_score_overall_p7, how='outer', on='dateTime')\n",
    "merge_p7 = pd.merge(merge_p7, wellness_p7, how='outer', on='dateTime')\n",
    "merge_p7 = pd.merge(merge_p7, very_active_minutes_p7, how='outer', on='dateTime')"
   ]
  },
  {
   "cell_type": "code",
   "execution_count": 59,
   "id": "7922b6e1",
   "metadata": {},
   "outputs": [],
   "source": [
    "wellness_p8['dateTime']=wellness_p8['dateTime'].astype('datetime64')\n",
    "sleep_score_overall_p8['dateTime']=sleep_score_overall_p8['dateTime'].astype('datetime64')\n",
    "\n",
    "merge_p8 = pd.merge(moderately_active_minutes_p8, sleep_score_overall_p8, how='outer', on='dateTime')\n",
    "merge_p8 = pd.merge(merge_p8, wellness_p8, how='outer', on='dateTime')\n",
    "merge_p8 = pd.merge(merge_p8, very_active_minutes_p8, how='outer', on='dateTime')"
   ]
  },
  {
   "cell_type": "code",
   "execution_count": 60,
   "id": "de7834d8",
   "metadata": {},
   "outputs": [],
   "source": [
    "wellness_p9['dateTime']=wellness_p9['dateTime'].astype('datetime64')\n",
    "sleep_score_overall_p9['dateTime']=sleep_score_overall_p9['dateTime'].astype('datetime64')\n",
    "\n",
    "merge_p9 = pd.merge(moderately_active_minutes_p9, sleep_score_overall_p9, how='outer', on='dateTime')\n",
    "merge_p9 = pd.merge(merge_p9, wellness_p9, how='outer', on='dateTime')\n",
    "merge_p9 = pd.merge(merge_p9, very_active_minutes_p9, how='outer', on='dateTime')"
   ]
  },
  {
   "cell_type": "code",
   "execution_count": 61,
   "id": "82308507",
   "metadata": {},
   "outputs": [],
   "source": [
    "wellness_p10['dateTime']=wellness_p10['dateTime'].astype('datetime64')\n",
    "sleep_score_overall_p10['dateTime']=sleep_score_overall_p10['dateTime'].astype('datetime64')\n",
    "\n",
    "merge_p10 = pd.merge(moderately_active_minutes_p10, sleep_score_overall_p10, how='outer', on='dateTime')\n",
    "merge_p10 = pd.merge(merge_p10, wellness_p10, how='outer', on='dateTime')\n",
    "merge_p10 = pd.merge(merge_p10, very_active_minutes_p10, how='outer', on='dateTime')"
   ]
  },
  {
   "cell_type": "code",
   "execution_count": 62,
   "id": "b7709620",
   "metadata": {},
   "outputs": [],
   "source": [
    "wellness_p11['dateTime']=wellness_p11['dateTime'].astype('datetime64')\n",
    "sleep_score_overall_p11['dateTime']=sleep_score_overall_p11['dateTime'].astype('datetime64')\n",
    "\n",
    "merge_p11 = pd.merge(moderately_active_minutes_p11, sleep_score_overall_p11, how='outer', on='dateTime')\n",
    "merge_p11 = pd.merge(merge_p11, wellness_p11, how='outer', on='dateTime')\n",
    "merge_p11 = pd.merge(merge_p11, very_active_minutes_p11, how='outer', on='dateTime')"
   ]
  },
  {
   "cell_type": "code",
   "execution_count": 63,
   "id": "635f2351",
   "metadata": {},
   "outputs": [],
   "source": [
    "wellness_p12['dateTime']=wellness_p12['dateTime'].astype('datetime64')\n",
    "sleep_score_overall_p12['dateTime']=sleep_score_overall_p12['dateTime'].astype('datetime64')\n",
    "\n",
    "merge_p12 = pd.merge(moderately_active_minutes_p12, sleep_score_overall_p12, how='outer', on='dateTime')\n",
    "merge_p12 = pd.merge(merge_p12, wellness_p12, how='outer', on='dateTime')\n",
    "merge_p12 = pd.merge(merge_p12, very_active_minutes_p12, how='outer', on='dateTime')"
   ]
  },
  {
   "cell_type": "code",
   "execution_count": 64,
   "id": "8190a072",
   "metadata": {},
   "outputs": [],
   "source": [
    "wellness_p13['dateTime']=wellness_p13['dateTime'].astype('datetime64')\n",
    "sleep_score_overall_p13['dateTime']=sleep_score_overall_p13['dateTime'].astype('datetime64')\n",
    "\n",
    "merge_p13 = pd.merge(moderately_active_minutes_p13, sleep_score_overall_p13, how='outer', on='dateTime')\n",
    "merge_p13 = pd.merge(merge_p13, wellness_p13, how='outer', on='dateTime')\n",
    "merge_p13 = pd.merge(merge_p13, very_active_minutes_p13, how='outer', on='dateTime')"
   ]
  },
  {
   "cell_type": "code",
   "execution_count": 65,
   "id": "a440f258",
   "metadata": {},
   "outputs": [],
   "source": [
    "wellness_p14['dateTime']=wellness_p14['dateTime'].astype('datetime64')\n",
    "sleep_score_overall_p14['dateTime']=sleep_score_overall_p14['dateTime'].astype('datetime64')\n",
    "\n",
    "merge_p14 = pd.merge(moderately_active_minutes_p14, sleep_score_overall_p14, how='outer', on='dateTime')\n",
    "merge_p14 = pd.merge(merge_p14, wellness_p14, how='outer', on='dateTime')\n",
    "merge_p14 = pd.merge(merge_p14, very_active_minutes_p14, how='outer', on='dateTime')"
   ]
  },
  {
   "cell_type": "code",
   "execution_count": 66,
   "id": "21d7176f",
   "metadata": {},
   "outputs": [],
   "source": [
    "wellness_p15['dateTime']=wellness_p15['dateTime'].astype('datetime64')\n",
    "sleep_score_overall_p15['dateTime']=sleep_score_overall_p15['dateTime'].astype('datetime64')\n",
    "\n",
    "merge_p15 = pd.merge(moderately_active_minutes_p15, sleep_score_overall_p15, how='outer', on='dateTime')\n",
    "merge_p15 = pd.merge(merge_p15, wellness_p15, how='outer', on='dateTime')\n",
    "merge_p15 = pd.merge(merge_p15, very_active_minutes_p15, how='outer', on='dateTime')"
   ]
  },
  {
   "cell_type": "code",
   "execution_count": 67,
   "id": "7ddffb44",
   "metadata": {},
   "outputs": [],
   "source": [
    "wellness_p16['dateTime']=wellness_p16['dateTime'].astype('datetime64')\n",
    "sleep_score_overall_p16['dateTime']=sleep_score_overall_p16['dateTime'].astype('datetime64')\n",
    "\n",
    "merge_p16 = pd.merge(moderately_active_minutes_p16, sleep_score_overall_p16, how='outer', on='dateTime')\n",
    "merge_p16 = pd.merge(merge_p16, wellness_p16, how='outer', on='dateTime')\n",
    "merge_p16 = pd.merge(merge_p16, very_active_minutes_p16, how='outer', on='dateTime')"
   ]
  },
  {
   "cell_type": "code",
   "execution_count": 68,
   "id": "dc9e93c0",
   "metadata": {},
   "outputs": [],
   "source": [
    "merge_p1 = merge_p1.rename(columns={\"value_x\": \"moderately_active_minutes\", \"value_y\": \"very_active_minutes\"})\n",
    "merge_p2 = merge_p2.rename(columns={\"value_x\": \"moderately_active_minutes\", \"value_y\": \"very_active_minutes\"})\n",
    "merge_p3 = merge_p3.rename(columns={\"value_x\": \"moderately_active_minutes\", \"value_y\": \"very_active_minutes\"})\n",
    "merge_p4 = merge_p4.rename(columns={\"value_x\": \"moderately_active_minutes\", \"value_y\": \"very_active_minutes\"})\n",
    "merge_p5 = merge_p5.rename(columns={\"value_x\": \"moderately_active_minutes\", \"value_y\": \"very_active_minutes\"})\n",
    "merge_p6 = merge_p6.rename(columns={\"value_x\": \"moderately_active_minutes\", \"value_y\": \"very_active_minutes\"})\n",
    "merge_p7 = merge_p7.rename(columns={\"value_x\": \"moderately_active_minutes\", \"value_y\": \"very_active_minutes\"})\n",
    "merge_p8 = merge_p8.rename(columns={\"value_x\": \"moderately_active_minutes\", \"value_y\": \"very_active_minutes\"})\n",
    "merge_p9 = merge_p9.rename(columns={\"value_x\": \"moderately_active_minutes\", \"value_y\": \"very_active_minutes\"})\n",
    "merge_p10 = merge_p10.rename(columns={\"value_x\": \"moderately_active_minutes\", \"value_y\": \"very_active_minutes\"})\n",
    "merge_p11 = merge_p11.rename(columns={\"value_x\": \"moderately_active_minutes\", \"value_y\": \"very_active_minutes\"})\n",
    "merge_p12 = merge_p12.rename(columns={\"value_x\": \"moderately_active_minutes\", \"value_y\": \"very_active_minutes\"})\n",
    "merge_p13 = merge_p13.rename(columns={\"value_x\": \"moderately_active_minutes\", \"value_y\": \"very_active_minutes\"})\n",
    "merge_p14 = merge_p14.rename(columns={\"value_x\": \"moderately_active_minutes\", \"value_y\": \"very_active_minutes\"})\n",
    "merge_p15 = merge_p15.rename(columns={\"value_x\": \"moderately_active_minutes\", \"value_y\": \"very_active_minutes\"})\n",
    "merge_p16 = merge_p16.rename(columns={\"value_x\": \"moderately_active_minutes\", \"value_y\": \"very_active_minutes\"})"
   ]
  },
  {
   "cell_type": "markdown",
   "id": "579b07e9",
   "metadata": {},
   "source": [
    "# Adding score"
   ]
  },
  {
   "cell_type": "code",
   "execution_count": 69,
   "id": "e3536dd8",
   "metadata": {},
   "outputs": [
    {
     "name": "stderr",
     "output_type": "stream",
     "text": [
      "/var/folders/dw/8bh6ls4x3wsbdl11_ql0v2dh0000gn/T/ipykernel_9173/3989295714.py:10: SettingWithCopyWarning: \n",
      "A value is trying to be set on a copy of a slice from a DataFrame\n",
      "\n",
      "See the caveats in the documentation: https://pandas.pydata.org/pandas-docs/stable/user_guide/indexing.html#returning-a-view-versus-a-copy\n",
      "  moderately_active_minutes_p1['last_7_days'][i] = moderately_active_minutes_p1.loc[first:last, 'value'].sum()\n"
     ]
    }
   ],
   "source": [
    "moderately_active_minutes_p1['last_7_days'] = 0\n",
    "\n",
    "for i in moderately_active_minutes_p1.index:\n",
    "    first = i-7\n",
    "    last = i-1\n",
    "    #print(first)\n",
    "    if first >= 0:\n",
    "        #print(i)\n",
    "        #print(moderately_active_minutes.loc[first:last, 'value'].sum())\n",
    "        moderately_active_minutes_p1['last_7_days'][i] = moderately_active_minutes_p1.loc[first:last, 'value'].sum()\n",
    "\n",
    "moderately_active_minutes_p1[\"score\"] = moderately_active_minutes_p1[\"last_7_days\"] / 150 * 100\n",
    "score_p1 = moderately_active_minutes_p1[['dateTime','score']]\n",
    "merge_p1 = pd.merge(merge_p1, score_p1, how='outer', on='dateTime')"
   ]
  },
  {
   "cell_type": "code",
   "execution_count": 70,
   "id": "6e6dd19f",
   "metadata": {},
   "outputs": [
    {
     "name": "stderr",
     "output_type": "stream",
     "text": [
      "/var/folders/dw/8bh6ls4x3wsbdl11_ql0v2dh0000gn/T/ipykernel_9173/3292536254.py:10: SettingWithCopyWarning: \n",
      "A value is trying to be set on a copy of a slice from a DataFrame\n",
      "\n",
      "See the caveats in the documentation: https://pandas.pydata.org/pandas-docs/stable/user_guide/indexing.html#returning-a-view-versus-a-copy\n",
      "  moderately_active_minutes_p2['last_7_days'][i] = moderately_active_minutes_p2.loc[first:last, 'value'].sum()\n"
     ]
    }
   ],
   "source": [
    "moderately_active_minutes_p2['last_7_days'] = 0\n",
    "\n",
    "for i in moderately_active_minutes_p2.index:\n",
    "    first = i-7\n",
    "    last = i-1\n",
    "    #print(first)\n",
    "    if first >= 0:\n",
    "        #print(i)\n",
    "        #print(moderately_active_minutes.loc[first:last, 'value'].sum())\n",
    "        moderately_active_minutes_p2['last_7_days'][i] = moderately_active_minutes_p2.loc[first:last, 'value'].sum()\n",
    "\n",
    "moderately_active_minutes_p2[\"score\"] = moderately_active_minutes_p2[\"last_7_days\"] / 150 * 100\n",
    "score_p2 = moderately_active_minutes_p2[['dateTime','score']]\n",
    "merge_p2 = pd.merge(merge_p2, score_p2, how='outer', on='dateTime')"
   ]
  },
  {
   "cell_type": "code",
   "execution_count": 71,
   "id": "744c519a",
   "metadata": {},
   "outputs": [
    {
     "name": "stderr",
     "output_type": "stream",
     "text": [
      "/var/folders/dw/8bh6ls4x3wsbdl11_ql0v2dh0000gn/T/ipykernel_9173/2199492623.py:10: SettingWithCopyWarning: \n",
      "A value is trying to be set on a copy of a slice from a DataFrame\n",
      "\n",
      "See the caveats in the documentation: https://pandas.pydata.org/pandas-docs/stable/user_guide/indexing.html#returning-a-view-versus-a-copy\n",
      "  moderately_active_minutes_p3['last_7_days'][i] = moderately_active_minutes_p3.loc[first:last, 'value'].sum()\n"
     ]
    }
   ],
   "source": [
    "moderately_active_minutes_p3['last_7_days'] = 0\n",
    "\n",
    "for i in moderately_active_minutes_p3.index:\n",
    "    first = i-7\n",
    "    last = i-1\n",
    "    #print(first)\n",
    "    if first >= 0:\n",
    "        #print(i)\n",
    "        #print(moderately_active_minutes.loc[first:last, 'value'].sum())\n",
    "        moderately_active_minutes_p3['last_7_days'][i] = moderately_active_minutes_p3.loc[first:last, 'value'].sum()\n",
    "\n",
    "moderately_active_minutes_p3[\"score\"] = moderately_active_minutes_p3[\"last_7_days\"] / 150 * 100\n",
    "score_p3 = moderately_active_minutes_p3[['dateTime','score']]\n",
    "merge_p3 = pd.merge(merge_p3, score_p3, how='outer', on='dateTime')"
   ]
  },
  {
   "cell_type": "code",
   "execution_count": 72,
   "id": "d99fe2be",
   "metadata": {},
   "outputs": [
    {
     "name": "stderr",
     "output_type": "stream",
     "text": [
      "/var/folders/dw/8bh6ls4x3wsbdl11_ql0v2dh0000gn/T/ipykernel_9173/3186665121.py:10: SettingWithCopyWarning: \n",
      "A value is trying to be set on a copy of a slice from a DataFrame\n",
      "\n",
      "See the caveats in the documentation: https://pandas.pydata.org/pandas-docs/stable/user_guide/indexing.html#returning-a-view-versus-a-copy\n",
      "  moderately_active_minutes_p4['last_7_days'][i] = moderately_active_minutes_p4.loc[first:last, 'value'].sum()\n"
     ]
    }
   ],
   "source": [
    "moderately_active_minutes_p4['last_7_days'] = 0\n",
    "\n",
    "for i in moderately_active_minutes_p4.index:\n",
    "    first = i-7\n",
    "    last = i-1\n",
    "    #print(first)\n",
    "    if first >= 0:\n",
    "        #print(i)\n",
    "        #print(moderately_active_minutes.loc[first:last, 'value'].sum())\n",
    "        moderately_active_minutes_p4['last_7_days'][i] = moderately_active_minutes_p4.loc[first:last, 'value'].sum()\n",
    "\n",
    "moderately_active_minutes_p4[\"score\"] = moderately_active_minutes_p4[\"last_7_days\"] / 150 * 100\n",
    "score_p4 = moderately_active_minutes_p4[['dateTime','score']]\n",
    "merge_p4 = pd.merge(merge_p4, score_p4, how='outer', on='dateTime')"
   ]
  },
  {
   "cell_type": "code",
   "execution_count": 73,
   "id": "82dcc7fa",
   "metadata": {},
   "outputs": [
    {
     "name": "stderr",
     "output_type": "stream",
     "text": [
      "/var/folders/dw/8bh6ls4x3wsbdl11_ql0v2dh0000gn/T/ipykernel_9173/3780187044.py:10: SettingWithCopyWarning: \n",
      "A value is trying to be set on a copy of a slice from a DataFrame\n",
      "\n",
      "See the caveats in the documentation: https://pandas.pydata.org/pandas-docs/stable/user_guide/indexing.html#returning-a-view-versus-a-copy\n",
      "  moderately_active_minutes_p5['last_7_days'][i] = moderately_active_minutes_p5.loc[first:last, 'value'].sum()\n"
     ]
    }
   ],
   "source": [
    "moderately_active_minutes_p5['last_7_days'] = 0\n",
    "\n",
    "for i in moderately_active_minutes_p5.index:\n",
    "    first = i-7\n",
    "    last = i-1\n",
    "    #print(first)\n",
    "    if first >= 0:\n",
    "        #print(i)\n",
    "        #print(moderately_active_minutes.loc[first:last, 'value'].sum())\n",
    "        moderately_active_minutes_p5['last_7_days'][i] = moderately_active_minutes_p5.loc[first:last, 'value'].sum()\n",
    "\n",
    "moderately_active_minutes_p5[\"score\"] = moderately_active_minutes_p5[\"last_7_days\"] / 150 * 100\n",
    "score_p5 = moderately_active_minutes_p5[['dateTime','score']]\n",
    "merge_p5 = pd.merge(merge_p5, score_p5, how='outer', on='dateTime')"
   ]
  },
  {
   "cell_type": "code",
   "execution_count": 74,
   "id": "62e42221",
   "metadata": {},
   "outputs": [
    {
     "name": "stderr",
     "output_type": "stream",
     "text": [
      "/var/folders/dw/8bh6ls4x3wsbdl11_ql0v2dh0000gn/T/ipykernel_9173/3447022109.py:10: SettingWithCopyWarning: \n",
      "A value is trying to be set on a copy of a slice from a DataFrame\n",
      "\n",
      "See the caveats in the documentation: https://pandas.pydata.org/pandas-docs/stable/user_guide/indexing.html#returning-a-view-versus-a-copy\n",
      "  moderately_active_minutes_p6['last_7_days'][i] = moderately_active_minutes_p6.loc[first:last, 'value'].sum()\n"
     ]
    }
   ],
   "source": [
    "moderately_active_minutes_p6['last_7_days'] = 0\n",
    "\n",
    "for i in moderately_active_minutes_p6.index:\n",
    "    first = i-7\n",
    "    last = i-1\n",
    "    #print(first)\n",
    "    if first >= 0:\n",
    "        #print(i)\n",
    "        #print(moderately_active_minutes.loc[first:last, 'value'].sum())\n",
    "        moderately_active_minutes_p6['last_7_days'][i] = moderately_active_minutes_p6.loc[first:last, 'value'].sum()\n",
    "\n",
    "moderately_active_minutes_p6[\"score\"] = moderately_active_minutes_p6[\"last_7_days\"] / 150 * 100\n",
    "score_p6 = moderately_active_minutes_p6[['dateTime','score']]\n",
    "merge_p6 = pd.merge(merge_p6, score_p6, how='outer', on='dateTime')"
   ]
  },
  {
   "cell_type": "code",
   "execution_count": 75,
   "id": "764eddb9",
   "metadata": {},
   "outputs": [
    {
     "name": "stderr",
     "output_type": "stream",
     "text": [
      "/var/folders/dw/8bh6ls4x3wsbdl11_ql0v2dh0000gn/T/ipykernel_9173/426590346.py:10: SettingWithCopyWarning: \n",
      "A value is trying to be set on a copy of a slice from a DataFrame\n",
      "\n",
      "See the caveats in the documentation: https://pandas.pydata.org/pandas-docs/stable/user_guide/indexing.html#returning-a-view-versus-a-copy\n",
      "  moderately_active_minutes_p7['last_7_days'][i] = moderately_active_minutes_p7.loc[first:last, 'value'].sum()\n"
     ]
    }
   ],
   "source": [
    "moderately_active_minutes_p7['last_7_days'] = 0\n",
    "\n",
    "for i in moderately_active_minutes_p7.index:\n",
    "    first = i-7\n",
    "    last = i-1\n",
    "    #print(first)\n",
    "    if first >= 0:\n",
    "        #print(i)\n",
    "        #print(moderately_active_minutes.loc[first:last, 'value'].sum())\n",
    "        moderately_active_minutes_p7['last_7_days'][i] = moderately_active_minutes_p7.loc[first:last, 'value'].sum()\n",
    "\n",
    "moderately_active_minutes_p7[\"score\"] = moderately_active_minutes_p7[\"last_7_days\"] / 150 * 100\n",
    "score_p7 = moderately_active_minutes_p7[['dateTime','score']]\n",
    "merge_p7 = pd.merge(merge_p7, score_p7, how='outer', on='dateTime')"
   ]
  },
  {
   "cell_type": "code",
   "execution_count": 76,
   "id": "3ae9f2e3",
   "metadata": {},
   "outputs": [
    {
     "name": "stderr",
     "output_type": "stream",
     "text": [
      "/var/folders/dw/8bh6ls4x3wsbdl11_ql0v2dh0000gn/T/ipykernel_9173/1683438518.py:10: SettingWithCopyWarning: \n",
      "A value is trying to be set on a copy of a slice from a DataFrame\n",
      "\n",
      "See the caveats in the documentation: https://pandas.pydata.org/pandas-docs/stable/user_guide/indexing.html#returning-a-view-versus-a-copy\n",
      "  moderately_active_minutes_p8['last_7_days'][i] = moderately_active_minutes_p8.loc[first:last, 'value'].sum()\n"
     ]
    }
   ],
   "source": [
    "moderately_active_minutes_p8['last_7_days'] = 0\n",
    "\n",
    "for i in moderately_active_minutes_p8.index:\n",
    "    first = i-7\n",
    "    last = i-1\n",
    "    #print(first)\n",
    "    if first >= 0:\n",
    "        #print(i)\n",
    "        #print(moderately_active_minutes.loc[first:last, 'value'].sum())\n",
    "        moderately_active_minutes_p8['last_7_days'][i] = moderately_active_minutes_p8.loc[first:last, 'value'].sum()\n",
    "\n",
    "moderately_active_minutes_p8[\"score\"] = moderately_active_minutes_p8[\"last_7_days\"] / 150 * 100\n",
    "score_p8 = moderately_active_minutes_p8[['dateTime','score']]\n",
    "merge_p8 = pd.merge(merge_p8, score_p8, how='outer', on='dateTime')"
   ]
  },
  {
   "cell_type": "code",
   "execution_count": 77,
   "id": "93aaa17b",
   "metadata": {},
   "outputs": [
    {
     "name": "stderr",
     "output_type": "stream",
     "text": [
      "/var/folders/dw/8bh6ls4x3wsbdl11_ql0v2dh0000gn/T/ipykernel_9173/3845954207.py:10: SettingWithCopyWarning: \n",
      "A value is trying to be set on a copy of a slice from a DataFrame\n",
      "\n",
      "See the caveats in the documentation: https://pandas.pydata.org/pandas-docs/stable/user_guide/indexing.html#returning-a-view-versus-a-copy\n",
      "  moderately_active_minutes_p9['last_7_days'][i] = moderately_active_minutes_p9.loc[first:last, 'value'].sum()\n"
     ]
    }
   ],
   "source": [
    "moderately_active_minutes_p9['last_7_days'] = 0\n",
    "\n",
    "for i in moderately_active_minutes_p9.index:\n",
    "    first = i-7\n",
    "    last = i-1\n",
    "    #print(first)\n",
    "    if first >= 0:\n",
    "        #print(i)\n",
    "        #print(moderately_active_minutes.loc[first:last, 'value'].sum())\n",
    "        moderately_active_minutes_p9['last_7_days'][i] = moderately_active_minutes_p9.loc[first:last, 'value'].sum()\n",
    "\n",
    "moderately_active_minutes_p9[\"score\"] = moderately_active_minutes_p9[\"last_7_days\"] / 150 * 100\n",
    "score_p9 = moderately_active_minutes_p9[['dateTime','score']]\n",
    "merge_p9 = pd.merge(merge_p9, score_p9, how='outer', on='dateTime')"
   ]
  },
  {
   "cell_type": "code",
   "execution_count": 78,
   "id": "71cfbadf",
   "metadata": {},
   "outputs": [
    {
     "name": "stderr",
     "output_type": "stream",
     "text": [
      "/var/folders/dw/8bh6ls4x3wsbdl11_ql0v2dh0000gn/T/ipykernel_9173/4186516151.py:10: SettingWithCopyWarning: \n",
      "A value is trying to be set on a copy of a slice from a DataFrame\n",
      "\n",
      "See the caveats in the documentation: https://pandas.pydata.org/pandas-docs/stable/user_guide/indexing.html#returning-a-view-versus-a-copy\n",
      "  moderately_active_minutes_p10['last_7_days'][i] = moderately_active_minutes_p10.loc[first:last, 'value'].sum()\n"
     ]
    }
   ],
   "source": [
    "moderately_active_minutes_p10['last_7_days'] = 0\n",
    "\n",
    "for i in moderately_active_minutes_p10.index:\n",
    "    first = i-7\n",
    "    last = i-1\n",
    "    #print(first)\n",
    "    if first >= 0:\n",
    "        #print(i)\n",
    "        #print(moderately_active_minutes.loc[first:last, 'value'].sum())\n",
    "        moderately_active_minutes_p10['last_7_days'][i] = moderately_active_minutes_p10.loc[first:last, 'value'].sum()\n",
    "\n",
    "moderately_active_minutes_p10[\"score\"] = moderately_active_minutes_p10[\"last_7_days\"] / 150 * 100\n",
    "score_p10 = moderately_active_minutes_p10[['dateTime','score']]\n",
    "merge_p10 = pd.merge(merge_p10, score_p10, how='outer', on='dateTime')"
   ]
  },
  {
   "cell_type": "code",
   "execution_count": 79,
   "id": "ad9b7303",
   "metadata": {},
   "outputs": [
    {
     "name": "stderr",
     "output_type": "stream",
     "text": [
      "/var/folders/dw/8bh6ls4x3wsbdl11_ql0v2dh0000gn/T/ipykernel_9173/511971192.py:10: SettingWithCopyWarning: \n",
      "A value is trying to be set on a copy of a slice from a DataFrame\n",
      "\n",
      "See the caveats in the documentation: https://pandas.pydata.org/pandas-docs/stable/user_guide/indexing.html#returning-a-view-versus-a-copy\n",
      "  moderately_active_minutes_p11['last_7_days'][i] = moderately_active_minutes_p11.loc[first:last, 'value'].sum()\n"
     ]
    }
   ],
   "source": [
    "moderately_active_minutes_p11['last_7_days'] = 0\n",
    "\n",
    "for i in moderately_active_minutes_p11.index:\n",
    "    first = i-7\n",
    "    last = i-1\n",
    "    #print(first)\n",
    "    if first >= 0:\n",
    "        #print(i)\n",
    "        #print(moderately_active_minutes.loc[first:last, 'value'].sum())\n",
    "        moderately_active_minutes_p11['last_7_days'][i] = moderately_active_minutes_p11.loc[first:last, 'value'].sum()\n",
    "\n",
    "moderately_active_minutes_p11[\"score\"] = moderately_active_minutes_p11[\"last_7_days\"] / 150 * 100\n",
    "score_p11 = moderately_active_minutes_p11[['dateTime','score']]\n",
    "merge_p11 = pd.merge(merge_p11, score_p11, how='outer', on='dateTime')"
   ]
  },
  {
   "cell_type": "code",
   "execution_count": 80,
   "id": "60aadeb3",
   "metadata": {},
   "outputs": [
    {
     "name": "stderr",
     "output_type": "stream",
     "text": [
      "/var/folders/dw/8bh6ls4x3wsbdl11_ql0v2dh0000gn/T/ipykernel_9173/737693478.py:10: SettingWithCopyWarning: \n",
      "A value is trying to be set on a copy of a slice from a DataFrame\n",
      "\n",
      "See the caveats in the documentation: https://pandas.pydata.org/pandas-docs/stable/user_guide/indexing.html#returning-a-view-versus-a-copy\n",
      "  moderately_active_minutes_p12['last_7_days'][i] = moderately_active_minutes_p12.loc[first:last, 'value'].sum()\n"
     ]
    }
   ],
   "source": [
    "moderately_active_minutes_p12['last_7_days'] = 0\n",
    "\n",
    "for i in moderately_active_minutes_p12.index:\n",
    "    first = i-7\n",
    "    last = i-1\n",
    "    #print(first)\n",
    "    if first >= 0:\n",
    "        #print(i)\n",
    "        #print(moderately_active_minutes.loc[first:last, 'value'].sum())\n",
    "        moderately_active_minutes_p12['last_7_days'][i] = moderately_active_minutes_p12.loc[first:last, 'value'].sum()\n",
    "\n",
    "moderately_active_minutes_p12[\"score\"] = moderately_active_minutes_p12[\"last_7_days\"] / 150 * 100\n",
    "score_p12 = moderately_active_minutes_p12[['dateTime','score']]\n",
    "merge_p12 = pd.merge(merge_p12, score_p12, how='outer', on='dateTime')"
   ]
  },
  {
   "cell_type": "code",
   "execution_count": 81,
   "id": "0afe1ec3",
   "metadata": {},
   "outputs": [
    {
     "name": "stderr",
     "output_type": "stream",
     "text": [
      "/var/folders/dw/8bh6ls4x3wsbdl11_ql0v2dh0000gn/T/ipykernel_9173/1328346981.py:10: SettingWithCopyWarning: \n",
      "A value is trying to be set on a copy of a slice from a DataFrame\n",
      "\n",
      "See the caveats in the documentation: https://pandas.pydata.org/pandas-docs/stable/user_guide/indexing.html#returning-a-view-versus-a-copy\n",
      "  moderately_active_minutes_p13['last_7_days'][i] = moderately_active_minutes_p13.loc[first:last, 'value'].sum()\n"
     ]
    }
   ],
   "source": [
    "moderately_active_minutes_p13['last_7_days'] = 0\n",
    "\n",
    "for i in moderately_active_minutes_p13.index:\n",
    "    first = i-7\n",
    "    last = i-1\n",
    "    #print(first)\n",
    "    if first >= 0:\n",
    "        #print(i)\n",
    "        #print(moderately_active_minutes.loc[first:last, 'value'].sum())\n",
    "        moderately_active_minutes_p13['last_7_days'][i] = moderately_active_minutes_p13.loc[first:last, 'value'].sum()\n",
    "\n",
    "moderately_active_minutes_p13[\"score\"] = moderately_active_minutes_p13[\"last_7_days\"] / 150 * 100\n",
    "score_p13 = moderately_active_minutes_p13[['dateTime','score']]\n",
    "merge_p13 = pd.merge(merge_p13, score_p13, how='outer', on='dateTime')"
   ]
  },
  {
   "cell_type": "code",
   "execution_count": 82,
   "id": "ebe62d06",
   "metadata": {},
   "outputs": [
    {
     "name": "stderr",
     "output_type": "stream",
     "text": [
      "/var/folders/dw/8bh6ls4x3wsbdl11_ql0v2dh0000gn/T/ipykernel_9173/538117153.py:10: SettingWithCopyWarning: \n",
      "A value is trying to be set on a copy of a slice from a DataFrame\n",
      "\n",
      "See the caveats in the documentation: https://pandas.pydata.org/pandas-docs/stable/user_guide/indexing.html#returning-a-view-versus-a-copy\n",
      "  moderately_active_minutes_p14['last_7_days'][i] = moderately_active_minutes_p14.loc[first:last, 'value'].sum()\n"
     ]
    }
   ],
   "source": [
    "moderately_active_minutes_p14['last_7_days'] = 0\n",
    "\n",
    "for i in moderately_active_minutes_p14.index:\n",
    "    first = i-7\n",
    "    last = i-1\n",
    "    #print(first)\n",
    "    if first >= 0:\n",
    "        #print(i)\n",
    "        #print(moderately_active_minutes.loc[first:last, 'value'].sum())\n",
    "        moderately_active_minutes_p14['last_7_days'][i] = moderately_active_minutes_p14.loc[first:last, 'value'].sum()\n",
    "\n",
    "moderately_active_minutes_p14[\"score\"] = moderately_active_minutes_p14[\"last_7_days\"] / 150 * 100\n",
    "score_p14 = moderately_active_minutes_p14[['dateTime','score']]\n",
    "merge_p14 = pd.merge(merge_p14, score_p14, how='outer', on='dateTime')"
   ]
  },
  {
   "cell_type": "code",
   "execution_count": 83,
   "id": "833b9e41",
   "metadata": {},
   "outputs": [
    {
     "name": "stderr",
     "output_type": "stream",
     "text": [
      "/var/folders/dw/8bh6ls4x3wsbdl11_ql0v2dh0000gn/T/ipykernel_9173/1779534905.py:10: SettingWithCopyWarning: \n",
      "A value is trying to be set on a copy of a slice from a DataFrame\n",
      "\n",
      "See the caveats in the documentation: https://pandas.pydata.org/pandas-docs/stable/user_guide/indexing.html#returning-a-view-versus-a-copy\n",
      "  moderately_active_minutes_p15['last_7_days'][i] = moderately_active_minutes_p15.loc[first:last, 'value'].sum()\n"
     ]
    }
   ],
   "source": [
    "moderately_active_minutes_p15['last_7_days'] = 0\n",
    "\n",
    "for i in moderately_active_minutes_p15.index:\n",
    "    first = i-7\n",
    "    last = i-1\n",
    "    #print(first)\n",
    "    if first >= 0:\n",
    "        #print(i)\n",
    "        #print(moderately_active_minutes.loc[first:last, 'value'].sum())\n",
    "        moderately_active_minutes_p15['last_7_days'][i] = moderately_active_minutes_p15.loc[first:last, 'value'].sum()\n",
    "\n",
    "moderately_active_minutes_p15[\"score\"] = moderately_active_minutes_p15[\"last_7_days\"] / 150 * 100\n",
    "score_p15 = moderately_active_minutes_p15[['dateTime','score']]\n",
    "merge_p15 = pd.merge(merge_p15, score_p15, how='outer', on='dateTime')"
   ]
  },
  {
   "cell_type": "code",
   "execution_count": 84,
   "id": "5c973e0c",
   "metadata": {},
   "outputs": [
    {
     "name": "stderr",
     "output_type": "stream",
     "text": [
      "/var/folders/dw/8bh6ls4x3wsbdl11_ql0v2dh0000gn/T/ipykernel_9173/373357513.py:10: SettingWithCopyWarning: \n",
      "A value is trying to be set on a copy of a slice from a DataFrame\n",
      "\n",
      "See the caveats in the documentation: https://pandas.pydata.org/pandas-docs/stable/user_guide/indexing.html#returning-a-view-versus-a-copy\n",
      "  moderately_active_minutes_p16['last_7_days'][i] = moderately_active_minutes_p16.loc[first:last, 'value'].sum()\n"
     ]
    }
   ],
   "source": [
    "moderately_active_minutes_p16['last_7_days'] = 0\n",
    "\n",
    "for i in moderately_active_minutes_p16.index:\n",
    "    first = i-7\n",
    "    last = i-1\n",
    "    #print(first)\n",
    "    if first >= 0:\n",
    "        #print(i)\n",
    "        #print(moderately_active_minutes.loc[first:last, 'value'].sum())\n",
    "        moderately_active_minutes_p16['last_7_days'][i] = moderately_active_minutes_p16.loc[first:last, 'value'].sum()\n",
    "\n",
    "moderately_active_minutes_p16[\"score\"] = moderately_active_minutes_p16[\"last_7_days\"] / 150 * 100\n",
    "score_p16 = moderately_active_minutes_p16[['dateTime','score']]\n",
    "merge_p16 = pd.merge(merge_p16, score_p16, how='outer', on='dateTime')"
   ]
  },
  {
   "cell_type": "markdown",
   "id": "501e8803",
   "metadata": {},
   "source": [
    "# Classifying the data so it can be used for testing and training"
   ]
  },
  {
   "cell_type": "code",
   "execution_count": 85,
   "id": "5c1c45f8",
   "metadata": {},
   "outputs": [
    {
     "name": "stderr",
     "output_type": "stream",
     "text": [
      "/var/folders/dw/8bh6ls4x3wsbdl11_ql0v2dh0000gn/T/ipykernel_9173/882061758.py:8: SettingWithCopyWarning: \n",
      "A value is trying to be set on a copy of a slice from a DataFrame\n",
      "\n",
      "See the caveats in the documentation: https://pandas.pydata.org/pandas-docs/stable/user_guide/indexing.html#returning-a-view-versus-a-copy\n",
      "  merge_p1['mean_score_past_7_days'][i] = merge_p1.loc[first:last, 'score'].mean()\n",
      "/var/folders/dw/8bh6ls4x3wsbdl11_ql0v2dh0000gn/T/ipykernel_9173/882061758.py:52: SettingWithCopyWarning: \n",
      "A value is trying to be set on a copy of a slice from a DataFrame\n",
      "\n",
      "See the caveats in the documentation: https://pandas.pydata.org/pandas-docs/stable/user_guide/indexing.html#returning-a-view-versus-a-copy\n",
      "  merge_p1['target'][i] = 3\n",
      "/var/folders/dw/8bh6ls4x3wsbdl11_ql0v2dh0000gn/T/ipykernel_9173/882061758.py:56: SettingWithCopyWarning: \n",
      "A value is trying to be set on a copy of a slice from a DataFrame\n",
      "\n",
      "See the caveats in the documentation: https://pandas.pydata.org/pandas-docs/stable/user_guide/indexing.html#returning-a-view-versus-a-copy\n",
      "  merge_p1['target'][i] = 0\n",
      "/var/folders/dw/8bh6ls4x3wsbdl11_ql0v2dh0000gn/T/ipykernel_9173/882061758.py:48: SettingWithCopyWarning: \n",
      "A value is trying to be set on a copy of a slice from a DataFrame\n",
      "\n",
      "See the caveats in the documentation: https://pandas.pydata.org/pandas-docs/stable/user_guide/indexing.html#returning-a-view-versus-a-copy\n",
      "  merge_p1['target'][i] = 2\n",
      "/var/folders/dw/8bh6ls4x3wsbdl11_ql0v2dh0000gn/T/ipykernel_9173/882061758.py:40: SettingWithCopyWarning: \n",
      "A value is trying to be set on a copy of a slice from a DataFrame\n",
      "\n",
      "See the caveats in the documentation: https://pandas.pydata.org/pandas-docs/stable/user_guide/indexing.html#returning-a-view-versus-a-copy\n",
      "  merge_p1['target'][i] = 0\n"
     ]
    }
   ],
   "source": [
    "#Adding a row with the mean score of the previous 7 days\n",
    "merge_p1['mean_score_past_7_days'] = 0\n",
    "\n",
    "for i in merge_p1.index:\n",
    "    first = i-7\n",
    "    last = i-1\n",
    "    if first >= 0:\n",
    "        merge_p1['mean_score_past_7_days'][i] = merge_p1.loc[first:last, 'score'].mean()\n",
    "\n",
    "#print(merge_p1)\n",
    "\n",
    "#Classify by using the previous score\n",
    "merge_p1['target'] = 0\n",
    "#print(merge_p1['mean_score_past_7_days'][22] + 5)\n",
    "\n",
    "for i in merge_p1.index:\n",
    "        \n",
    "    if merge_p1['score'][i] < (merge_p1['mean_score_past_7_days'][i] + 5):\n",
    "        count = 0\n",
    "        if merge_p1['fatigue'][i] > 4:\n",
    "            count = count + 5\n",
    "        if merge_p1['mood'][i] > 4:\n",
    "            count = count + 5\n",
    "        if merge_p1['sleep_quality'][i] < 2:\n",
    "            count = count + 5\n",
    "        if merge_p1['stress'][i] > 4:\n",
    "            count = count + 5\n",
    "\n",
    "        if merge_p1['fatigue'][i] > 3:\n",
    "            count = count + 1\n",
    "        if merge_p1['mood'][i] > 3:\n",
    "            count = count + 1\n",
    "        if merge_p1['sleep_quality'][i] < 3:\n",
    "            count = count + 1\n",
    "        if merge_p1['stress'][i] > 3:\n",
    "            count = count + 1\n",
    "\n",
    "        if count >= 5:\n",
    "            #print('no exercise')\n",
    "            merge_p1['target'][i] = 0\n",
    "\n",
    "        elif (count >= 2) and (count < 5):\n",
    "            #print('light')\n",
    "            merge_p1['target'][i] = 1\n",
    "\n",
    "        elif count == 1:\n",
    "            #print('medium')\n",
    "            merge_p1['target'][i] = 2\n",
    "\n",
    "        else:\n",
    "            #print('high')\n",
    "            merge_p1['target'][i] = 3\n",
    "\n",
    "    else:\n",
    "        #print('no recommendation')\n",
    "        merge_p1['target'][i] = 0 "
   ]
  },
  {
   "cell_type": "code",
   "execution_count": 86,
   "id": "6329584c",
   "metadata": {},
   "outputs": [
    {
     "name": "stderr",
     "output_type": "stream",
     "text": [
      "/var/folders/dw/8bh6ls4x3wsbdl11_ql0v2dh0000gn/T/ipykernel_9173/3984127975.py:8: SettingWithCopyWarning: \n",
      "A value is trying to be set on a copy of a slice from a DataFrame\n",
      "\n",
      "See the caveats in the documentation: https://pandas.pydata.org/pandas-docs/stable/user_guide/indexing.html#returning-a-view-versus-a-copy\n",
      "  merge_p2['mean_score_past_7_days'][i] = merge_p2.loc[first:last, 'score'].mean()\n",
      "/var/folders/dw/8bh6ls4x3wsbdl11_ql0v2dh0000gn/T/ipykernel_9173/3984127975.py:55: SettingWithCopyWarning: \n",
      "A value is trying to be set on a copy of a slice from a DataFrame\n",
      "\n",
      "See the caveats in the documentation: https://pandas.pydata.org/pandas-docs/stable/user_guide/indexing.html#returning-a-view-versus-a-copy\n",
      "  merge_p2['target'][i] = 3\n",
      "/var/folders/dw/8bh6ls4x3wsbdl11_ql0v2dh0000gn/T/ipykernel_9173/3984127975.py:47: SettingWithCopyWarning: \n",
      "A value is trying to be set on a copy of a slice from a DataFrame\n",
      "\n",
      "See the caveats in the documentation: https://pandas.pydata.org/pandas-docs/stable/user_guide/indexing.html#returning-a-view-versus-a-copy\n",
      "  merge_p2['target'][i] = 1\n",
      "/var/folders/dw/8bh6ls4x3wsbdl11_ql0v2dh0000gn/T/ipykernel_9173/3984127975.py:59: SettingWithCopyWarning: \n",
      "A value is trying to be set on a copy of a slice from a DataFrame\n",
      "\n",
      "See the caveats in the documentation: https://pandas.pydata.org/pandas-docs/stable/user_guide/indexing.html#returning-a-view-versus-a-copy\n",
      "  merge_p2['target'][i] = 0\n"
     ]
    }
   ],
   "source": [
    "#Adding a row with the mean score of the previous 7 days\n",
    "merge_p2['mean_score_past_7_days'] = 0\n",
    "\n",
    "for i in merge_p2.index:\n",
    "    first = i-7\n",
    "    last = i-1\n",
    "    if first >= 0:\n",
    "        merge_p2['mean_score_past_7_days'][i] = merge_p2.loc[first:last, 'score'].mean()\n",
    "\n",
    "#print(merge_p2)\n",
    "\n",
    "#Classify by using the previous score\n",
    "merge_p2['target'] = 0\n",
    "#print(merge_p2['mean_score_past_7_days'][22] + 5)\n",
    "\n",
    "for i in merge_p2.index:\n",
    "#     if merge_p2['score'][i] > 100:\n",
    "#         print('no recommendation')\n",
    "#         merge_p2['target'][i] = 0\n",
    "        \n",
    "    if merge_p2['score'][i] < (merge_p2['mean_score_past_7_days'][i] + 5):\n",
    "        count = 0\n",
    "        if merge_p2['fatigue'][i] > 4:\n",
    "            count = count + 5\n",
    "        if merge_p2['mood'][i] > 4:\n",
    "            count = count + 5\n",
    "        if merge_p2['sleep_quality'][i] < 2:\n",
    "            count = count + 5\n",
    "        if merge_p2['stress'][i] > 4:\n",
    "            count = count + 5\n",
    "\n",
    "        if merge_p2['fatigue'][i] > 3:\n",
    "            count = count + 1\n",
    "        if merge_p2['mood'][i] > 3:\n",
    "            count = count + 1\n",
    "        if merge_p2['sleep_quality'][i] < 3:\n",
    "            count = count + 1\n",
    "        if merge_p2['stress'][i] > 3:\n",
    "            count = count + 1\n",
    "\n",
    "        if count >= 5:\n",
    "            #print('no exercise')\n",
    "            merge_p2['target'][i] = 0\n",
    "\n",
    "        elif (count >= 2) and (count < 5):\n",
    "            #print('light')\n",
    "            merge_p2['target'][i] = 1\n",
    "\n",
    "        elif count == 1:\n",
    "            #print('medium')\n",
    "            merge_p2['target'][i] = 2\n",
    "\n",
    "        else:\n",
    "            #print('high')\n",
    "            merge_p2['target'][i] = 3\n",
    "\n",
    "    else:\n",
    "        #print('no recommendation')\n",
    "        merge_p2['target'][i] = 0\n",
    "        "
   ]
  },
  {
   "cell_type": "code",
   "execution_count": 87,
   "id": "34260182",
   "metadata": {},
   "outputs": [
    {
     "name": "stderr",
     "output_type": "stream",
     "text": [
      "/var/folders/dw/8bh6ls4x3wsbdl11_ql0v2dh0000gn/T/ipykernel_9173/3494124068.py:8: SettingWithCopyWarning: \n",
      "A value is trying to be set on a copy of a slice from a DataFrame\n",
      "\n",
      "See the caveats in the documentation: https://pandas.pydata.org/pandas-docs/stable/user_guide/indexing.html#returning-a-view-versus-a-copy\n",
      "  merge_p3['mean_score_past_7_days'][i] = merge_p3.loc[first:last, 'score'].mean()\n",
      "/var/folders/dw/8bh6ls4x3wsbdl11_ql0v2dh0000gn/T/ipykernel_9173/3494124068.py:51: SettingWithCopyWarning: \n",
      "A value is trying to be set on a copy of a slice from a DataFrame\n",
      "\n",
      "See the caveats in the documentation: https://pandas.pydata.org/pandas-docs/stable/user_guide/indexing.html#returning-a-view-versus-a-copy\n",
      "  merge_p3['target'][i] = 2\n",
      "/var/folders/dw/8bh6ls4x3wsbdl11_ql0v2dh0000gn/T/ipykernel_9173/3494124068.py:55: SettingWithCopyWarning: \n",
      "A value is trying to be set on a copy of a slice from a DataFrame\n",
      "\n",
      "See the caveats in the documentation: https://pandas.pydata.org/pandas-docs/stable/user_guide/indexing.html#returning-a-view-versus-a-copy\n",
      "  merge_p3['target'][i] = 3\n",
      "/var/folders/dw/8bh6ls4x3wsbdl11_ql0v2dh0000gn/T/ipykernel_9173/3494124068.py:59: SettingWithCopyWarning: \n",
      "A value is trying to be set on a copy of a slice from a DataFrame\n",
      "\n",
      "See the caveats in the documentation: https://pandas.pydata.org/pandas-docs/stable/user_guide/indexing.html#returning-a-view-versus-a-copy\n",
      "  merge_p3['target'][i] = 0\n"
     ]
    },
    {
     "name": "stdout",
     "output_type": "stream",
     "text": [
      "13.857142857142858\n"
     ]
    }
   ],
   "source": [
    "#Adding a row with the mean score of the previous 7 days\n",
    "merge_p3['mean_score_past_7_days'] = 0\n",
    "\n",
    "for i in merge_p3.index:\n",
    "    first = i-7\n",
    "    last = i-1\n",
    "    if first >= 0:\n",
    "        merge_p3['mean_score_past_7_days'][i] = merge_p3.loc[first:last, 'score'].mean()\n",
    "\n",
    "#print(merge_p3)\n",
    "\n",
    "#Classify by using the previous score\n",
    "merge_p3['target'] = 0\n",
    "print(merge_p3['mean_score_past_7_days'][22] + 5)\n",
    "\n",
    "for i in merge_p3.index:\n",
    "#     if merge_p3['score'][i] > 100:\n",
    "#         print('no recommendation')\n",
    "#         merge_p3['target'][i] = 0\n",
    "        \n",
    "    if merge_p3['score'][i] < (merge_p3['mean_score_past_7_days'][i] + 5):\n",
    "        count = 0\n",
    "        if merge_p3['fatigue'][i] > 4:\n",
    "            count = count + 5\n",
    "        if merge_p3['mood'][i] > 4:\n",
    "            count = count + 5\n",
    "        if merge_p3['sleep_quality'][i] < 2:\n",
    "            count = count + 5\n",
    "        if merge_p3['stress'][i] > 4:\n",
    "            count = count + 5\n",
    "\n",
    "        if merge_p3['fatigue'][i] > 3:\n",
    "            count = count + 1\n",
    "        if merge_p3['mood'][i] > 3:\n",
    "            count = count + 1\n",
    "        if merge_p3['sleep_quality'][i] < 3:\n",
    "            count = count + 1\n",
    "        if merge_p3['stress'][i] > 3:\n",
    "            count = count + 1\n",
    "\n",
    "        if count >= 5:\n",
    "            #print('no exercise')\n",
    "            merge_p3['target'][i] = 0\n",
    "\n",
    "        elif (count >= 2) and (count < 5):\n",
    "            #print('light')\n",
    "            merge_p3['target'][i] = 1\n",
    "\n",
    "        elif count == 1:\n",
    "            #print('medium')\n",
    "            merge_p3['target'][i] = 2\n",
    "\n",
    "        else:\n",
    "            #print('high')\n",
    "            merge_p3['target'][i] = 3\n",
    "\n",
    "    else:\n",
    "        #print('no recommendation')\n",
    "        merge_p3['target'][i] = 0\n",
    "        "
   ]
  },
  {
   "cell_type": "code",
   "execution_count": 88,
   "id": "a20e5064",
   "metadata": {},
   "outputs": [
    {
     "name": "stderr",
     "output_type": "stream",
     "text": [
      "/var/folders/dw/8bh6ls4x3wsbdl11_ql0v2dh0000gn/T/ipykernel_9173/141548617.py:8: SettingWithCopyWarning: \n",
      "A value is trying to be set on a copy of a slice from a DataFrame\n",
      "\n",
      "See the caveats in the documentation: https://pandas.pydata.org/pandas-docs/stable/user_guide/indexing.html#returning-a-view-versus-a-copy\n",
      "  merge_p4['mean_score_past_7_days'][i] = merge_p4.loc[first:last, 'score'].mean()\n",
      "/var/folders/dw/8bh6ls4x3wsbdl11_ql0v2dh0000gn/T/ipykernel_9173/141548617.py:51: SettingWithCopyWarning: \n",
      "A value is trying to be set on a copy of a slice from a DataFrame\n",
      "\n",
      "See the caveats in the documentation: https://pandas.pydata.org/pandas-docs/stable/user_guide/indexing.html#returning-a-view-versus-a-copy\n",
      "  merge_p4['target'][i] = 2\n",
      "/var/folders/dw/8bh6ls4x3wsbdl11_ql0v2dh0000gn/T/ipykernel_9173/141548617.py:47: SettingWithCopyWarning: \n",
      "A value is trying to be set on a copy of a slice from a DataFrame\n",
      "\n",
      "See the caveats in the documentation: https://pandas.pydata.org/pandas-docs/stable/user_guide/indexing.html#returning-a-view-versus-a-copy\n",
      "  merge_p4['target'][i] = 1\n",
      "/var/folders/dw/8bh6ls4x3wsbdl11_ql0v2dh0000gn/T/ipykernel_9173/141548617.py:59: SettingWithCopyWarning: \n",
      "A value is trying to be set on a copy of a slice from a DataFrame\n",
      "\n",
      "See the caveats in the documentation: https://pandas.pydata.org/pandas-docs/stable/user_guide/indexing.html#returning-a-view-versus-a-copy\n",
      "  merge_p4['target'][i] = 0\n",
      "/var/folders/dw/8bh6ls4x3wsbdl11_ql0v2dh0000gn/T/ipykernel_9173/141548617.py:55: SettingWithCopyWarning: \n",
      "A value is trying to be set on a copy of a slice from a DataFrame\n",
      "\n",
      "See the caveats in the documentation: https://pandas.pydata.org/pandas-docs/stable/user_guide/indexing.html#returning-a-view-versus-a-copy\n",
      "  merge_p4['target'][i] = 3\n",
      "/var/folders/dw/8bh6ls4x3wsbdl11_ql0v2dh0000gn/T/ipykernel_9173/141548617.py:43: SettingWithCopyWarning: \n",
      "A value is trying to be set on a copy of a slice from a DataFrame\n",
      "\n",
      "See the caveats in the documentation: https://pandas.pydata.org/pandas-docs/stable/user_guide/indexing.html#returning-a-view-versus-a-copy\n",
      "  merge_p4['target'][i] = 0\n"
     ]
    }
   ],
   "source": [
    "#Adding a row with the mean score of the previous 7 days\n",
    "merge_p4['mean_score_past_7_days'] = 0\n",
    "\n",
    "for i in merge_p4.index:\n",
    "    first = i-7\n",
    "    last = i-1\n",
    "    if first >= 0:\n",
    "        merge_p4['mean_score_past_7_days'][i] = merge_p4.loc[first:last, 'score'].mean()\n",
    "\n",
    "#print(merge_p4)\n",
    "\n",
    "#Classify by using the previous score\n",
    "merge_p4['target'] = 0\n",
    "#print(merge_p4['mean_score_past_7_days'][22] + 5)\n",
    "\n",
    "for i in merge_p4.index:\n",
    "#     if merge_p4['score'][i] > 100:\n",
    "#         print('no recommendation')\n",
    "#         merge_p4['target'][i] = 0\n",
    "        \n",
    "    if merge_p4['score'][i] < (merge_p4['mean_score_past_7_days'][i] + 5):\n",
    "        count = 0\n",
    "        if merge_p4['fatigue'][i] > 4:\n",
    "            count = count + 5\n",
    "        if merge_p4['mood'][i] > 4:\n",
    "            count = count + 5\n",
    "        if merge_p4['sleep_quality'][i] < 2:\n",
    "            count = count + 5\n",
    "        if merge_p4['stress'][i] > 4:\n",
    "            count = count + 5\n",
    "\n",
    "        if merge_p4['fatigue'][i] > 3:\n",
    "            count = count + 1\n",
    "        if merge_p4['mood'][i] > 3:\n",
    "            count = count + 1\n",
    "        if merge_p4['sleep_quality'][i] < 3:\n",
    "            count = count + 1\n",
    "        if merge_p4['stress'][i] > 3:\n",
    "            count = count + 1\n",
    "\n",
    "        if count >= 5:\n",
    "            #print('no exercise')\n",
    "            merge_p4['target'][i] = 0\n",
    "\n",
    "        elif (count >= 2) and (count < 5):\n",
    "            #print('light')\n",
    "            merge_p4['target'][i] = 1\n",
    "\n",
    "        elif count == 1:\n",
    "            #print('medium')\n",
    "            merge_p4['target'][i] = 2\n",
    "\n",
    "        else:\n",
    "            #print('high')\n",
    "            merge_p4['target'][i] = 3\n",
    "\n",
    "    else:\n",
    "        #print('no recommendation')\n",
    "        merge_p4['target'][i] = 0\n",
    "        "
   ]
  },
  {
   "cell_type": "code",
   "execution_count": 89,
   "id": "a5637d87",
   "metadata": {},
   "outputs": [
    {
     "name": "stderr",
     "output_type": "stream",
     "text": [
      "/var/folders/dw/8bh6ls4x3wsbdl11_ql0v2dh0000gn/T/ipykernel_9173/1371353468.py:8: SettingWithCopyWarning: \n",
      "A value is trying to be set on a copy of a slice from a DataFrame\n",
      "\n",
      "See the caveats in the documentation: https://pandas.pydata.org/pandas-docs/stable/user_guide/indexing.html#returning-a-view-versus-a-copy\n",
      "  merge_p5['mean_score_past_7_days'][i] = merge_p5.loc[first:last, 'score'].mean()\n",
      "/var/folders/dw/8bh6ls4x3wsbdl11_ql0v2dh0000gn/T/ipykernel_9173/1371353468.py:46: SettingWithCopyWarning: \n",
      "A value is trying to be set on a copy of a slice from a DataFrame\n",
      "\n",
      "See the caveats in the documentation: https://pandas.pydata.org/pandas-docs/stable/user_guide/indexing.html#returning-a-view-versus-a-copy\n",
      "  merge_p5['target'][i] = 2\n",
      "/var/folders/dw/8bh6ls4x3wsbdl11_ql0v2dh0000gn/T/ipykernel_9173/1371353468.py:50: SettingWithCopyWarning: \n",
      "A value is trying to be set on a copy of a slice from a DataFrame\n",
      "\n",
      "See the caveats in the documentation: https://pandas.pydata.org/pandas-docs/stable/user_guide/indexing.html#returning-a-view-versus-a-copy\n",
      "  merge_p5['target'][i] = 3\n",
      "/var/folders/dw/8bh6ls4x3wsbdl11_ql0v2dh0000gn/T/ipykernel_9173/1371353468.py:54: SettingWithCopyWarning: \n",
      "A value is trying to be set on a copy of a slice from a DataFrame\n",
      "\n",
      "See the caveats in the documentation: https://pandas.pydata.org/pandas-docs/stable/user_guide/indexing.html#returning-a-view-versus-a-copy\n",
      "  merge_p5['target'][i] = 0\n",
      "/var/folders/dw/8bh6ls4x3wsbdl11_ql0v2dh0000gn/T/ipykernel_9173/1371353468.py:38: SettingWithCopyWarning: \n",
      "A value is trying to be set on a copy of a slice from a DataFrame\n",
      "\n",
      "See the caveats in the documentation: https://pandas.pydata.org/pandas-docs/stable/user_guide/indexing.html#returning-a-view-versus-a-copy\n",
      "  merge_p5['target'][i] = 0\n",
      "/var/folders/dw/8bh6ls4x3wsbdl11_ql0v2dh0000gn/T/ipykernel_9173/1371353468.py:42: SettingWithCopyWarning: \n",
      "A value is trying to be set on a copy of a slice from a DataFrame\n",
      "\n",
      "See the caveats in the documentation: https://pandas.pydata.org/pandas-docs/stable/user_guide/indexing.html#returning-a-view-versus-a-copy\n",
      "  merge_p5['target'][i] = 1\n"
     ]
    }
   ],
   "source": [
    "#Adding a row with the mean score of the previous 7 days\n",
    "merge_p5['mean_score_past_7_days'] = 0\n",
    "\n",
    "for i in merge_p5.index:\n",
    "    first = i-7\n",
    "    last = i-1\n",
    "    if first >= 0:\n",
    "        merge_p5['mean_score_past_7_days'][i] = merge_p5.loc[first:last, 'score'].mean()\n",
    "\n",
    "\n",
    "\n",
    "#Classify by using the previous score\n",
    "merge_p5['target'] = 0\n",
    "\n",
    "for i in merge_p5.index:\n",
    "    if merge_p5['score'][i] < (merge_p5['mean_score_past_7_days'][i] + 5):\n",
    "        count = 0\n",
    "        if merge_p5['fatigue'][i] > 4:\n",
    "            count = count + 5\n",
    "        if merge_p5['mood'][i] > 4:\n",
    "            count = count + 5\n",
    "        if merge_p5['sleep_quality'][i] < 2:\n",
    "            count = count + 5\n",
    "        if merge_p5['stress'][i] > 4:\n",
    "            count = count + 5\n",
    "\n",
    "        if merge_p5['fatigue'][i] > 3:\n",
    "            count = count + 1\n",
    "        if merge_p5['mood'][i] > 3:\n",
    "            count = count + 1\n",
    "        if merge_p5['sleep_quality'][i] < 3:\n",
    "            count = count + 1\n",
    "        if merge_p5['stress'][i] > 3:\n",
    "            count = count + 1\n",
    "\n",
    "        if count >= 5:\n",
    "            #print('no exercise')\n",
    "            merge_p5['target'][i] = 0\n",
    "\n",
    "        elif (count >= 2) and (count < 5):\n",
    "            #print('light')\n",
    "            merge_p5['target'][i] = 1\n",
    "\n",
    "        elif count == 1:\n",
    "            #print('medium')\n",
    "            merge_p5['target'][i] = 2\n",
    "\n",
    "        else:\n",
    "            #print('high')\n",
    "            merge_p5['target'][i] = 3\n",
    "\n",
    "    else:\n",
    "        #print('no recommendation')\n",
    "        merge_p5['target'][i] = 0\n",
    "        "
   ]
  },
  {
   "cell_type": "code",
   "execution_count": 90,
   "id": "19d42f53",
   "metadata": {},
   "outputs": [
    {
     "name": "stderr",
     "output_type": "stream",
     "text": [
      "/var/folders/dw/8bh6ls4x3wsbdl11_ql0v2dh0000gn/T/ipykernel_9173/1686234113.py:8: SettingWithCopyWarning: \n",
      "A value is trying to be set on a copy of a slice from a DataFrame\n",
      "\n",
      "See the caveats in the documentation: https://pandas.pydata.org/pandas-docs/stable/user_guide/indexing.html#returning-a-view-versus-a-copy\n",
      "  merge_p6['mean_score_past_7_days'][i] = merge_p6.loc[first:last, 'score'].mean()\n",
      "/var/folders/dw/8bh6ls4x3wsbdl11_ql0v2dh0000gn/T/ipykernel_9173/1686234113.py:52: SettingWithCopyWarning: \n",
      "A value is trying to be set on a copy of a slice from a DataFrame\n",
      "\n",
      "See the caveats in the documentation: https://pandas.pydata.org/pandas-docs/stable/user_guide/indexing.html#returning-a-view-versus-a-copy\n",
      "  merge_p6['target'][i] = 3\n",
      "/var/folders/dw/8bh6ls4x3wsbdl11_ql0v2dh0000gn/T/ipykernel_9173/1686234113.py:44: SettingWithCopyWarning: \n",
      "A value is trying to be set on a copy of a slice from a DataFrame\n",
      "\n",
      "See the caveats in the documentation: https://pandas.pydata.org/pandas-docs/stable/user_guide/indexing.html#returning-a-view-versus-a-copy\n",
      "  merge_p6['target'][i] = 1\n",
      "/var/folders/dw/8bh6ls4x3wsbdl11_ql0v2dh0000gn/T/ipykernel_9173/1686234113.py:48: SettingWithCopyWarning: \n",
      "A value is trying to be set on a copy of a slice from a DataFrame\n",
      "\n",
      "See the caveats in the documentation: https://pandas.pydata.org/pandas-docs/stable/user_guide/indexing.html#returning-a-view-versus-a-copy\n",
      "  merge_p6['target'][i] = 2\n",
      "/var/folders/dw/8bh6ls4x3wsbdl11_ql0v2dh0000gn/T/ipykernel_9173/1686234113.py:56: SettingWithCopyWarning: \n",
      "A value is trying to be set on a copy of a slice from a DataFrame\n",
      "\n",
      "See the caveats in the documentation: https://pandas.pydata.org/pandas-docs/stable/user_guide/indexing.html#returning-a-view-versus-a-copy\n",
      "  merge_p6['target'][i] = 0\n"
     ]
    }
   ],
   "source": [
    "#Adding a row with the mean score of the previous 7 days\n",
    "merge_p6['mean_score_past_7_days'] = 0\n",
    "\n",
    "for i in merge_p6.index:\n",
    "    first = i-7\n",
    "    last = i-1\n",
    "    if first >= 0:\n",
    "        merge_p6['mean_score_past_7_days'][i] = merge_p6.loc[first:last, 'score'].mean()\n",
    "\n",
    "#print(merge_p6)\n",
    "\n",
    "#Classify by using the previous score\n",
    "merge_p6['target'] = 0\n",
    "#print(merge_p6['mean_score_past_7_days'][22] + 5)\n",
    "\n",
    "for i in merge_p6.index:\n",
    "        \n",
    "    if merge_p6['score'][i] < (merge_p6['mean_score_past_7_days'][i] + 5):\n",
    "        count = 0\n",
    "        if merge_p6['fatigue'][i] > 4:\n",
    "            count = count + 5\n",
    "        if merge_p6['mood'][i] > 4:\n",
    "            count = count + 5\n",
    "        if merge_p6['sleep_quality'][i] < 2:\n",
    "            count = count + 5\n",
    "        if merge_p6['stress'][i] > 4:\n",
    "            count = count + 5\n",
    "\n",
    "        if merge_p6['fatigue'][i] > 3:\n",
    "            count = count + 1\n",
    "        if merge_p6['mood'][i] > 3:\n",
    "            count = count + 1\n",
    "        if merge_p6['sleep_quality'][i] < 3:\n",
    "            count = count + 1\n",
    "        if merge_p6['stress'][i] > 3:\n",
    "            count = count + 1\n",
    "\n",
    "        if count >= 5:\n",
    "            #print('no exercise')\n",
    "            merge_p6['target'][i] = 0\n",
    "\n",
    "        elif (count >= 2) and (count < 5):\n",
    "            #print('light')\n",
    "            merge_p6['target'][i] = 1\n",
    "\n",
    "        elif count == 1:\n",
    "            #print('medium')\n",
    "            merge_p6['target'][i] = 2\n",
    "\n",
    "        else:\n",
    "            #print('high')\n",
    "            merge_p6['target'][i] = 3\n",
    "\n",
    "    else:\n",
    "        #print('no recommendation')\n",
    "        merge_p6['target'][i] = 0\n",
    "        "
   ]
  },
  {
   "cell_type": "code",
   "execution_count": 91,
   "id": "a73cbaba",
   "metadata": {},
   "outputs": [
    {
     "name": "stderr",
     "output_type": "stream",
     "text": [
      "/var/folders/dw/8bh6ls4x3wsbdl11_ql0v2dh0000gn/T/ipykernel_9173/2468469064.py:8: SettingWithCopyWarning: \n",
      "A value is trying to be set on a copy of a slice from a DataFrame\n",
      "\n",
      "See the caveats in the documentation: https://pandas.pydata.org/pandas-docs/stable/user_guide/indexing.html#returning-a-view-versus-a-copy\n",
      "  merge_p7['mean_score_past_7_days'][i] = merge_p7.loc[first:last, 'score'].mean()\n",
      "/var/folders/dw/8bh6ls4x3wsbdl11_ql0v2dh0000gn/T/ipykernel_9173/2468469064.py:55: SettingWithCopyWarning: \n",
      "A value is trying to be set on a copy of a slice from a DataFrame\n",
      "\n",
      "See the caveats in the documentation: https://pandas.pydata.org/pandas-docs/stable/user_guide/indexing.html#returning-a-view-versus-a-copy\n",
      "  merge_p7['target'][i] = 3\n",
      "/var/folders/dw/8bh6ls4x3wsbdl11_ql0v2dh0000gn/T/ipykernel_9173/2468469064.py:43: SettingWithCopyWarning: \n",
      "A value is trying to be set on a copy of a slice from a DataFrame\n",
      "\n",
      "See the caveats in the documentation: https://pandas.pydata.org/pandas-docs/stable/user_guide/indexing.html#returning-a-view-versus-a-copy\n",
      "  merge_p7['target'][i] = 0\n",
      "/var/folders/dw/8bh6ls4x3wsbdl11_ql0v2dh0000gn/T/ipykernel_9173/2468469064.py:47: SettingWithCopyWarning: \n",
      "A value is trying to be set on a copy of a slice from a DataFrame\n",
      "\n",
      "See the caveats in the documentation: https://pandas.pydata.org/pandas-docs/stable/user_guide/indexing.html#returning-a-view-versus-a-copy\n",
      "  merge_p7['target'][i] = 1\n",
      "/var/folders/dw/8bh6ls4x3wsbdl11_ql0v2dh0000gn/T/ipykernel_9173/2468469064.py:51: SettingWithCopyWarning: \n",
      "A value is trying to be set on a copy of a slice from a DataFrame\n",
      "\n",
      "See the caveats in the documentation: https://pandas.pydata.org/pandas-docs/stable/user_guide/indexing.html#returning-a-view-versus-a-copy\n",
      "  merge_p7['target'][i] = 2\n",
      "/var/folders/dw/8bh6ls4x3wsbdl11_ql0v2dh0000gn/T/ipykernel_9173/2468469064.py:59: SettingWithCopyWarning: \n",
      "A value is trying to be set on a copy of a slice from a DataFrame\n",
      "\n",
      "See the caveats in the documentation: https://pandas.pydata.org/pandas-docs/stable/user_guide/indexing.html#returning-a-view-versus-a-copy\n",
      "  merge_p7['target'][i] = 0\n"
     ]
    }
   ],
   "source": [
    "#Adding a row with the mean score of the previous 7 days\n",
    "merge_p7['mean_score_past_7_days'] = 0\n",
    "\n",
    "for i in merge_p7.index:\n",
    "    first = i-7\n",
    "    last = i-1\n",
    "    if first >= 0:\n",
    "        merge_p7['mean_score_past_7_days'][i] = merge_p7.loc[first:last, 'score'].mean()\n",
    "\n",
    "#print(merge_p7)\n",
    "\n",
    "#Classify by using the previous score\n",
    "merge_p7['target'] = 0\n",
    "#print(merge_p7['mean_score_past_7_days'][22] + 5)\n",
    "\n",
    "for i in merge_p7.index:\n",
    "#     if merge_p7['score'][i] > 100:\n",
    "#         print('no recommendation')\n",
    "#         merge_p7['target'][i] = 0\n",
    "        \n",
    "    if merge_p7['score'][i] < (merge_p7['mean_score_past_7_days'][i] + 5):\n",
    "        count = 0\n",
    "        if merge_p7['fatigue'][i] > 4:\n",
    "            count = count + 5\n",
    "        if merge_p7['mood'][i] > 4:\n",
    "            count = count + 5\n",
    "        if merge_p7['sleep_quality'][i] < 2:\n",
    "            count = count + 5\n",
    "        if merge_p7['stress'][i] > 4:\n",
    "            count = count + 5\n",
    "\n",
    "        if merge_p7['fatigue'][i] > 3:\n",
    "            count = count + 1\n",
    "        if merge_p7['mood'][i] > 3:\n",
    "            count = count + 1\n",
    "        if merge_p7['sleep_quality'][i] < 3:\n",
    "            count = count + 1\n",
    "        if merge_p7['stress'][i] > 3:\n",
    "            count = count + 1\n",
    "\n",
    "        if count >= 5:\n",
    "            #print('no exercise')\n",
    "            merge_p7['target'][i] = 0\n",
    "\n",
    "        elif (count >= 2) and (count < 5):\n",
    "            #print('light')\n",
    "            merge_p7['target'][i] = 1\n",
    "\n",
    "        elif count == 1:\n",
    "            #print('medium')\n",
    "            merge_p7['target'][i] = 2\n",
    "\n",
    "        else:\n",
    "            #print('high')\n",
    "            merge_p7['target'][i] = 3\n",
    "\n",
    "    else:\n",
    "        #print('no recommendation')\n",
    "        merge_p7['target'][i] = 0\n",
    "        "
   ]
  },
  {
   "cell_type": "code",
   "execution_count": 92,
   "id": "58a8a675",
   "metadata": {},
   "outputs": [
    {
     "name": "stderr",
     "output_type": "stream",
     "text": [
      "/var/folders/dw/8bh6ls4x3wsbdl11_ql0v2dh0000gn/T/ipykernel_9173/540219795.py:8: SettingWithCopyWarning: \n",
      "A value is trying to be set on a copy of a slice from a DataFrame\n",
      "\n",
      "See the caveats in the documentation: https://pandas.pydata.org/pandas-docs/stable/user_guide/indexing.html#returning-a-view-versus-a-copy\n",
      "  merge_p8['mean_score_past_7_days'][i] = merge_p8.loc[first:last, 'score'].mean()\n",
      "/var/folders/dw/8bh6ls4x3wsbdl11_ql0v2dh0000gn/T/ipykernel_9173/540219795.py:55: SettingWithCopyWarning: \n",
      "A value is trying to be set on a copy of a slice from a DataFrame\n",
      "\n",
      "See the caveats in the documentation: https://pandas.pydata.org/pandas-docs/stable/user_guide/indexing.html#returning-a-view-versus-a-copy\n",
      "  merge_p8['target'][i] = 3\n",
      "/var/folders/dw/8bh6ls4x3wsbdl11_ql0v2dh0000gn/T/ipykernel_9173/540219795.py:47: SettingWithCopyWarning: \n",
      "A value is trying to be set on a copy of a slice from a DataFrame\n",
      "\n",
      "See the caveats in the documentation: https://pandas.pydata.org/pandas-docs/stable/user_guide/indexing.html#returning-a-view-versus-a-copy\n",
      "  merge_p8['target'][i] = 1\n",
      "/var/folders/dw/8bh6ls4x3wsbdl11_ql0v2dh0000gn/T/ipykernel_9173/540219795.py:51: SettingWithCopyWarning: \n",
      "A value is trying to be set on a copy of a slice from a DataFrame\n",
      "\n",
      "See the caveats in the documentation: https://pandas.pydata.org/pandas-docs/stable/user_guide/indexing.html#returning-a-view-versus-a-copy\n",
      "  merge_p8['target'][i] = 2\n",
      "/var/folders/dw/8bh6ls4x3wsbdl11_ql0v2dh0000gn/T/ipykernel_9173/540219795.py:59: SettingWithCopyWarning: \n",
      "A value is trying to be set on a copy of a slice from a DataFrame\n",
      "\n",
      "See the caveats in the documentation: https://pandas.pydata.org/pandas-docs/stable/user_guide/indexing.html#returning-a-view-versus-a-copy\n",
      "  merge_p8['target'][i] = 0\n",
      "/var/folders/dw/8bh6ls4x3wsbdl11_ql0v2dh0000gn/T/ipykernel_9173/540219795.py:43: SettingWithCopyWarning: \n",
      "A value is trying to be set on a copy of a slice from a DataFrame\n",
      "\n",
      "See the caveats in the documentation: https://pandas.pydata.org/pandas-docs/stable/user_guide/indexing.html#returning-a-view-versus-a-copy\n",
      "  merge_p8['target'][i] = 0\n"
     ]
    }
   ],
   "source": [
    "#Adding a row with the mean score of the previous 7 days\n",
    "merge_p8['mean_score_past_7_days'] = 0\n",
    "\n",
    "for i in merge_p8.index:\n",
    "    first = i-7\n",
    "    last = i-1\n",
    "    if first >= 0:\n",
    "        merge_p8['mean_score_past_7_days'][i] = merge_p8.loc[first:last, 'score'].mean()\n",
    "\n",
    "#print(merge_p8)\n",
    "\n",
    "#Classify by using the previous score\n",
    "merge_p8['target'] = 0\n",
    "#print(merge_p8['mean_score_past_7_days'][22] + 5)\n",
    "\n",
    "for i in merge_p8.index:\n",
    "#     if merge_p8['score'][i] > 100:\n",
    "#         print('no recommendation')\n",
    "#         merge_p8['target'][i] = 0\n",
    "        \n",
    "    if merge_p8['score'][i] < (merge_p8['mean_score_past_7_days'][i] + 5):\n",
    "        count = 0\n",
    "        if merge_p8['fatigue'][i] > 4:\n",
    "            count = count + 5\n",
    "        if merge_p8['mood'][i] > 4:\n",
    "            count = count + 5\n",
    "        if merge_p8['sleep_quality'][i] < 2:\n",
    "            count = count + 5\n",
    "        if merge_p8['stress'][i] > 4:\n",
    "            count = count + 5\n",
    "\n",
    "        if merge_p8['fatigue'][i] > 3:\n",
    "            count = count + 1\n",
    "        if merge_p8['mood'][i] > 3:\n",
    "            count = count + 1\n",
    "        if merge_p8['sleep_quality'][i] < 3:\n",
    "            count = count + 1\n",
    "        if merge_p8['stress'][i] > 3:\n",
    "            count = count + 1\n",
    "\n",
    "        if count >= 5:\n",
    "            #print('no exercise')\n",
    "            merge_p8['target'][i] = 0\n",
    "\n",
    "        elif (count >= 2) and (count < 5):\n",
    "            #print('light')\n",
    "            merge_p8['target'][i] = 1\n",
    "\n",
    "        elif count == 1:\n",
    "            #print('medium')\n",
    "            merge_p8['target'][i] = 2\n",
    "\n",
    "        else:\n",
    "            #print('high')\n",
    "            merge_p8['target'][i] = 3\n",
    "\n",
    "    else:\n",
    "       # print('no recommendation')\n",
    "        merge_p8['target'][i] = 0\n",
    "        "
   ]
  },
  {
   "cell_type": "code",
   "execution_count": 93,
   "id": "477b36d1",
   "metadata": {},
   "outputs": [
    {
     "name": "stderr",
     "output_type": "stream",
     "text": [
      "/var/folders/dw/8bh6ls4x3wsbdl11_ql0v2dh0000gn/T/ipykernel_9173/1941060789.py:8: SettingWithCopyWarning: \n",
      "A value is trying to be set on a copy of a slice from a DataFrame\n",
      "\n",
      "See the caveats in the documentation: https://pandas.pydata.org/pandas-docs/stable/user_guide/indexing.html#returning-a-view-versus-a-copy\n",
      "  merge_p9['mean_score_past_7_days'][i] = merge_p9.loc[first:last, 'score'].mean()\n",
      "/var/folders/dw/8bh6ls4x3wsbdl11_ql0v2dh0000gn/T/ipykernel_9173/1941060789.py:55: SettingWithCopyWarning: \n",
      "A value is trying to be set on a copy of a slice from a DataFrame\n",
      "\n",
      "See the caveats in the documentation: https://pandas.pydata.org/pandas-docs/stable/user_guide/indexing.html#returning-a-view-versus-a-copy\n",
      "  merge_p9['target'][i] = 3\n",
      "/var/folders/dw/8bh6ls4x3wsbdl11_ql0v2dh0000gn/T/ipykernel_9173/1941060789.py:59: SettingWithCopyWarning: \n",
      "A value is trying to be set on a copy of a slice from a DataFrame\n",
      "\n",
      "See the caveats in the documentation: https://pandas.pydata.org/pandas-docs/stable/user_guide/indexing.html#returning-a-view-versus-a-copy\n",
      "  merge_p9['target'][i] = 0\n",
      "/var/folders/dw/8bh6ls4x3wsbdl11_ql0v2dh0000gn/T/ipykernel_9173/1941060789.py:47: SettingWithCopyWarning: \n",
      "A value is trying to be set on a copy of a slice from a DataFrame\n",
      "\n",
      "See the caveats in the documentation: https://pandas.pydata.org/pandas-docs/stable/user_guide/indexing.html#returning-a-view-versus-a-copy\n",
      "  merge_p9['target'][i] = 1\n",
      "/var/folders/dw/8bh6ls4x3wsbdl11_ql0v2dh0000gn/T/ipykernel_9173/1941060789.py:51: SettingWithCopyWarning: \n",
      "A value is trying to be set on a copy of a slice from a DataFrame\n",
      "\n",
      "See the caveats in the documentation: https://pandas.pydata.org/pandas-docs/stable/user_guide/indexing.html#returning-a-view-versus-a-copy\n",
      "  merge_p9['target'][i] = 2\n",
      "/var/folders/dw/8bh6ls4x3wsbdl11_ql0v2dh0000gn/T/ipykernel_9173/1941060789.py:43: SettingWithCopyWarning: \n",
      "A value is trying to be set on a copy of a slice from a DataFrame\n",
      "\n",
      "See the caveats in the documentation: https://pandas.pydata.org/pandas-docs/stable/user_guide/indexing.html#returning-a-view-versus-a-copy\n",
      "  merge_p9['target'][i] = 0\n"
     ]
    }
   ],
   "source": [
    "#Adding a row with the mean score of the previous 7 days\n",
    "merge_p9['mean_score_past_7_days'] = 0\n",
    "\n",
    "for i in merge_p9.index:\n",
    "    first = i-7\n",
    "    last = i-1\n",
    "    if first >= 0:\n",
    "        merge_p9['mean_score_past_7_days'][i] = merge_p9.loc[first:last, 'score'].mean()\n",
    "\n",
    "#print(merge_p9)\n",
    "\n",
    "#Classify by using the previous score\n",
    "merge_p9['target'] = 0\n",
    "#print(merge_p9['mean_score_past_7_days'][22] + 5)\n",
    "\n",
    "for i in merge_p9.index:\n",
    "#     if merge_p9['score'][i] > 100:\n",
    "#         print('no recommendation')\n",
    "#         merge_p9['target'][i] = 0\n",
    "        \n",
    "    if merge_p9['score'][i] < (merge_p9['mean_score_past_7_days'][i] + 5):\n",
    "        count = 0\n",
    "        if merge_p9['fatigue'][i] > 4:\n",
    "            count = count + 5\n",
    "        if merge_p9['mood'][i] > 4:\n",
    "            count = count + 5\n",
    "        if merge_p9['sleep_quality'][i] < 2:\n",
    "            count = count + 5\n",
    "        if merge_p9['stress'][i] > 4:\n",
    "            count = count + 5\n",
    "\n",
    "        if merge_p9['fatigue'][i] > 3:\n",
    "            count = count + 1\n",
    "        if merge_p9['mood'][i] > 3:\n",
    "            count = count + 1\n",
    "        if merge_p9['sleep_quality'][i] < 3:\n",
    "            count = count + 1\n",
    "        if merge_p9['stress'][i] > 3:\n",
    "            count = count + 1\n",
    "\n",
    "        if count >= 5:\n",
    "            #print('no exercise')\n",
    "            merge_p9['target'][i] = 0\n",
    "\n",
    "        elif (count >= 2) and (count < 5):\n",
    "            #print('light')\n",
    "            merge_p9['target'][i] = 1\n",
    "\n",
    "        elif count == 1:\n",
    "            #print('medium')\n",
    "            merge_p9['target'][i] = 2\n",
    "\n",
    "        else:\n",
    "            #print('high')\n",
    "            merge_p9['target'][i] = 3\n",
    "\n",
    "    else:\n",
    "        #print('no recommendation')\n",
    "        merge_p9['target'][i] = 0\n",
    "        "
   ]
  },
  {
   "cell_type": "code",
   "execution_count": 94,
   "id": "eb825078",
   "metadata": {},
   "outputs": [
    {
     "name": "stderr",
     "output_type": "stream",
     "text": [
      "/var/folders/dw/8bh6ls4x3wsbdl11_ql0v2dh0000gn/T/ipykernel_9173/3276951200.py:8: SettingWithCopyWarning: \n",
      "A value is trying to be set on a copy of a slice from a DataFrame\n",
      "\n",
      "See the caveats in the documentation: https://pandas.pydata.org/pandas-docs/stable/user_guide/indexing.html#returning-a-view-versus-a-copy\n",
      "  merge_p10['mean_score_past_7_days'][i] = merge_p10.loc[first:last, 'score'].mean()\n",
      "/var/folders/dw/8bh6ls4x3wsbdl11_ql0v2dh0000gn/T/ipykernel_9173/3276951200.py:55: SettingWithCopyWarning: \n",
      "A value is trying to be set on a copy of a slice from a DataFrame\n",
      "\n",
      "See the caveats in the documentation: https://pandas.pydata.org/pandas-docs/stable/user_guide/indexing.html#returning-a-view-versus-a-copy\n",
      "  merge_p10['target'][i] = 3\n",
      "/var/folders/dw/8bh6ls4x3wsbdl11_ql0v2dh0000gn/T/ipykernel_9173/3276951200.py:59: SettingWithCopyWarning: \n",
      "A value is trying to be set on a copy of a slice from a DataFrame\n",
      "\n",
      "See the caveats in the documentation: https://pandas.pydata.org/pandas-docs/stable/user_guide/indexing.html#returning-a-view-versus-a-copy\n",
      "  merge_p10['target'][i] = 0\n",
      "/var/folders/dw/8bh6ls4x3wsbdl11_ql0v2dh0000gn/T/ipykernel_9173/3276951200.py:51: SettingWithCopyWarning: \n",
      "A value is trying to be set on a copy of a slice from a DataFrame\n",
      "\n",
      "See the caveats in the documentation: https://pandas.pydata.org/pandas-docs/stable/user_guide/indexing.html#returning-a-view-versus-a-copy\n",
      "  merge_p10['target'][i] = 2\n",
      "/var/folders/dw/8bh6ls4x3wsbdl11_ql0v2dh0000gn/T/ipykernel_9173/3276951200.py:47: SettingWithCopyWarning: \n",
      "A value is trying to be set on a copy of a slice from a DataFrame\n",
      "\n",
      "See the caveats in the documentation: https://pandas.pydata.org/pandas-docs/stable/user_guide/indexing.html#returning-a-view-versus-a-copy\n",
      "  merge_p10['target'][i] = 1\n",
      "/var/folders/dw/8bh6ls4x3wsbdl11_ql0v2dh0000gn/T/ipykernel_9173/3276951200.py:43: SettingWithCopyWarning: \n",
      "A value is trying to be set on a copy of a slice from a DataFrame\n",
      "\n",
      "See the caveats in the documentation: https://pandas.pydata.org/pandas-docs/stable/user_guide/indexing.html#returning-a-view-versus-a-copy\n",
      "  merge_p10['target'][i] = 0\n"
     ]
    }
   ],
   "source": [
    "#Adding a row with the mean score of the previous 7 days\n",
    "merge_p10['mean_score_past_7_days'] = 0\n",
    "\n",
    "for i in merge_p10.index:\n",
    "    first = i-7\n",
    "    last = i-1\n",
    "    if first >= 0:\n",
    "        merge_p10['mean_score_past_7_days'][i] = merge_p10.loc[first:last, 'score'].mean()\n",
    "\n",
    "#print(merge_p10)\n",
    "\n",
    "#Classify by using the previous score\n",
    "merge_p10['target'] = 0\n",
    "#print(merge_p10['mean_score_past_7_days'][22] + 5)\n",
    "\n",
    "for i in merge_p10.index:\n",
    "#     if merge_p10['score'][i] > 100:\n",
    "#         print('no recommendation')\n",
    "#         merge_p10['target'][i] = 0\n",
    "        \n",
    "    if merge_p10['score'][i] < (merge_p10['mean_score_past_7_days'][i] + 5):\n",
    "        count = 0\n",
    "        if merge_p10['fatigue'][i] > 4:\n",
    "            count = count + 5\n",
    "        if merge_p10['mood'][i] > 4:\n",
    "            count = count + 5\n",
    "        if merge_p10['sleep_quality'][i] < 2:\n",
    "            count = count + 5\n",
    "        if merge_p10['stress'][i] > 4:\n",
    "            count = count + 5\n",
    "\n",
    "        if merge_p10['fatigue'][i] > 3:\n",
    "            count = count + 1\n",
    "        if merge_p10['mood'][i] > 3:\n",
    "            count = count + 1\n",
    "        if merge_p10['sleep_quality'][i] < 3:\n",
    "            count = count + 1\n",
    "        if merge_p10['stress'][i] > 3:\n",
    "            count = count + 1\n",
    "\n",
    "        if count >= 5:\n",
    "            #print('no exercise')\n",
    "            merge_p10['target'][i] = 0\n",
    "\n",
    "        elif (count >= 2) and (count < 5):\n",
    "            #print('light')\n",
    "            merge_p10['target'][i] = 1\n",
    "\n",
    "        elif count == 1:\n",
    "            #print('medium')\n",
    "            merge_p10['target'][i] = 2\n",
    "\n",
    "        else:\n",
    "            #print('high')\n",
    "            merge_p10['target'][i] = 3\n",
    "\n",
    "    else:\n",
    "       # print('no recommendation')\n",
    "        merge_p10['target'][i] = 0\n",
    "        "
   ]
  },
  {
   "cell_type": "code",
   "execution_count": 95,
   "id": "66b89946",
   "metadata": {},
   "outputs": [
    {
     "name": "stderr",
     "output_type": "stream",
     "text": [
      "/var/folders/dw/8bh6ls4x3wsbdl11_ql0v2dh0000gn/T/ipykernel_9173/2292249190.py:8: SettingWithCopyWarning: \n",
      "A value is trying to be set on a copy of a slice from a DataFrame\n",
      "\n",
      "See the caveats in the documentation: https://pandas.pydata.org/pandas-docs/stable/user_guide/indexing.html#returning-a-view-versus-a-copy\n",
      "  merge_p12['mean_score_past_7_days'][i] = merge_p12.loc[first:last, 'score'].mean()\n",
      "/var/folders/dw/8bh6ls4x3wsbdl11_ql0v2dh0000gn/T/ipykernel_9173/2292249190.py:55: SettingWithCopyWarning: \n",
      "A value is trying to be set on a copy of a slice from a DataFrame\n",
      "\n",
      "See the caveats in the documentation: https://pandas.pydata.org/pandas-docs/stable/user_guide/indexing.html#returning-a-view-versus-a-copy\n",
      "  merge_p12['target'][i] = 3\n",
      "/var/folders/dw/8bh6ls4x3wsbdl11_ql0v2dh0000gn/T/ipykernel_9173/2292249190.py:59: SettingWithCopyWarning: \n",
      "A value is trying to be set on a copy of a slice from a DataFrame\n",
      "\n",
      "See the caveats in the documentation: https://pandas.pydata.org/pandas-docs/stable/user_guide/indexing.html#returning-a-view-versus-a-copy\n",
      "  merge_p12['target'][i] = 0\n",
      "/var/folders/dw/8bh6ls4x3wsbdl11_ql0v2dh0000gn/T/ipykernel_9173/2292249190.py:47: SettingWithCopyWarning: \n",
      "A value is trying to be set on a copy of a slice from a DataFrame\n",
      "\n",
      "See the caveats in the documentation: https://pandas.pydata.org/pandas-docs/stable/user_guide/indexing.html#returning-a-view-versus-a-copy\n",
      "  merge_p12['target'][i] = 1\n",
      "/var/folders/dw/8bh6ls4x3wsbdl11_ql0v2dh0000gn/T/ipykernel_9173/2292249190.py:51: SettingWithCopyWarning: \n",
      "A value is trying to be set on a copy of a slice from a DataFrame\n",
      "\n",
      "See the caveats in the documentation: https://pandas.pydata.org/pandas-docs/stable/user_guide/indexing.html#returning-a-view-versus-a-copy\n",
      "  merge_p12['target'][i] = 2\n",
      "/var/folders/dw/8bh6ls4x3wsbdl11_ql0v2dh0000gn/T/ipykernel_9173/2292249190.py:43: SettingWithCopyWarning: \n",
      "A value is trying to be set on a copy of a slice from a DataFrame\n",
      "\n",
      "See the caveats in the documentation: https://pandas.pydata.org/pandas-docs/stable/user_guide/indexing.html#returning-a-view-versus-a-copy\n",
      "  merge_p12['target'][i] = 0\n"
     ]
    }
   ],
   "source": [
    "#Adding a row with the mean score of the previous 7 days\n",
    "merge_p12['mean_score_past_7_days'] = 0\n",
    "\n",
    "for i in merge_p11.index:\n",
    "    first = i-7\n",
    "    last = i-1\n",
    "    if first >= 0:\n",
    "        merge_p12['mean_score_past_7_days'][i] = merge_p12.loc[first:last, 'score'].mean()\n",
    "\n",
    "#print(merge_p12)\n",
    "\n",
    "#Classify by using the previous score\n",
    "merge_p12['target'] = 0\n",
    "#print(merge_p12['mean_score_past_7_days'][22] + 5)\n",
    "\n",
    "for i in merge_p12.index:\n",
    "#     if merge_p12['score'][i] > 100:\n",
    "#         print('no recommendation')\n",
    "#         merge_p12['target'][i] = 0\n",
    "        \n",
    "    if merge_p12['score'][i] < (merge_p12['mean_score_past_7_days'][i] + 5):\n",
    "        count = 0\n",
    "        if merge_p12['fatigue'][i] > 4:\n",
    "            count = count + 5\n",
    "        if merge_p12['mood'][i] > 4:\n",
    "            count = count + 5\n",
    "        if merge_p12['sleep_quality'][i] < 2:\n",
    "            count = count + 5\n",
    "        if merge_p12['stress'][i] > 4:\n",
    "            count = count + 5\n",
    "\n",
    "        if merge_p12['fatigue'][i] > 3:\n",
    "            count = count + 1\n",
    "        if merge_p12['mood'][i] > 3:\n",
    "            count = count + 1\n",
    "        if merge_p12['sleep_quality'][i] < 3:\n",
    "            count = count + 1\n",
    "        if merge_p12['stress'][i] > 3:\n",
    "            count = count + 1\n",
    "\n",
    "        if count >= 5:\n",
    "            #print('no exercise')\n",
    "            merge_p12['target'][i] = 0\n",
    "\n",
    "        elif (count >= 2) and (count < 5):\n",
    "            #print('light')\n",
    "            merge_p12['target'][i] = 1\n",
    "\n",
    "        elif count == 1:\n",
    "            #print('medium')\n",
    "            merge_p12['target'][i] = 2\n",
    "\n",
    "        else:\n",
    "            #print('high')\n",
    "            merge_p12['target'][i] = 3\n",
    "\n",
    "    else:\n",
    "        #print('no recommendation')\n",
    "        merge_p12['target'][i] = 0\n",
    "        "
   ]
  },
  {
   "cell_type": "code",
   "execution_count": 96,
   "id": "2a1b0119",
   "metadata": {},
   "outputs": [
    {
     "name": "stderr",
     "output_type": "stream",
     "text": [
      "/var/folders/dw/8bh6ls4x3wsbdl11_ql0v2dh0000gn/T/ipykernel_9173/1318887612.py:8: SettingWithCopyWarning: \n",
      "A value is trying to be set on a copy of a slice from a DataFrame\n",
      "\n",
      "See the caveats in the documentation: https://pandas.pydata.org/pandas-docs/stable/user_guide/indexing.html#returning-a-view-versus-a-copy\n",
      "  merge_p11['mean_score_past_7_days'][i] = merge_p11.loc[first:last, 'score'].mean()\n",
      "/var/folders/dw/8bh6ls4x3wsbdl11_ql0v2dh0000gn/T/ipykernel_9173/1318887612.py:55: SettingWithCopyWarning: \n",
      "A value is trying to be set on a copy of a slice from a DataFrame\n",
      "\n",
      "See the caveats in the documentation: https://pandas.pydata.org/pandas-docs/stable/user_guide/indexing.html#returning-a-view-versus-a-copy\n",
      "  merge_p11['target'][i] = 3\n",
      "/var/folders/dw/8bh6ls4x3wsbdl11_ql0v2dh0000gn/T/ipykernel_9173/1318887612.py:59: SettingWithCopyWarning: \n",
      "A value is trying to be set on a copy of a slice from a DataFrame\n",
      "\n",
      "See the caveats in the documentation: https://pandas.pydata.org/pandas-docs/stable/user_guide/indexing.html#returning-a-view-versus-a-copy\n",
      "  merge_p11['target'][i] = 0\n",
      "/var/folders/dw/8bh6ls4x3wsbdl11_ql0v2dh0000gn/T/ipykernel_9173/1318887612.py:51: SettingWithCopyWarning: \n",
      "A value is trying to be set on a copy of a slice from a DataFrame\n",
      "\n",
      "See the caveats in the documentation: https://pandas.pydata.org/pandas-docs/stable/user_guide/indexing.html#returning-a-view-versus-a-copy\n",
      "  merge_p11['target'][i] = 2\n"
     ]
    }
   ],
   "source": [
    "#Adding a row with the mean score of the previous 7 days\n",
    "merge_p11['mean_score_past_7_days'] = 0\n",
    "\n",
    "for i in merge_p12.index:\n",
    "    first = i-7\n",
    "    last = i-1\n",
    "    if first >= 0:\n",
    "        merge_p11['mean_score_past_7_days'][i] = merge_p11.loc[first:last, 'score'].mean()\n",
    "\n",
    "#print(merge_p11)\n",
    "\n",
    "#Classify by using the previous score\n",
    "merge_p11['target'] = 0\n",
    "#print(merge_p11['mean_score_past_7_days'][22] + 5)\n",
    "\n",
    "for i in merge_p11.index:\n",
    "#     if merge_p11['score'][i] > 100:\n",
    "#         print('no recommendation')\n",
    "#         merge_p11['target'][i] = 0\n",
    "        \n",
    "    if merge_p11['score'][i] < (merge_p11['mean_score_past_7_days'][i] + 5):\n",
    "        count = 0\n",
    "        if merge_p11['fatigue'][i] > 4:\n",
    "            count = count + 5\n",
    "        if merge_p11['mood'][i] > 4:\n",
    "            count = count + 5\n",
    "        if merge_p11['sleep_quality'][i] < 2:\n",
    "            count = count + 5\n",
    "        if merge_p11['stress'][i] > 4:\n",
    "            count = count + 5\n",
    "\n",
    "        if merge_p11['fatigue'][i] > 3:\n",
    "            count = count + 1\n",
    "        if merge_p11['mood'][i] > 3:\n",
    "            count = count + 1\n",
    "        if merge_p11['sleep_quality'][i] < 3:\n",
    "            count = count + 1\n",
    "        if merge_p11['stress'][i] > 3:\n",
    "            count = count + 1\n",
    "\n",
    "        if count >= 5:\n",
    "            #print('no exercise')\n",
    "            merge_p11['target'][i] = 0\n",
    "\n",
    "        elif (count >= 2) and (count < 5):\n",
    "            #print('light')\n",
    "            merge_p11['target'][i] = 1\n",
    "\n",
    "        elif count == 1:\n",
    "            #print('medium')\n",
    "            merge_p11['target'][i] = 2\n",
    "\n",
    "        else:\n",
    "            #print('high')\n",
    "            merge_p11['target'][i] = 3\n",
    "\n",
    "    else:\n",
    "        #print('no recommendation')\n",
    "        merge_p11['target'][i] = 0\n",
    "        "
   ]
  },
  {
   "cell_type": "code",
   "execution_count": 97,
   "id": "6ccaba2a",
   "metadata": {},
   "outputs": [
    {
     "name": "stderr",
     "output_type": "stream",
     "text": [
      "/var/folders/dw/8bh6ls4x3wsbdl11_ql0v2dh0000gn/T/ipykernel_9173/2411110895.py:8: SettingWithCopyWarning: \n",
      "A value is trying to be set on a copy of a slice from a DataFrame\n",
      "\n",
      "See the caveats in the documentation: https://pandas.pydata.org/pandas-docs/stable/user_guide/indexing.html#returning-a-view-versus-a-copy\n",
      "  merge_p13['mean_score_past_7_days'][i] = merge_p13.loc[first:last, 'score'].mean()\n",
      "/var/folders/dw/8bh6ls4x3wsbdl11_ql0v2dh0000gn/T/ipykernel_9173/2411110895.py:55: SettingWithCopyWarning: \n",
      "A value is trying to be set on a copy of a slice from a DataFrame\n",
      "\n",
      "See the caveats in the documentation: https://pandas.pydata.org/pandas-docs/stable/user_guide/indexing.html#returning-a-view-versus-a-copy\n",
      "  merge_p13['target'][i] = 3\n",
      "/var/folders/dw/8bh6ls4x3wsbdl11_ql0v2dh0000gn/T/ipykernel_9173/2411110895.py:51: SettingWithCopyWarning: \n",
      "A value is trying to be set on a copy of a slice from a DataFrame\n",
      "\n",
      "See the caveats in the documentation: https://pandas.pydata.org/pandas-docs/stable/user_guide/indexing.html#returning-a-view-versus-a-copy\n",
      "  merge_p13['target'][i] = 2\n",
      "/var/folders/dw/8bh6ls4x3wsbdl11_ql0v2dh0000gn/T/ipykernel_9173/2411110895.py:59: SettingWithCopyWarning: \n",
      "A value is trying to be set on a copy of a slice from a DataFrame\n",
      "\n",
      "See the caveats in the documentation: https://pandas.pydata.org/pandas-docs/stable/user_guide/indexing.html#returning-a-view-versus-a-copy\n",
      "  merge_p13['target'][i] = 0\n",
      "/var/folders/dw/8bh6ls4x3wsbdl11_ql0v2dh0000gn/T/ipykernel_9173/2411110895.py:47: SettingWithCopyWarning: \n",
      "A value is trying to be set on a copy of a slice from a DataFrame\n",
      "\n",
      "See the caveats in the documentation: https://pandas.pydata.org/pandas-docs/stable/user_guide/indexing.html#returning-a-view-versus-a-copy\n",
      "  merge_p13['target'][i] = 1\n",
      "/var/folders/dw/8bh6ls4x3wsbdl11_ql0v2dh0000gn/T/ipykernel_9173/2411110895.py:43: SettingWithCopyWarning: \n",
      "A value is trying to be set on a copy of a slice from a DataFrame\n",
      "\n",
      "See the caveats in the documentation: https://pandas.pydata.org/pandas-docs/stable/user_guide/indexing.html#returning-a-view-versus-a-copy\n",
      "  merge_p13['target'][i] = 0\n"
     ]
    }
   ],
   "source": [
    "#Adding a row with the mean score of the previous 7 days\n",
    "merge_p13['mean_score_past_7_days'] = 0\n",
    "\n",
    "for i in merge_p13.index:\n",
    "    first = i-7\n",
    "    last = i-1\n",
    "    if first >= 0:\n",
    "        merge_p13['mean_score_past_7_days'][i] = merge_p13.loc[first:last, 'score'].mean()\n",
    "\n",
    "#print(merge_p13)\n",
    "\n",
    "#Classify by using the previous score\n",
    "merge_p13['target'] = 0\n",
    "#print(merge_p13['mean_score_past_7_days'][22] + 5)\n",
    "\n",
    "for i in merge_p13.index:\n",
    "#     if merge_p13['score'][i] > 100:\n",
    "#         print('no recommendation')\n",
    "#         merge_p13['target'][i] = 0\n",
    "        \n",
    "    if merge_p13['score'][i] < (merge_p13['mean_score_past_7_days'][i] + 5):\n",
    "        count = 0\n",
    "        if merge_p13['fatigue'][i] > 4:\n",
    "            count = count + 5\n",
    "        if merge_p13['mood'][i] > 4:\n",
    "            count = count + 5\n",
    "        if merge_p13['sleep_quality'][i] < 2:\n",
    "            count = count + 5\n",
    "        if merge_p13['stress'][i] > 4:\n",
    "            count = count + 5\n",
    "\n",
    "        if merge_p13['fatigue'][i] > 3:\n",
    "            count = count + 1\n",
    "        if merge_p13['mood'][i] > 3:\n",
    "            count = count + 1\n",
    "        if merge_p13['sleep_quality'][i] < 3:\n",
    "            count = count + 1\n",
    "        if merge_p13['stress'][i] > 3:\n",
    "            count = count + 1\n",
    "\n",
    "        if count >= 5:\n",
    "            #print('no exercise')\n",
    "            merge_p13['target'][i] = 0\n",
    "\n",
    "        elif (count >= 2) and (count < 5):\n",
    "            #print('light')\n",
    "            merge_p13['target'][i] = 1\n",
    "\n",
    "        elif count == 1:\n",
    "            #print('medium')\n",
    "            merge_p13['target'][i] = 2\n",
    "\n",
    "        else:\n",
    "            #print('high')\n",
    "            merge_p13['target'][i] = 3\n",
    "\n",
    "    else:\n",
    "        #print('no recommendation')\n",
    "        merge_p13['target'][i] = 0\n",
    "        "
   ]
  },
  {
   "cell_type": "code",
   "execution_count": 98,
   "id": "0b44e533",
   "metadata": {},
   "outputs": [
    {
     "name": "stderr",
     "output_type": "stream",
     "text": [
      "/var/folders/dw/8bh6ls4x3wsbdl11_ql0v2dh0000gn/T/ipykernel_9173/1221999729.py:8: SettingWithCopyWarning: \n",
      "A value is trying to be set on a copy of a slice from a DataFrame\n",
      "\n",
      "See the caveats in the documentation: https://pandas.pydata.org/pandas-docs/stable/user_guide/indexing.html#returning-a-view-versus-a-copy\n",
      "  merge_p14['mean_score_past_7_days'][i] = merge_p14.loc[first:last, 'score'].mean()\n",
      "/var/folders/dw/8bh6ls4x3wsbdl11_ql0v2dh0000gn/T/ipykernel_9173/1221999729.py:55: SettingWithCopyWarning: \n",
      "A value is trying to be set on a copy of a slice from a DataFrame\n",
      "\n",
      "See the caveats in the documentation: https://pandas.pydata.org/pandas-docs/stable/user_guide/indexing.html#returning-a-view-versus-a-copy\n",
      "  merge_p14['target'][i] = 3\n",
      "/var/folders/dw/8bh6ls4x3wsbdl11_ql0v2dh0000gn/T/ipykernel_9173/1221999729.py:51: SettingWithCopyWarning: \n",
      "A value is trying to be set on a copy of a slice from a DataFrame\n",
      "\n",
      "See the caveats in the documentation: https://pandas.pydata.org/pandas-docs/stable/user_guide/indexing.html#returning-a-view-versus-a-copy\n",
      "  merge_p14['target'][i] = 2\n",
      "/var/folders/dw/8bh6ls4x3wsbdl11_ql0v2dh0000gn/T/ipykernel_9173/1221999729.py:59: SettingWithCopyWarning: \n",
      "A value is trying to be set on a copy of a slice from a DataFrame\n",
      "\n",
      "See the caveats in the documentation: https://pandas.pydata.org/pandas-docs/stable/user_guide/indexing.html#returning-a-view-versus-a-copy\n",
      "  merge_p14['target'][i] = 0\n",
      "/var/folders/dw/8bh6ls4x3wsbdl11_ql0v2dh0000gn/T/ipykernel_9173/1221999729.py:47: SettingWithCopyWarning: \n",
      "A value is trying to be set on a copy of a slice from a DataFrame\n",
      "\n",
      "See the caveats in the documentation: https://pandas.pydata.org/pandas-docs/stable/user_guide/indexing.html#returning-a-view-versus-a-copy\n",
      "  merge_p14['target'][i] = 1\n"
     ]
    }
   ],
   "source": [
    "#Adding a row with the mean score of the previous 7 days\n",
    "merge_p14['mean_score_past_7_days'] = 0\n",
    "\n",
    "for i in merge_p14.index:\n",
    "    first = i-7\n",
    "    last = i-1\n",
    "    if first >= 0:\n",
    "        merge_p14['mean_score_past_7_days'][i] = merge_p14.loc[first:last, 'score'].mean()\n",
    "\n",
    "#print(merge_p14)\n",
    "\n",
    "#Classify by using the previous score\n",
    "merge_p14['target'] = 0\n",
    "#print(merge_p14['mean_score_past_7_days'][22] + 5)\n",
    "\n",
    "for i in merge_p14.index:\n",
    "#     if merge_p14['score'][i] > 100:\n",
    "#         print('no recommendation')\n",
    "#         merge_p14['target'][i] = 0\n",
    "        \n",
    "    if merge_p14['score'][i] < (merge_p14['mean_score_past_7_days'][i] + 5):\n",
    "        count = 0\n",
    "        if merge_p14['fatigue'][i] > 4:\n",
    "            count = count + 5\n",
    "        if merge_p14['mood'][i] > 4:\n",
    "            count = count + 5\n",
    "        if merge_p14['sleep_quality'][i] < 2:\n",
    "            count = count + 5\n",
    "        if merge_p14['stress'][i] > 4:\n",
    "            count = count + 5\n",
    "\n",
    "        if merge_p14['fatigue'][i] > 3:\n",
    "            count = count + 1\n",
    "        if merge_p14['mood'][i] > 3:\n",
    "            count = count + 1\n",
    "        if merge_p14['sleep_quality'][i] < 3:\n",
    "            count = count + 1\n",
    "        if merge_p14['stress'][i] > 3:\n",
    "            count = count + 1\n",
    "\n",
    "        if count >= 5:\n",
    "           # print('no exercise')\n",
    "            merge_p14['target'][i] = 0\n",
    "\n",
    "        elif (count >= 2) and (count < 5):\n",
    "           # print('light')\n",
    "            merge_p14['target'][i] = 1\n",
    "\n",
    "        elif count == 1:\n",
    "           # print('medium')\n",
    "            merge_p14['target'][i] = 2\n",
    "\n",
    "        else:\n",
    "           # print('high')\n",
    "            merge_p14['target'][i] = 3\n",
    "\n",
    "    else:\n",
    "       # print('no recommendation')\n",
    "        merge_p14['target'][i] = 0\n",
    "        "
   ]
  },
  {
   "cell_type": "code",
   "execution_count": 99,
   "id": "8f7e18d6",
   "metadata": {},
   "outputs": [
    {
     "name": "stderr",
     "output_type": "stream",
     "text": [
      "/var/folders/dw/8bh6ls4x3wsbdl11_ql0v2dh0000gn/T/ipykernel_9173/809155016.py:8: SettingWithCopyWarning: \n",
      "A value is trying to be set on a copy of a slice from a DataFrame\n",
      "\n",
      "See the caveats in the documentation: https://pandas.pydata.org/pandas-docs/stable/user_guide/indexing.html#returning-a-view-versus-a-copy\n",
      "  merge_p15['mean_score_past_7_days'][i] = merge_p15.loc[first:last, 'score'].mean()\n",
      "/var/folders/dw/8bh6ls4x3wsbdl11_ql0v2dh0000gn/T/ipykernel_9173/809155016.py:55: SettingWithCopyWarning: \n",
      "A value is trying to be set on a copy of a slice from a DataFrame\n",
      "\n",
      "See the caveats in the documentation: https://pandas.pydata.org/pandas-docs/stable/user_guide/indexing.html#returning-a-view-versus-a-copy\n",
      "  merge_p15['target'][i] = 3\n",
      "/var/folders/dw/8bh6ls4x3wsbdl11_ql0v2dh0000gn/T/ipykernel_9173/809155016.py:59: SettingWithCopyWarning: \n",
      "A value is trying to be set on a copy of a slice from a DataFrame\n",
      "\n",
      "See the caveats in the documentation: https://pandas.pydata.org/pandas-docs/stable/user_guide/indexing.html#returning-a-view-versus-a-copy\n",
      "  merge_p15['target'][i] = 0\n",
      "/var/folders/dw/8bh6ls4x3wsbdl11_ql0v2dh0000gn/T/ipykernel_9173/809155016.py:51: SettingWithCopyWarning: \n",
      "A value is trying to be set on a copy of a slice from a DataFrame\n",
      "\n",
      "See the caveats in the documentation: https://pandas.pydata.org/pandas-docs/stable/user_guide/indexing.html#returning-a-view-versus-a-copy\n",
      "  merge_p15['target'][i] = 2\n",
      "/var/folders/dw/8bh6ls4x3wsbdl11_ql0v2dh0000gn/T/ipykernel_9173/809155016.py:47: SettingWithCopyWarning: \n",
      "A value is trying to be set on a copy of a slice from a DataFrame\n",
      "\n",
      "See the caveats in the documentation: https://pandas.pydata.org/pandas-docs/stable/user_guide/indexing.html#returning-a-view-versus-a-copy\n",
      "  merge_p15['target'][i] = 1\n",
      "/var/folders/dw/8bh6ls4x3wsbdl11_ql0v2dh0000gn/T/ipykernel_9173/809155016.py:43: SettingWithCopyWarning: \n",
      "A value is trying to be set on a copy of a slice from a DataFrame\n",
      "\n",
      "See the caveats in the documentation: https://pandas.pydata.org/pandas-docs/stable/user_guide/indexing.html#returning-a-view-versus-a-copy\n",
      "  merge_p15['target'][i] = 0\n"
     ]
    }
   ],
   "source": [
    "#Adding a row with the mean score of the previous 7 days\n",
    "merge_p15['mean_score_past_7_days'] = 0\n",
    "\n",
    "for i in merge_p15.index:\n",
    "    first = i-7\n",
    "    last = i-1\n",
    "    if first >= 0:\n",
    "        merge_p15['mean_score_past_7_days'][i] = merge_p15.loc[first:last, 'score'].mean()\n",
    "\n",
    "#print(merge_p15)\n",
    "\n",
    "#Classify by using the previous score\n",
    "merge_p15['target'] = 0\n",
    "#print(merge_p15['mean_score_past_7_days'][22] + 5)\n",
    "\n",
    "for i in merge_p15.index:\n",
    "#     if merge_p15['score'][i] > 100:\n",
    "#         print('no recommendation')\n",
    "#         merge_p15['target'][i] = 0\n",
    "        \n",
    "    if merge_p15['score'][i] < (merge_p15['mean_score_past_7_days'][i] + 5):\n",
    "        count = 0\n",
    "        if merge_p15['fatigue'][i] > 4:\n",
    "            count = count + 5\n",
    "        if merge_p15['mood'][i] > 4:\n",
    "            count = count + 5\n",
    "        if merge_p15['sleep_quality'][i] < 2:\n",
    "            count = count + 5\n",
    "        if merge_p15['stress'][i] > 4:\n",
    "            count = count + 5\n",
    "\n",
    "        if merge_p15['fatigue'][i] > 3:\n",
    "            count = count + 1\n",
    "        if merge_p15['mood'][i] > 3:\n",
    "            count = count + 1\n",
    "        if merge_p15['sleep_quality'][i] < 3:\n",
    "            count = count + 1\n",
    "        if merge_p15['stress'][i] > 3:\n",
    "            count = count + 1\n",
    "\n",
    "        if count >= 5:\n",
    "            #print('no exercise')\n",
    "            merge_p15['target'][i] = 0\n",
    "\n",
    "        elif (count >= 2) and (count < 5):\n",
    "            #print('light')\n",
    "            merge_p15['target'][i] = 1\n",
    "\n",
    "        elif count == 1:\n",
    "            #print('medium')\n",
    "            merge_p15['target'][i] = 2\n",
    "\n",
    "        else:\n",
    "            #print('high')\n",
    "            merge_p15['target'][i] = 3\n",
    "\n",
    "    else:\n",
    "        #print('no recommendation')\n",
    "        merge_p15['target'][i] = 0\n",
    "        "
   ]
  },
  {
   "cell_type": "code",
   "execution_count": 100,
   "id": "41d70e21",
   "metadata": {},
   "outputs": [
    {
     "name": "stderr",
     "output_type": "stream",
     "text": [
      "/var/folders/dw/8bh6ls4x3wsbdl11_ql0v2dh0000gn/T/ipykernel_9173/4211041762.py:8: SettingWithCopyWarning: \n",
      "A value is trying to be set on a copy of a slice from a DataFrame\n",
      "\n",
      "See the caveats in the documentation: https://pandas.pydata.org/pandas-docs/stable/user_guide/indexing.html#returning-a-view-versus-a-copy\n",
      "  merge_p16['mean_score_past_7_days'][i] = merge_p16.loc[first:last, 'score'].mean()\n",
      "/var/folders/dw/8bh6ls4x3wsbdl11_ql0v2dh0000gn/T/ipykernel_9173/4211041762.py:55: SettingWithCopyWarning: \n",
      "A value is trying to be set on a copy of a slice from a DataFrame\n",
      "\n",
      "See the caveats in the documentation: https://pandas.pydata.org/pandas-docs/stable/user_guide/indexing.html#returning-a-view-versus-a-copy\n",
      "  merge_p16['target'][i] = 3\n",
      "/var/folders/dw/8bh6ls4x3wsbdl11_ql0v2dh0000gn/T/ipykernel_9173/4211041762.py:59: SettingWithCopyWarning: \n",
      "A value is trying to be set on a copy of a slice from a DataFrame\n",
      "\n",
      "See the caveats in the documentation: https://pandas.pydata.org/pandas-docs/stable/user_guide/indexing.html#returning-a-view-versus-a-copy\n",
      "  merge_p16['target'][i] = 0\n",
      "/var/folders/dw/8bh6ls4x3wsbdl11_ql0v2dh0000gn/T/ipykernel_9173/4211041762.py:47: SettingWithCopyWarning: \n",
      "A value is trying to be set on a copy of a slice from a DataFrame\n",
      "\n",
      "See the caveats in the documentation: https://pandas.pydata.org/pandas-docs/stable/user_guide/indexing.html#returning-a-view-versus-a-copy\n",
      "  merge_p16['target'][i] = 1\n",
      "/var/folders/dw/8bh6ls4x3wsbdl11_ql0v2dh0000gn/T/ipykernel_9173/4211041762.py:51: SettingWithCopyWarning: \n",
      "A value is trying to be set on a copy of a slice from a DataFrame\n",
      "\n",
      "See the caveats in the documentation: https://pandas.pydata.org/pandas-docs/stable/user_guide/indexing.html#returning-a-view-versus-a-copy\n",
      "  merge_p16['target'][i] = 2\n",
      "/var/folders/dw/8bh6ls4x3wsbdl11_ql0v2dh0000gn/T/ipykernel_9173/4211041762.py:43: SettingWithCopyWarning: \n",
      "A value is trying to be set on a copy of a slice from a DataFrame\n",
      "\n",
      "See the caveats in the documentation: https://pandas.pydata.org/pandas-docs/stable/user_guide/indexing.html#returning-a-view-versus-a-copy\n",
      "  merge_p16['target'][i] = 0\n"
     ]
    }
   ],
   "source": [
    "#Adding a row with the mean score of the previous 7 days\n",
    "merge_p16['mean_score_past_7_days'] = 0\n",
    "\n",
    "for i in merge_p16.index:\n",
    "    first = i-7\n",
    "    last = i-1\n",
    "    if first >= 0:\n",
    "        merge_p16['mean_score_past_7_days'][i] = merge_p16.loc[first:last, 'score'].mean()\n",
    "\n",
    "#print(merge_p16)\n",
    "\n",
    "#Classify by using the previous score\n",
    "merge_p16['target'] = 0\n",
    "#print(merge_p16['mean_score_past_7_days'][22] + 5)\n",
    "\n",
    "for i in merge_p16.index:\n",
    "#     if merge_p16['score'][i] > 100:\n",
    "#         print('no recommendation')\n",
    "#         merge_p16['target'][i] = 0\n",
    "        \n",
    "    if merge_p16['score'][i] < (merge_p16['mean_score_past_7_days'][i] + 5):\n",
    "        count = 0\n",
    "        if merge_p16['fatigue'][i] > 4:\n",
    "            count = count + 5\n",
    "        if merge_p16['mood'][i] > 4:\n",
    "            count = count + 5\n",
    "        if merge_p16['sleep_quality'][i] < 2:\n",
    "            count = count + 5\n",
    "        if merge_p16['stress'][i] > 4:\n",
    "            count = count + 5\n",
    "\n",
    "        if merge_p16['fatigue'][i] > 3:\n",
    "            count = count + 1\n",
    "        if merge_p16['mood'][i] > 3:\n",
    "            count = count + 1\n",
    "        if merge_p16['sleep_quality'][i] < 3:\n",
    "            count = count + 1\n",
    "        if merge_p16['stress'][i] > 3:\n",
    "            count = count + 1\n",
    "\n",
    "        if count >= 5:\n",
    "            #print('no exercise')\n",
    "            merge_p16['target'][i] = 0\n",
    "\n",
    "        elif (count >= 2) and (count < 5):\n",
    "            #print('light')\n",
    "            merge_p16['target'][i] = 1\n",
    "\n",
    "        elif count == 1:\n",
    "            #print('medium')\n",
    "            merge_p16['target'][i] = 2\n",
    "\n",
    "        else:\n",
    "            #print('high')\n",
    "            merge_p16['target'][i] = 3\n",
    "\n",
    "    else:\n",
    "        #print('no recommendation')\n",
    "        merge_p16['target'][i] = 0\n",
    "        "
   ]
  },
  {
   "cell_type": "markdown",
   "id": "36563506",
   "metadata": {},
   "source": [
    "# Training per participant "
   ]
  },
  {
   "cell_type": "code",
   "execution_count": 101,
   "id": "a7616d22",
   "metadata": {},
   "outputs": [],
   "source": [
    "individual = merge_p1[['dateTime', 'moderately_active_minutes', 'fatigue', 'mood', 'sleep_duration_h', 'sleep_quality', 'stress', 'sleep_score', 'very_active_minutes', 'score', 'target', 'mean_score_past_7_days']]"
   ]
  },
  {
   "cell_type": "code",
   "execution_count": 102,
   "id": "773fbb5e",
   "metadata": {},
   "outputs": [],
   "source": [
    "individual = individual.dropna()\n",
    "individual_for_forest = individual[['score', 'fatigue', 'mood', 'sleep_duration_h', 'sleep_quality', 'stress', 'sleep_score', 'target', 'very_active_minutes', 'moderately_active_minutes']]"
   ]
  },
  {
   "cell_type": "code",
   "execution_count": 103,
   "id": "53cf3796",
   "metadata": {},
   "outputs": [
    {
     "data": {
      "text/plain": [
       "(array([], dtype=int64), array([], dtype=int64))"
      ]
     },
     "execution_count": 103,
     "metadata": {},
     "output_type": "execute_result"
    }
   ],
   "source": [
    "np.where(individual_for_forest.values >= np.finfo(np.float32).max)"
   ]
  },
  {
   "cell_type": "code",
   "execution_count": 104,
   "id": "7435a463",
   "metadata": {},
   "outputs": [],
   "source": [
    "individual = individual_for_forest"
   ]
  },
  {
   "cell_type": "code",
   "execution_count": 105,
   "id": "22839fe7",
   "metadata": {},
   "outputs": [],
   "source": [
    "target = individual['target']\n",
    "features = individual[['score', 'fatigue', 'mood', 'sleep_duration_h', 'sleep_quality', 'stress', 'sleep_score', 'moderately_active_minutes', 'very_active_minutes']]\n",
    "target_names = ['enough', 'light', 'medium', 'high']"
   ]
  },
  {
   "cell_type": "code",
   "execution_count": 106,
   "id": "614cfe8a",
   "metadata": {},
   "outputs": [],
   "source": [
    "X = features.to_numpy()\n",
    "Y = target.to_numpy()"
   ]
  },
  {
   "cell_type": "code",
   "execution_count": 107,
   "id": "4310cf37",
   "metadata": {},
   "outputs": [
    {
     "data": {
      "text/plain": [
       "(138,)"
      ]
     },
     "execution_count": 107,
     "metadata": {},
     "output_type": "execute_result"
    }
   ],
   "source": [
    "X.shape\n",
    "Y.shape"
   ]
  },
  {
   "cell_type": "code",
   "execution_count": 108,
   "id": "b9d231bf",
   "metadata": {},
   "outputs": [],
   "source": [
    "clf = RandomForestClassifier()"
   ]
  },
  {
   "cell_type": "code",
   "execution_count": 109,
   "id": "4e45a544",
   "metadata": {},
   "outputs": [
    {
     "data": {
      "text/plain": [
       "RandomForestClassifier()"
      ]
     },
     "execution_count": 109,
     "metadata": {},
     "output_type": "execute_result"
    }
   ],
   "source": [
    "clf.fit(X,Y)"
   ]
  },
  {
   "cell_type": "code",
   "execution_count": 110,
   "id": "ab86d958",
   "metadata": {},
   "outputs": [],
   "source": [
    "X_train, X_test, Y_train, Y_test = train_test_split(X, Y, test_size=0.2)"
   ]
  },
  {
   "cell_type": "code",
   "execution_count": 111,
   "id": "2fb8b9ec",
   "metadata": {},
   "outputs": [
    {
     "data": {
      "text/plain": [
       "((28, 9), (28,))"
      ]
     },
     "execution_count": 111,
     "metadata": {},
     "output_type": "execute_result"
    }
   ],
   "source": [
    "X_train.shape, Y_train.shape\n",
    "X_test.shape, Y_test.shape"
   ]
  },
  {
   "cell_type": "code",
   "execution_count": 112,
   "id": "cc6371a6",
   "metadata": {},
   "outputs": [
    {
     "data": {
      "text/plain": [
       "RandomForestClassifier()"
      ]
     },
     "execution_count": 112,
     "metadata": {},
     "output_type": "execute_result"
    }
   ],
   "source": [
    "clf.fit(X_train, Y_train)"
   ]
  },
  {
   "cell_type": "code",
   "execution_count": 113,
   "id": "445d70bf",
   "metadata": {},
   "outputs": [
    {
     "name": "stdout",
     "output_type": "stream",
     "text": [
      "Accuracy: 0.6785714285714286\n"
     ]
    }
   ],
   "source": [
    "y_pred = clf.predict(X_test)\n",
    "print(\"Accuracy:\",metrics.accuracy_score(Y_test, y_pred))"
   ]
  },
  {
   "cell_type": "code",
   "execution_count": 114,
   "id": "5207b7fb",
   "metadata": {},
   "outputs": [
    {
     "data": {
      "text/plain": [
       "<AxesSubplot:title={'center':'Confusion Matrix for GBC'}, xlabel='Predicted label', ylabel='True label'>"
      ]
     },
     "execution_count": 114,
     "metadata": {},
     "output_type": "execute_result"
    },
    {
     "data": {
      "image/png": "[encoded data removed]",
      "text/plain": [
       "<Figure size 432x288 with 2 Axes>"
      ]
     },
     "metadata": {
      "needs_background": "light"
     },
     "output_type": "display_data"
    }
   ],
   "source": [
    "skplt.metrics.plot_confusion_matrix(Y_test, clf.predict(X_test), normalize=True, title = 'Confusion Matrix for GBC')"
   ]
  },
  {
   "cell_type": "markdown",
   "id": "65d55c31",
   "metadata": {},
   "source": [
    "# Merging the data"
   ]
  },
  {
   "cell_type": "code",
   "execution_count": 115,
   "id": "001fd10b",
   "metadata": {},
   "outputs": [],
   "source": [
    "total = pd.concat([merge_p1, merge_p2, merge_p3, merge_p4, merge_p5, merge_p6, merge_p7, merge_p8, merge_p9, merge_p10, merge_p11, merge_p12, merge_p13, merge_p14, merge_p15, merge_p16]).sort_index().reset_index(drop=True)"
   ]
  },
  {
   "cell_type": "code",
   "execution_count": 116,
   "id": "00b2f00f",
   "metadata": {},
   "outputs": [],
   "source": [
    "total = total[['dateTime', 'moderately_active_minutes', 'fatigue', 'mood', 'sleep_duration_h', 'sleep_quality', 'stress', 'sleep_score', 'very_active_minutes', 'score', 'target', 'mean_score_past_7_days']]"
   ]
  },
  {
   "cell_type": "markdown",
   "id": "3875d7db",
   "metadata": {},
   "source": [
    "# Dropping empty rows"
   ]
  },
  {
   "cell_type": "code",
   "execution_count": 117,
   "id": "0d1869e4",
   "metadata": {},
   "outputs": [],
   "source": [
    "total = total.dropna()\n",
    "total_for_forest = total[['score', 'fatigue', 'mood', 'sleep_duration_h', 'sleep_quality', 'stress', 'sleep_score', 'target', 'very_active_minutes', 'moderately_active_minutes', 'mean_score_past_7_days']]"
   ]
  },
  {
   "cell_type": "code",
   "execution_count": 118,
   "id": "28679623",
   "metadata": {},
   "outputs": [
    {
     "data": {
      "text/plain": [
       "(array([], dtype=int64), array([], dtype=int64))"
      ]
     },
     "execution_count": 118,
     "metadata": {},
     "output_type": "execute_result"
    }
   ],
   "source": [
    "np.where(total_for_forest.values >= np.finfo(np.float32).max)"
   ]
  },
  {
   "cell_type": "code",
   "execution_count": 119,
   "id": "be0bd325",
   "metadata": {},
   "outputs": [],
   "source": [
    "total = total_for_forest"
   ]
  },
  {
   "cell_type": "markdown",
   "id": "62e19ab9",
   "metadata": {},
   "source": [
    "# Random forest"
   ]
  },
  {
   "cell_type": "code",
   "execution_count": 120,
   "id": "bbc1870b",
   "metadata": {},
   "outputs": [],
   "source": [
    "target = total['target']\n",
    "features = total[['score', 'fatigue', 'mood', 'sleep_duration_h', 'sleep_quality', 'stress', 'sleep_score', 'moderately_active_minutes', 'very_active_minutes', 'mean_score_past_7_days']]\n",
    "target_names = ['enough', 'light', 'medium', 'high']"
   ]
  },
  {
   "cell_type": "code",
   "execution_count": 121,
   "id": "30c20c62",
   "metadata": {},
   "outputs": [],
   "source": [
    "X = features.to_numpy()\n",
    "Y = target.to_numpy()"
   ]
  },
  {
   "cell_type": "code",
   "execution_count": 122,
   "id": "7f86ead8",
   "metadata": {},
   "outputs": [
    {
     "data": {
      "text/plain": [
       "(1480, 10)"
      ]
     },
     "execution_count": 122,
     "metadata": {},
     "output_type": "execute_result"
    }
   ],
   "source": [
    "X.shape"
   ]
  },
  {
   "cell_type": "code",
   "execution_count": 123,
   "id": "1a646163",
   "metadata": {},
   "outputs": [
    {
     "data": {
      "text/plain": [
       "(1480,)"
      ]
     },
     "execution_count": 123,
     "metadata": {},
     "output_type": "execute_result"
    }
   ],
   "source": [
    "Y.shape"
   ]
  },
  {
   "cell_type": "code",
   "execution_count": 124,
   "id": "07137035",
   "metadata": {},
   "outputs": [],
   "source": [
    "clf = RandomForestClassifier()"
   ]
  },
  {
   "cell_type": "code",
   "execution_count": 125,
   "id": "04b28d08",
   "metadata": {},
   "outputs": [
    {
     "data": {
      "text/plain": [
       "RandomForestClassifier()"
      ]
     },
     "execution_count": 125,
     "metadata": {},
     "output_type": "execute_result"
    }
   ],
   "source": [
    "clf.fit(X,Y)"
   ]
  },
  {
   "cell_type": "code",
   "execution_count": 126,
   "id": "815f59d3",
   "metadata": {},
   "outputs": [
    {
     "name": "stdout",
     "output_type": "stream",
     "text": [
      "[0.23914125 0.04080244 0.10801625 0.03291186 0.10095097 0.07371996\n",
      " 0.07056594 0.06292643 0.06504475 0.20592016]\n"
     ]
    }
   ],
   "source": [
    "print(clf.feature_importances_)"
   ]
  },
  {
   "cell_type": "code",
   "execution_count": 127,
   "id": "5485f3eb",
   "metadata": {},
   "outputs": [],
   "source": [
    "X_train, X_test, Y_train, Y_test = train_test_split(X, Y, test_size=0.2)"
   ]
  },
  {
   "cell_type": "code",
   "execution_count": 128,
   "id": "7cbedaab",
   "metadata": {},
   "outputs": [
    {
     "data": {
      "text/plain": [
       "((1184, 10), (1184,))"
      ]
     },
     "execution_count": 128,
     "metadata": {},
     "output_type": "execute_result"
    }
   ],
   "source": [
    "X_train.shape, Y_train.shape"
   ]
  },
  {
   "cell_type": "code",
   "execution_count": 129,
   "id": "3f376de4",
   "metadata": {},
   "outputs": [
    {
     "data": {
      "text/plain": [
       "((296, 10), (296,))"
      ]
     },
     "execution_count": 129,
     "metadata": {},
     "output_type": "execute_result"
    }
   ],
   "source": [
    "X_test.shape, Y_test.shape"
   ]
  },
  {
   "cell_type": "code",
   "execution_count": 130,
   "id": "02335436",
   "metadata": {},
   "outputs": [
    {
     "data": {
      "text/plain": [
       "RandomForestClassifier()"
      ]
     },
     "execution_count": 130,
     "metadata": {},
     "output_type": "execute_result"
    }
   ],
   "source": [
    "clf.fit(X_train, Y_train)"
   ]
  },
  {
   "cell_type": "code",
   "execution_count": 131,
   "id": "803eaf3d",
   "metadata": {},
   "outputs": [],
   "source": [
    "predictions = clf.predict(X_test)"
   ]
  },
  {
   "cell_type": "code",
   "execution_count": 132,
   "id": "b71c9f51",
   "metadata": {},
   "outputs": [
    {
     "name": "stdout",
     "output_type": "stream",
     "text": [
      "Accuracy: 0.8412162162162162\n"
     ]
    }
   ],
   "source": [
    "y_pred = clf.predict(X_test)\n",
    "print(\"Accuracy:\", metrics.accuracy_score(Y_test, y_pred))"
   ]
  },
  {
   "cell_type": "code",
   "execution_count": 133,
   "id": "fa4e565b",
   "metadata": {},
   "outputs": [
    {
     "data": {
      "text/plain": [
       "<AxesSubplot:title={'center':'Confusion Matrix for GBC'}, xlabel='Predicted label', ylabel='True label'>"
      ]
     },
     "execution_count": 133,
     "metadata": {},
     "output_type": "execute_result"
    },
    {
     "data": {
      "image/png": "[encoded data removed]",
      "text/plain": [
       "<Figure size 432x288 with 2 Axes>"
      ]
     },
     "metadata": {
      "needs_background": "light"
     },
     "output_type": "display_data"
    }
   ],
   "source": [
    "skplt.metrics.plot_confusion_matrix(Y_test, clf.predict(X_test), normalize=False, title = 'Confusion Matrix for GBC')\n"
   ]
  },
  {
   "cell_type": "code",
   "execution_count": 134,
   "id": "81bd532f",
   "metadata": {},
   "outputs": [
    {
     "data": {
      "text/plain": [
       "<AxesSubplot:title={'center':'Confusion Matrix for GBC'}, xlabel='Predicted label', ylabel='True label'>"
      ]
     },
     "execution_count": 134,
     "metadata": {},
     "output_type": "execute_result"
    },
    {
     "data": {
      "image/png": "[encoded data removed]",
      "text/plain": [
       "<Figure size 432x288 with 2 Axes>"
      ]
     },
     "metadata": {
      "needs_background": "light"
     },
     "output_type": "display_data"
    }
   ],
   "source": [
    "skplt.metrics.plot_confusion_matrix(Y_test, clf.predict(X_test), normalize=False, title = 'Confusion Matrix for GBC')"
   ]
  },
  {
   "cell_type": "code",
   "execution_count": 135,
   "id": "393e8bd7",
   "metadata": {},
   "outputs": [
    {
     "data": {
      "image/png": "[encoded data removed]",
      "text/plain": [
       "<Figure size 720x576 with 1 Axes>"
      ]
     },
     "metadata": {
      "needs_background": "light"
     },
     "output_type": "display_data"
    }
   ],
   "source": [
    "feature_importance = np.array(clf.feature_importances_)\n",
    "feature_names = np.array(['score', 'fatigue', 'mood', 'sleep_duration_h', 'sleep_quality', 'stress', 'sleep_score', 'moderately_active_minutes', 'very_active_minutes', 'mean_score_past_7_days'])\n",
    "\n",
    "data={'feature_names':feature_names,'feature_importance':feature_importance}\n",
    "fi_df = pd.DataFrame(data)\n",
    "fi_df.sort_values(by=['feature_importance'], ascending=False,inplace=True)\n",
    "\n",
    "#Define size of bar plot\n",
    "plt.figure(figsize=(10,8))\n",
    "\n",
    "#Plot Searborn bar chart\n",
    "sns.barplot(x=fi_df['feature_importance'], y=fi_df['feature_names'])\n",
    "\n",
    "#Add chart labels\n",
    "plt.title('FEATURE IMPORTANCE')\n",
    "plt.xlabel('FEATURE IMPORTANCE')\n",
    "plt.ylabel('FEATURE NAMES')\n",
    "\n",
    "plt.show()"
   ]
  },
  {
   "cell_type": "code",
   "execution_count": 136,
   "id": "38c8aa3f",
   "metadata": {},
   "outputs": [
    {
     "name": "stderr",
     "output_type": "stream",
     "text": [
      "/Users/emmadriesse/opt/anaconda3/lib/python3.9/site-packages/sklearn/linear_model/_logistic.py:814: ConvergenceWarning: lbfgs failed to converge (status=1):\n",
      "STOP: TOTAL NO. of ITERATIONS REACHED LIMIT.\n",
      "\n",
      "Increase the number of iterations (max_iter) or scale the data as shown in:\n",
      "    https://scikit-learn.org/stable/modules/preprocessing.html\n",
      "Please also refer to the documentation for alternative solver options:\n",
      "    https://scikit-learn.org/stable/modules/linear_model.html#logistic-regression\n",
      "  n_iter_i = _check_optimize_result(\n",
      "/Users/emmadriesse/opt/anaconda3/lib/python3.9/site-packages/sklearn/linear_model/_logistic.py:814: ConvergenceWarning: lbfgs failed to converge (status=1):\n",
      "STOP: TOTAL NO. of ITERATIONS REACHED LIMIT.\n",
      "\n",
      "Increase the number of iterations (max_iter) or scale the data as shown in:\n",
      "    https://scikit-learn.org/stable/modules/preprocessing.html\n",
      "Please also refer to the documentation for alternative solver options:\n",
      "    https://scikit-learn.org/stable/modules/linear_model.html#logistic-regression\n",
      "  n_iter_i = _check_optimize_result(\n",
      "/Users/emmadriesse/opt/anaconda3/lib/python3.9/site-packages/sklearn/linear_model/_logistic.py:814: ConvergenceWarning: lbfgs failed to converge (status=1):\n",
      "STOP: TOTAL NO. of ITERATIONS REACHED LIMIT.\n",
      "\n",
      "Increase the number of iterations (max_iter) or scale the data as shown in:\n",
      "    https://scikit-learn.org/stable/modules/preprocessing.html\n",
      "Please also refer to the documentation for alternative solver options:\n",
      "    https://scikit-learn.org/stable/modules/linear_model.html#logistic-regression\n",
      "  n_iter_i = _check_optimize_result(\n",
      "/Users/emmadriesse/opt/anaconda3/lib/python3.9/site-packages/sklearn/linear_model/_logistic.py:814: ConvergenceWarning: lbfgs failed to converge (status=1):\n",
      "STOP: TOTAL NO. of ITERATIONS REACHED LIMIT.\n",
      "\n",
      "Increase the number of iterations (max_iter) or scale the data as shown in:\n",
      "    https://scikit-learn.org/stable/modules/preprocessing.html\n",
      "Please also refer to the documentation for alternative solver options:\n",
      "    https://scikit-learn.org/stable/modules/linear_model.html#logistic-regression\n",
      "  n_iter_i = _check_optimize_result(\n",
      "/Users/emmadriesse/opt/anaconda3/lib/python3.9/site-packages/sklearn/linear_model/_logistic.py:814: ConvergenceWarning: lbfgs failed to converge (status=1):\n",
      "STOP: TOTAL NO. of ITERATIONS REACHED LIMIT.\n",
      "\n",
      "Increase the number of iterations (max_iter) or scale the data as shown in:\n",
      "    https://scikit-learn.org/stable/modules/preprocessing.html\n",
      "Please also refer to the documentation for alternative solver options:\n",
      "    https://scikit-learn.org/stable/modules/linear_model.html#logistic-regression\n",
      "  n_iter_i = _check_optimize_result(\n",
      "/Users/emmadriesse/opt/anaconda3/lib/python3.9/site-packages/sklearn/linear_model/_logistic.py:814: ConvergenceWarning: lbfgs failed to converge (status=1):\n",
      "STOP: TOTAL NO. of ITERATIONS REACHED LIMIT.\n",
      "\n",
      "Increase the number of iterations (max_iter) or scale the data as shown in:\n",
      "    https://scikit-learn.org/stable/modules/preprocessing.html\n",
      "Please also refer to the documentation for alternative solver options:\n",
      "    https://scikit-learn.org/stable/modules/linear_model.html#logistic-regression\n",
      "  n_iter_i = _check_optimize_result(\n",
      "/Users/emmadriesse/opt/anaconda3/lib/python3.9/site-packages/sklearn/linear_model/_logistic.py:814: ConvergenceWarning: lbfgs failed to converge (status=1):\n",
      "STOP: TOTAL NO. of ITERATIONS REACHED LIMIT.\n",
      "\n",
      "Increase the number of iterations (max_iter) or scale the data as shown in:\n",
      "    https://scikit-learn.org/stable/modules/preprocessing.html\n",
      "Please also refer to the documentation for alternative solver options:\n",
      "    https://scikit-learn.org/stable/modules/linear_model.html#logistic-regression\n",
      "  n_iter_i = _check_optimize_result(\n",
      "/Users/emmadriesse/opt/anaconda3/lib/python3.9/site-packages/sklearn/linear_model/_logistic.py:814: ConvergenceWarning: lbfgs failed to converge (status=1):\n",
      "STOP: TOTAL NO. of ITERATIONS REACHED LIMIT.\n",
      "\n",
      "Increase the number of iterations (max_iter) or scale the data as shown in:\n",
      "    https://scikit-learn.org/stable/modules/preprocessing.html\n",
      "Please also refer to the documentation for alternative solver options:\n",
      "    https://scikit-learn.org/stable/modules/linear_model.html#logistic-regression\n",
      "  n_iter_i = _check_optimize_result(\n",
      "/Users/emmadriesse/opt/anaconda3/lib/python3.9/site-packages/sklearn/linear_model/_logistic.py:814: ConvergenceWarning: lbfgs failed to converge (status=1):\n",
      "STOP: TOTAL NO. of ITERATIONS REACHED LIMIT.\n",
      "\n",
      "Increase the number of iterations (max_iter) or scale the data as shown in:\n",
      "    https://scikit-learn.org/stable/modules/preprocessing.html\n",
      "Please also refer to the documentation for alternative solver options:\n",
      "    https://scikit-learn.org/stable/modules/linear_model.html#logistic-regression\n",
      "  n_iter_i = _check_optimize_result(\n",
      "/Users/emmadriesse/opt/anaconda3/lib/python3.9/site-packages/sklearn/linear_model/_logistic.py:814: ConvergenceWarning: lbfgs failed to converge (status=1):\n",
      "STOP: TOTAL NO. of ITERATIONS REACHED LIMIT.\n",
      "\n",
      "Increase the number of iterations (max_iter) or scale the data as shown in:\n",
      "    https://scikit-learn.org/stable/modules/preprocessing.html\n",
      "Please also refer to the documentation for alternative solver options:\n",
      "    https://scikit-learn.org/stable/modules/linear_model.html#logistic-regression\n",
      "  n_iter_i = _check_optimize_result(\n",
      "/Users/emmadriesse/opt/anaconda3/lib/python3.9/site-packages/sklearn/linear_model/_logistic.py:814: ConvergenceWarning: lbfgs failed to converge (status=1):\n",
      "STOP: TOTAL NO. of ITERATIONS REACHED LIMIT.\n",
      "\n",
      "Increase the number of iterations (max_iter) or scale the data as shown in:\n",
      "    https://scikit-learn.org/stable/modules/preprocessing.html\n",
      "Please also refer to the documentation for alternative solver options:\n",
      "    https://scikit-learn.org/stable/modules/linear_model.html#logistic-regression\n",
      "  n_iter_i = _check_optimize_result(\n",
      "/Users/emmadriesse/opt/anaconda3/lib/python3.9/site-packages/sklearn/linear_model/_logistic.py:814: ConvergenceWarning: lbfgs failed to converge (status=1):\n",
      "STOP: TOTAL NO. of ITERATIONS REACHED LIMIT.\n",
      "\n",
      "Increase the number of iterations (max_iter) or scale the data as shown in:\n",
      "    https://scikit-learn.org/stable/modules/preprocessing.html\n",
      "Please also refer to the documentation for alternative solver options:\n",
      "    https://scikit-learn.org/stable/modules/linear_model.html#logistic-regression\n",
      "  n_iter_i = _check_optimize_result(\n",
      "/Users/emmadriesse/opt/anaconda3/lib/python3.9/site-packages/sklearn/linear_model/_logistic.py:814: ConvergenceWarning: lbfgs failed to converge (status=1):\n",
      "STOP: TOTAL NO. of ITERATIONS REACHED LIMIT.\n",
      "\n",
      "Increase the number of iterations (max_iter) or scale the data as shown in:\n",
      "    https://scikit-learn.org/stable/modules/preprocessing.html\n",
      "Please also refer to the documentation for alternative solver options:\n",
      "    https://scikit-learn.org/stable/modules/linear_model.html#logistic-regression\n",
      "  n_iter_i = _check_optimize_result(\n",
      "/Users/emmadriesse/opt/anaconda3/lib/python3.9/site-packages/sklearn/linear_model/_logistic.py:814: ConvergenceWarning: lbfgs failed to converge (status=1):\n",
      "STOP: TOTAL NO. of ITERATIONS REACHED LIMIT.\n",
      "\n",
      "Increase the number of iterations (max_iter) or scale the data as shown in:\n",
      "    https://scikit-learn.org/stable/modules/preprocessing.html\n",
      "Please also refer to the documentation for alternative solver options:\n",
      "    https://scikit-learn.org/stable/modules/linear_model.html#logistic-regression\n",
      "  n_iter_i = _check_optimize_result(\n",
      "/Users/emmadriesse/opt/anaconda3/lib/python3.9/site-packages/sklearn/linear_model/_logistic.py:814: ConvergenceWarning: lbfgs failed to converge (status=1):\n",
      "STOP: TOTAL NO. of ITERATIONS REACHED LIMIT.\n",
      "\n",
      "Increase the number of iterations (max_iter) or scale the data as shown in:\n",
      "    https://scikit-learn.org/stable/modules/preprocessing.html\n",
      "Please also refer to the documentation for alternative solver options:\n",
      "    https://scikit-learn.org/stable/modules/linear_model.html#logistic-regression\n",
      "  n_iter_i = _check_optimize_result(\n",
      "/Users/emmadriesse/opt/anaconda3/lib/python3.9/site-packages/sklearn/linear_model/_logistic.py:814: ConvergenceWarning: lbfgs failed to converge (status=1):\n",
      "STOP: TOTAL NO. of ITERATIONS REACHED LIMIT.\n",
      "\n",
      "Increase the number of iterations (max_iter) or scale the data as shown in:\n",
      "    https://scikit-learn.org/stable/modules/preprocessing.html\n",
      "Please also refer to the documentation for alternative solver options:\n",
      "    https://scikit-learn.org/stable/modules/linear_model.html#logistic-regression\n",
      "  n_iter_i = _check_optimize_result(\n",
      "/Users/emmadriesse/opt/anaconda3/lib/python3.9/site-packages/sklearn/linear_model/_logistic.py:814: ConvergenceWarning: lbfgs failed to converge (status=1):\n",
      "STOP: TOTAL NO. of ITERATIONS REACHED LIMIT.\n",
      "\n",
      "Increase the number of iterations (max_iter) or scale the data as shown in:\n",
      "    https://scikit-learn.org/stable/modules/preprocessing.html\n",
      "Please also refer to the documentation for alternative solver options:\n",
      "    https://scikit-learn.org/stable/modules/linear_model.html#logistic-regression\n",
      "  n_iter_i = _check_optimize_result(\n",
      "/Users/emmadriesse/opt/anaconda3/lib/python3.9/site-packages/sklearn/linear_model/_logistic.py:814: ConvergenceWarning: lbfgs failed to converge (status=1):\n",
      "STOP: TOTAL NO. of ITERATIONS REACHED LIMIT.\n",
      "\n",
      "Increase the number of iterations (max_iter) or scale the data as shown in:\n",
      "    https://scikit-learn.org/stable/modules/preprocessing.html\n",
      "Please also refer to the documentation for alternative solver options:\n",
      "    https://scikit-learn.org/stable/modules/linear_model.html#logistic-regression\n",
      "  n_iter_i = _check_optimize_result(\n",
      "/Users/emmadriesse/opt/anaconda3/lib/python3.9/site-packages/sklearn/linear_model/_logistic.py:814: ConvergenceWarning: lbfgs failed to converge (status=1):\n",
      "STOP: TOTAL NO. of ITERATIONS REACHED LIMIT.\n",
      "\n",
      "Increase the number of iterations (max_iter) or scale the data as shown in:\n",
      "    https://scikit-learn.org/stable/modules/preprocessing.html\n",
      "Please also refer to the documentation for alternative solver options:\n",
      "    https://scikit-learn.org/stable/modules/linear_model.html#logistic-regression\n",
      "  n_iter_i = _check_optimize_result(\n",
      "/Users/emmadriesse/opt/anaconda3/lib/python3.9/site-packages/sklearn/linear_model/_logistic.py:814: ConvergenceWarning: lbfgs failed to converge (status=1):\n",
      "STOP: TOTAL NO. of ITERATIONS REACHED LIMIT.\n",
      "\n",
      "Increase the number of iterations (max_iter) or scale the data as shown in:\n",
      "    https://scikit-learn.org/stable/modules/preprocessing.html\n",
      "Please also refer to the documentation for alternative solver options:\n",
      "    https://scikit-learn.org/stable/modules/linear_model.html#logistic-regression\n",
      "  n_iter_i = _check_optimize_result(\n",
      "/Users/emmadriesse/opt/anaconda3/lib/python3.9/site-packages/sklearn/linear_model/_logistic.py:814: ConvergenceWarning: lbfgs failed to converge (status=1):\n",
      "STOP: TOTAL NO. of ITERATIONS REACHED LIMIT.\n",
      "\n",
      "Increase the number of iterations (max_iter) or scale the data as shown in:\n",
      "    https://scikit-learn.org/stable/modules/preprocessing.html\n",
      "Please also refer to the documentation for alternative solver options:\n",
      "    https://scikit-learn.org/stable/modules/linear_model.html#logistic-regression\n",
      "  n_iter_i = _check_optimize_result(\n",
      "/Users/emmadriesse/opt/anaconda3/lib/python3.9/site-packages/sklearn/linear_model/_logistic.py:814: ConvergenceWarning: lbfgs failed to converge (status=1):\n",
      "STOP: TOTAL NO. of ITERATIONS REACHED LIMIT.\n",
      "\n",
      "Increase the number of iterations (max_iter) or scale the data as shown in:\n",
      "    https://scikit-learn.org/stable/modules/preprocessing.html\n",
      "Please also refer to the documentation for alternative solver options:\n",
      "    https://scikit-learn.org/stable/modules/linear_model.html#logistic-regression\n",
      "  n_iter_i = _check_optimize_result(\n",
      "/Users/emmadriesse/opt/anaconda3/lib/python3.9/site-packages/sklearn/linear_model/_logistic.py:814: ConvergenceWarning: lbfgs failed to converge (status=1):\n",
      "STOP: TOTAL NO. of ITERATIONS REACHED LIMIT.\n",
      "\n",
      "Increase the number of iterations (max_iter) or scale the data as shown in:\n",
      "    https://scikit-learn.org/stable/modules/preprocessing.html\n",
      "Please also refer to the documentation for alternative solver options:\n",
      "    https://scikit-learn.org/stable/modules/linear_model.html#logistic-regression\n",
      "  n_iter_i = _check_optimize_result(\n",
      "/Users/emmadriesse/opt/anaconda3/lib/python3.9/site-packages/sklearn/linear_model/_logistic.py:814: ConvergenceWarning: lbfgs failed to converge (status=1):\n",
      "STOP: TOTAL NO. of ITERATIONS REACHED LIMIT.\n",
      "\n",
      "Increase the number of iterations (max_iter) or scale the data as shown in:\n",
      "    https://scikit-learn.org/stable/modules/preprocessing.html\n",
      "Please also refer to the documentation for alternative solver options:\n",
      "    https://scikit-learn.org/stable/modules/linear_model.html#logistic-regression\n",
      "  n_iter_i = _check_optimize_result(\n",
      "/Users/emmadriesse/opt/anaconda3/lib/python3.9/site-packages/sklearn/linear_model/_logistic.py:814: ConvergenceWarning: lbfgs failed to converge (status=1):\n",
      "STOP: TOTAL NO. of ITERATIONS REACHED LIMIT.\n",
      "\n",
      "Increase the number of iterations (max_iter) or scale the data as shown in:\n",
      "    https://scikit-learn.org/stable/modules/preprocessing.html\n",
      "Please also refer to the documentation for alternative solver options:\n",
      "    https://scikit-learn.org/stable/modules/linear_model.html#logistic-regression\n",
      "  n_iter_i = _check_optimize_result(\n",
      "/Users/emmadriesse/opt/anaconda3/lib/python3.9/site-packages/sklearn/linear_model/_logistic.py:814: ConvergenceWarning: lbfgs failed to converge (status=1):\n",
      "STOP: TOTAL NO. of ITERATIONS REACHED LIMIT.\n",
      "\n",
      "Increase the number of iterations (max_iter) or scale the data as shown in:\n",
      "    https://scikit-learn.org/stable/modules/preprocessing.html\n",
      "Please also refer to the documentation for alternative solver options:\n",
      "    https://scikit-learn.org/stable/modules/linear_model.html#logistic-regression\n",
      "  n_iter_i = _check_optimize_result(\n",
      "/Users/emmadriesse/opt/anaconda3/lib/python3.9/site-packages/sklearn/linear_model/_logistic.py:814: ConvergenceWarning: lbfgs failed to converge (status=1):\n",
      "STOP: TOTAL NO. of ITERATIONS REACHED LIMIT.\n",
      "\n",
      "Increase the number of iterations (max_iter) or scale the data as shown in:\n",
      "    https://scikit-learn.org/stable/modules/preprocessing.html\n",
      "Please also refer to the documentation for alternative solver options:\n",
      "    https://scikit-learn.org/stable/modules/linear_model.html#logistic-regression\n",
      "  n_iter_i = _check_optimize_result(\n",
      "/Users/emmadriesse/opt/anaconda3/lib/python3.9/site-packages/sklearn/linear_model/_logistic.py:814: ConvergenceWarning: lbfgs failed to converge (status=1):\n",
      "STOP: TOTAL NO. of ITERATIONS REACHED LIMIT.\n",
      "\n",
      "Increase the number of iterations (max_iter) or scale the data as shown in:\n",
      "    https://scikit-learn.org/stable/modules/preprocessing.html\n",
      "Please also refer to the documentation for alternative solver options:\n",
      "    https://scikit-learn.org/stable/modules/linear_model.html#logistic-regression\n",
      "  n_iter_i = _check_optimize_result(\n",
      "/Users/emmadriesse/opt/anaconda3/lib/python3.9/site-packages/sklearn/linear_model/_logistic.py:814: ConvergenceWarning: lbfgs failed to converge (status=1):\n",
      "STOP: TOTAL NO. of ITERATIONS REACHED LIMIT.\n",
      "\n",
      "Increase the number of iterations (max_iter) or scale the data as shown in:\n",
      "    https://scikit-learn.org/stable/modules/preprocessing.html\n",
      "Please also refer to the documentation for alternative solver options:\n",
      "    https://scikit-learn.org/stable/modules/linear_model.html#logistic-regression\n",
      "  n_iter_i = _check_optimize_result(\n",
      "/Users/emmadriesse/opt/anaconda3/lib/python3.9/site-packages/sklearn/linear_model/_logistic.py:814: ConvergenceWarning: lbfgs failed to converge (status=1):\n",
      "STOP: TOTAL NO. of ITERATIONS REACHED LIMIT.\n",
      "\n",
      "Increase the number of iterations (max_iter) or scale the data as shown in:\n",
      "    https://scikit-learn.org/stable/modules/preprocessing.html\n",
      "Please also refer to the documentation for alternative solver options:\n",
      "    https://scikit-learn.org/stable/modules/linear_model.html#logistic-regression\n",
      "  n_iter_i = _check_optimize_result(\n",
      "/Users/emmadriesse/opt/anaconda3/lib/python3.9/site-packages/sklearn/linear_model/_logistic.py:814: ConvergenceWarning: lbfgs failed to converge (status=1):\n",
      "STOP: TOTAL NO. of ITERATIONS REACHED LIMIT.\n",
      "\n",
      "Increase the number of iterations (max_iter) or scale the data as shown in:\n",
      "    https://scikit-learn.org/stable/modules/preprocessing.html\n",
      "Please also refer to the documentation for alternative solver options:\n",
      "    https://scikit-learn.org/stable/modules/linear_model.html#logistic-regression\n",
      "  n_iter_i = _check_optimize_result(\n",
      "/Users/emmadriesse/opt/anaconda3/lib/python3.9/site-packages/sklearn/linear_model/_logistic.py:814: ConvergenceWarning: lbfgs failed to converge (status=1):\n",
      "STOP: TOTAL NO. of ITERATIONS REACHED LIMIT.\n",
      "\n",
      "Increase the number of iterations (max_iter) or scale the data as shown in:\n",
      "    https://scikit-learn.org/stable/modules/preprocessing.html\n",
      "Please also refer to the documentation for alternative solver options:\n",
      "    https://scikit-learn.org/stable/modules/linear_model.html#logistic-regression\n",
      "  n_iter_i = _check_optimize_result(\n",
      "/Users/emmadriesse/opt/anaconda3/lib/python3.9/site-packages/sklearn/linear_model/_logistic.py:814: ConvergenceWarning: lbfgs failed to converge (status=1):\n",
      "STOP: TOTAL NO. of ITERATIONS REACHED LIMIT.\n",
      "\n",
      "Increase the number of iterations (max_iter) or scale the data as shown in:\n",
      "    https://scikit-learn.org/stable/modules/preprocessing.html\n",
      "Please also refer to the documentation for alternative solver options:\n",
      "    https://scikit-learn.org/stable/modules/linear_model.html#logistic-regression\n",
      "  n_iter_i = _check_optimize_result(\n",
      "/Users/emmadriesse/opt/anaconda3/lib/python3.9/site-packages/sklearn/linear_model/_logistic.py:814: ConvergenceWarning: lbfgs failed to converge (status=1):\n",
      "STOP: TOTAL NO. of ITERATIONS REACHED LIMIT.\n",
      "\n",
      "Increase the number of iterations (max_iter) or scale the data as shown in:\n",
      "    https://scikit-learn.org/stable/modules/preprocessing.html\n",
      "Please also refer to the documentation for alternative solver options:\n",
      "    https://scikit-learn.org/stable/modules/linear_model.html#logistic-regression\n",
      "  n_iter_i = _check_optimize_result(\n",
      "/Users/emmadriesse/opt/anaconda3/lib/python3.9/site-packages/sklearn/linear_model/_logistic.py:814: ConvergenceWarning: lbfgs failed to converge (status=1):\n",
      "STOP: TOTAL NO. of ITERATIONS REACHED LIMIT.\n",
      "\n",
      "Increase the number of iterations (max_iter) or scale the data as shown in:\n",
      "    https://scikit-learn.org/stable/modules/preprocessing.html\n",
      "Please also refer to the documentation for alternative solver options:\n",
      "    https://scikit-learn.org/stable/modules/linear_model.html#logistic-regression\n",
      "  n_iter_i = _check_optimize_result(\n"
     ]
    },
    {
     "data": {
      "image/png": "[encoded data removed]",
      "text/plain": [
       "<Figure size 432x288 with 1 Axes>"
      ]
     },
     "metadata": {
      "needs_background": "light"
     },
     "output_type": "display_data"
    }
   ],
   "source": [
    "skplt.estimators.plot_learning_curve(LogisticRegression(), X, Y,\n",
    "                                     cv=7, shuffle=True, scoring=\"accuracy\",\n",
    "                                     n_jobs=-1, figsize=(6,4), title_fontsize=\"large\", text_fontsize=\"large\",\n",
    "                                     title=\"Digits Classification Learning Curve\");"
   ]
  },
  {
   "cell_type": "code",
   "execution_count": 137,
   "id": "69168fc5",
   "metadata": {},
   "outputs": [
    {
     "name": "stdout",
     "output_type": "stream",
     "text": [
      "0.5221406805997457\n"
     ]
    }
   ],
   "source": [
    "r2 = r2_score(Y_test, predictions)\n",
    "print(r2)"
   ]
  },
  {
   "cell_type": "code",
   "execution_count": 138,
   "id": "a3ca9f85",
   "metadata": {},
   "outputs": [
    {
     "name": "stdout",
     "output_type": "stream",
     "text": [
      "Mean Absolute Error: 0.34\n",
      "Mean Squared Error: 0.81\n",
      "R-squared scores: 0.52\n"
     ]
    }
   ],
   "source": [
    "# Mean absolute error (MAE)\n",
    "mae = mean_absolute_error(Y_test, predictions)\n",
    "\n",
    "# Mean squared error (MSE)\n",
    "mse = mean_squared_error(Y_test, predictions)\n",
    "\n",
    "print('Mean Absolute Error:', round(mae, 2))\n",
    "print('Mean Squared Error:', round(mse, 2))\n",
    "print('R-squared scores:', round(r2, 2))"
   ]
  },
  {
   "cell_type": "markdown",
   "id": "7e9b71dd",
   "metadata": {},
   "source": [
    "Classification accuracy"
   ]
  },
  {
   "cell_type": "code",
   "execution_count": 139,
   "id": "8f7d2d60",
   "metadata": {},
   "outputs": [
    {
     "data": {
      "text/plain": [
       "0.8412162162162162"
      ]
     },
     "execution_count": 139,
     "metadata": {},
     "output_type": "execute_result"
    }
   ],
   "source": [
    "metrics.accuracy_score(Y_test, predictions)"
   ]
  },
  {
   "cell_type": "markdown",
   "id": "3c6cbabb",
   "metadata": {},
   "source": [
    "Null Accuracy"
   ]
  },
  {
   "cell_type": "code",
   "execution_count": 140,
   "id": "5e90ea0c",
   "metadata": {},
   "outputs": [
    {
     "data": {
      "text/plain": [
       "{0: 133, 1: 28, 2: 48, 3: 87}"
      ]
     },
     "execution_count": 140,
     "metadata": {},
     "output_type": "execute_result"
    }
   ],
   "source": [
    "unique, counts = numpy.unique(Y_test, return_counts=True)\n",
    "dict(zip(unique, counts))"
   ]
  },
  {
   "cell_type": "code",
   "execution_count": 141,
   "id": "48659b28",
   "metadata": {},
   "outputs": [
    {
     "data": {
      "text/plain": [
       "0.4594594594594595"
      ]
     },
     "execution_count": 141,
     "metadata": {},
     "output_type": "execute_result"
    }
   ],
   "source": [
    "136 / len(Y_test)"
   ]
  },
  {
   "cell_type": "markdown",
   "id": "1d0403ca",
   "metadata": {},
   "source": [
    "Sensitivity"
   ]
  },
  {
   "cell_type": "code",
   "execution_count": 142,
   "id": "e9ef4a4d",
   "metadata": {},
   "outputs": [
    {
     "data": {
      "text/plain": [
       "0.8412162162162162"
      ]
     },
     "execution_count": 142,
     "metadata": {},
     "output_type": "execute_result"
    }
   ],
   "source": [
    "metrics.recall_score(Y_test, predictions, average='micro')"
   ]
  },
  {
   "cell_type": "code",
   "execution_count": 143,
   "id": "c71d93bf",
   "metadata": {},
   "outputs": [
    {
     "name": "stdout",
     "output_type": "stream",
     "text": [
      "138\n"
     ]
    }
   ],
   "source": [
    "confusion = metrics.confusion_matrix(Y_test, clf.predict(X_test))\n",
    "TP = confusion[1,1] + confusion[2,2] + confusion[3,3]\n",
    "TN = confusion[0,0]\n",
    "FP = confusion[0,1] + confusion[0,2] + confusion[0,3] + confusion[1,2] + confusion[1,3] + confusion[2,3]\n",
    "FN = confusion[1,0] + confusion[2,0] + confusion[3,0] + confusion[2,1] + confusion[3,1] + confusion[3,2]\n",
    "print(TP)"
   ]
  },
  {
   "cell_type": "code",
   "execution_count": 144,
   "id": "388339c9",
   "metadata": {},
   "outputs": [
    {
     "name": "stdout",
     "output_type": "stream",
     "text": [
      "0.8283582089552238\n",
      "0.17164179104477612\n",
      "0.8571428571428571\n"
     ]
    }
   ],
   "source": [
    "#specificity\n",
    "print(TN / float(TN + FP))\n",
    "\n",
    "#false positive rate\n",
    "print(FP / float(TN + FP))\n",
    "\n",
    "#precision\n",
    "print(TP / float(TP + FP))"
   ]
  },
  {
   "cell_type": "markdown",
   "id": "ee1a1c1b",
   "metadata": {},
   "source": [
    "# Decision tree"
   ]
  },
  {
   "cell_type": "code",
   "execution_count": null,
   "id": "c8cda576",
   "metadata": {},
   "outputs": [],
   "source": [
    "X_tree = total[['score', 'fatigue', 'mood', 'sleep_duration_h', 'sleep_quality', 'stress', 'sleep_score', 'moderately_active_minutes', 'very_active_minutes', 'mean_score_past_7_days']]\n",
    "y_tree = total['target']\n",
    "target = total['target']\n",
    "target_names = ['enough', 'light', 'medium', 'high']\n",
    "\n",
    "X_train, X_test, Y_train, Y_test = train_test_split(X_tree, y_tree, test_size=0.2)\n",
    "\n",
    "clf = tree.DecisionTreeClassifier()\n",
    "clf = clf.fit(X_train, Y_train)"
   ]
  },
  {
   "cell_type": "code",
   "execution_count": null,
   "id": "6458db2a",
   "metadata": {},
   "outputs": [],
   "source": [
    "tree.plot_tree(clf)"
   ]
  },
  {
   "cell_type": "code",
   "execution_count": null,
   "id": "ace3ef66",
   "metadata": {},
   "outputs": [],
   "source": [
    "y_pred = clf.predict(X_test)\n",
    "print(\"Accuracy:\",metrics.accuracy_score(Y_test, y_pred))"
   ]
  },
  {
   "cell_type": "code",
   "execution_count": null,
   "id": "62943a59",
   "metadata": {},
   "outputs": [],
   "source": [
    "skplt.metrics.plot_confusion_matrix(Y_test, clf.predict(X_test), normalize=True, title = 'Confusion Matrix for GBC')"
   ]
  },
  {
   "cell_type": "code",
   "execution_count": null,
   "id": "c7d2bee4",
   "metadata": {},
   "outputs": [],
   "source": [
    "feature_importance = np.array(clf.feature_importances_)\n",
    "feature_names = np.array(['score', 'fatigue', 'mood', 'sleep_duration_h', 'sleep_quality', 'stress', 'sleep_score', 'moderately_active_minutes', 'very_active_minutes', 'mean_score_past_7_days'])\n",
    "\n",
    "data={'feature_names':feature_names,'feature_importance':feature_importance}\n",
    "fi_df = pd.DataFrame(data)\n",
    "fi_df.sort_values(by=['feature_importance'], ascending=False,inplace=True)\n",
    "\n",
    "#Define size of bar plot\n",
    "plt.figure(figsize=(10,8))\n",
    "\n",
    "#Plot Searborn bar chart\n",
    "sns.barplot(x=fi_df['feature_importance'], y=fi_df['feature_names'])\n",
    "\n",
    "#Add chart labels\n",
    "plt.title('FEATURE IMPORTANCE')\n",
    "plt.xlabel('FEATURE IMPORTANCE')\n",
    "plt.ylabel('FEATURE NAMES')\n",
    "\n",
    "plt.show()"
   ]
  },
  {
   "cell_type": "code",
   "execution_count": null,
   "id": "a0c4633b",
   "metadata": {},
   "outputs": [],
   "source": [
    "skplt.estimators.plot_learning_curve(LogisticRegression(), X, Y,\n",
    "                                     cv=7, shuffle=True, scoring=\"accuracy\",\n",
    "                                     n_jobs=-1, figsize=(6,4), title_fontsize=\"large\", text_fontsize=\"large\",\n",
    "                                     title=\"Digits Classification Learning Curve\");"
   ]
  },
  {
   "cell_type": "code",
   "execution_count": null,
   "id": "f47055c3",
   "metadata": {},
   "outputs": [],
   "source": [
    "lr_probas = LogisticRegression().fit(X_train, Y_train).predict_proba(X_test)\n",
    "rf_probas = RandomForestClassifier().fit(X_train, Y_train).predict_proba(X_test)\n",
    "gb_probas = GradientBoostingClassifier().fit(X_train, Y_train).predict_proba(X_test)\n",
    "et_scores = ExtraTreesClassifier().fit(X_train, Y_train).predict_proba(X_test)\n",
    "\n",
    "probas_list = [lr_probas, rf_probas, gb_probas, et_scores]\n",
    "clf_names = ['Logistic Regression', 'Random Forest', 'Gradient Boosting', 'Extra Trees Classifier']"
   ]
  },
  {
   "cell_type": "code",
   "execution_count": null,
   "id": "f25d83a5",
   "metadata": {},
   "outputs": [],
   "source": [
    "pca = PCA(random_state=1)\n",
    "pca.fit(X)\n",
    "\n",
    "skplt.decomposition.plot_pca_2d_projection(pca, X, Y,\n",
    "                                           figsize=(10,10),\n",
    "                                           cmap=\"tab10\");"
   ]
  },
  {
   "cell_type": "code",
   "execution_count": null,
   "id": "14aadee1",
   "metadata": {},
   "outputs": [],
   "source": [
    "from treeinterpreter import treeinterpreter as ti\n",
    "# fit a scikit-learn's regressor model\n",
    "rf = RandomForestRegressor()\n",
    "rf.fit(X_train, Y_train)\n",
    "\n",
    "prediction, bias, contributions = ti.predict(rf, X_test)"
   ]
  },
  {
   "cell_type": "code",
   "execution_count": null,
   "id": "d8937b59",
   "metadata": {},
   "outputs": [],
   "source": [
    "print(\"Test  R^2 Score : %.2f\"%rf.score(X_test, Y_test))\n",
    "print(\"Train R^2 Score : %.2f\"%rf.score(X_train, Y_train))"
   ]
  },
  {
   "cell_type": "code",
   "execution_count": null,
   "id": "e3f2347e",
   "metadata": {},
   "outputs": [],
   "source": [
    "rf_classif = RandomForestClassifier()\n",
    "rf_classif.fit(X_train, Y_train)\n",
    "\n",
    "print(\"Test  Accuracy : %.2f\"%rf_classif.score(X_test, Y_test))\n",
    "print(\"Train Accuracy : %.2f\"%rf_classif.score(X_train, Y_train))\n",
    "\n",
    "preds, bias, contributions = ti.predict(rf_classif, X_test)"
   ]
  },
  {
   "cell_type": "code",
   "execution_count": null,
   "id": "fd6f8c46",
   "metadata": {},
   "outputs": [],
   "source": [
    "import random\n",
    "\n",
    "random_sample = random.randint(1, len(X_test))\n",
    "print(\"Selected Sample     : %d\"%random_sample)\n",
    "print(\"Actual Target Value : %s\"%feature_names[Y_test[random_sample]])\n",
    "print(\"Predicted Value     : %s\"%feature_names[np.argmax(preds[random_sample])])\n",
    "\n",
    "contrib_df = create_contrbutions_df(contributions, random_sample, feature_names)\n",
    "contrib_df"
   ]
  },
  {
   "cell_type": "code",
   "execution_count": null,
   "id": "e50544f9",
   "metadata": {},
   "outputs": [],
   "source": [
    "contrib_df = create_contrbutions_df(contributions, random_sample, feature_names)\n",
    "contrib_df"
   ]
  },
  {
   "cell_type": "markdown",
   "id": "ca2ecb02",
   "metadata": {},
   "source": [
    "# Decision Tree Regressor"
   ]
  },
  {
   "cell_type": "code",
   "execution_count": null,
   "id": "531b447d",
   "metadata": {},
   "outputs": [],
   "source": [
    "clf = tree.DecisionTreeRegressor()\n",
    "clf = clf.fit(X_train, Y_train)"
   ]
  },
  {
   "cell_type": "code",
   "execution_count": null,
   "id": "a2ea3228",
   "metadata": {},
   "outputs": [],
   "source": [
    "y_pred = clf.predict(X_test)\n",
    "print(\"Accuracy:\",metrics.accuracy_score(Y_test, y_pred))"
   ]
  },
  {
   "cell_type": "code",
   "execution_count": null,
   "id": "d2fc677f",
   "metadata": {},
   "outputs": [],
   "source": [
    "skplt.metrics.plot_confusion_matrix(Y_test, clf.predict(X_test), normalize=True, title = 'Confusion Matrix for GBC')"
   ]
  },
  {
   "cell_type": "code",
   "execution_count": null,
   "id": "e887bfc8",
   "metadata": {},
   "outputs": [],
   "source": [
    "feature_importance = np.array(clf.feature_importances_)\n",
    "feature_names = np.array(['score', 'fatigue', 'mood', 'sleep_duration_h', 'sleep_quality', 'stress', 'sleep_score', 'moderately_active_minutes', 'very_active_minutes', 'mean_score_past_7_days'])\n",
    "\n",
    "data={'feature_names':feature_names,'feature_importance':feature_importance}\n",
    "fi_df = pd.DataFrame(data)\n",
    "fi_df.sort_values(by=['feature_importance'], ascending=False,inplace=True)\n",
    "\n",
    "#Define size of bar plot\n",
    "plt.figure(figsize=(10,8))\n",
    "\n",
    "#Plot Searborn bar chart\n",
    "sns.barplot(x=fi_df['feature_importance'], y=fi_df['feature_names'])\n",
    "\n",
    "#Add chart labels\n",
    "plt.title('FEATURE IMPORTANCE')\n",
    "plt.xlabel('FEATURE IMPORTANCE')\n",
    "plt.ylabel('FEATURE NAMES')\n",
    "\n",
    "plt.show()"
   ]
  },
  {
   "cell_type": "code",
   "execution_count": null,
   "id": "a7d05fa4",
   "metadata": {},
   "outputs": [],
   "source": [
    "total.head(10)"
   ]
  }
 ],
 "metadata": {
  "kernelspec": {
   "display_name": "Python 3 (ipykernel)",
   "language": "python",
   "name": "python3"
  },
  "language_info": {
   "codemirror_mode": {
    "name": "ipython",
    "version": 3
   },
   "file_extension": ".py",
   "mimetype": "text/x-python",
   "name": "python",
   "nbconvert_exporter": "python",
   "pygments_lexer": "ipython3",
   "version": "3.9.12"
  }
 },
 "nbformat": 4,
 "nbformat_minor": 5
}
